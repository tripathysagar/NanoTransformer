{
 "cells": [
  {
   "cell_type": "markdown",
   "metadata": {},
   "source": [
    "# Data\n",
    "\n",
    "> Create dataloader"
   ]
  },
  {
   "cell_type": "code",
   "execution_count": 1,
   "metadata": {},
   "outputs": [],
   "source": [
    "#| default_exp data"
   ]
  },
  {
   "cell_type": "code",
   "execution_count": 2,
   "metadata": {},
   "outputs": [],
   "source": [
    "#|export \n",
    "from fastcore.all import *\n",
    "path = Path('../static')\n",
    "path.mkdir(exist_ok=True)"
   ]
  },
  {
   "cell_type": "code",
   "execution_count": 3,
   "metadata": {},
   "outputs": [],
   "source": [
    "#| hide\n",
    "from nbdev.showdoc import *"
   ]
  },
  {
   "cell_type": "markdown",
   "metadata": {},
   "source": [
    "## Text data\n",
    "The text is taken from [Karpathy's nanogpt](https://github.com/karpathy/build-nanogpt) ."
   ]
  },
  {
   "cell_type": "code",
   "execution_count": 4,
   "metadata": {},
   "outputs": [
    {
     "data": {
      "text/plain": [
       "Path('../static/input.txt')"
      ]
     },
     "execution_count": 4,
     "metadata": {},
     "output_type": "execute_result"
    }
   ],
   "source": [
    "#|export \n",
    "urlsave(\"https://raw.githubusercontent.com/karpathy/build-nanogpt/refs/heads/master/input.txt\", path) "
   ]
  },
  {
   "cell_type": "markdown",
   "metadata": {},
   "source": [
    "### Tokenizer\n",
    "Maps each char to unique index. It have some key attributes i.e.\n",
    "1. **voacb**: where it maped to all the char present text field\n",
    "1. **encode**: to encode given string to list of tokens\n",
    "1. **decode**: to decode given tokens to str\n",
    "1. **c2i** and **i2c**: helper function to convert char to tokens and tokens to char respectively"
   ]
  },
  {
   "cell_type": "code",
   "execution_count": 5,
   "metadata": {},
   "outputs": [
    {
     "name": "stdout",
     "output_type": "stream",
     "text": [
      "After reading file got the vocab of shape : 65\n"
     ]
    }
   ],
   "source": [
    "#|export\n",
    "from typing import List\n",
    "class Tokenizer:\n",
    "    def __init__(self):\n",
    "        self.setup_vocab()\n",
    "\n",
    "    def setup_vocab(self):\n",
    "        with open(path/'input.txt', 'r') as file:\n",
    "            self.txt = file.read()\n",
    "\n",
    "        self.vocab = sorted(list(set(list(self.txt))))\n",
    "        print(f\"After reading file got the vocab of shape : {len(self.vocab)}\")\n",
    "\n",
    "    def c2i(self, ch:str) -> int:\n",
    "        \"\"\"\n",
    "        returns index of char ch from vocab\n",
    "        \"\"\"\n",
    "        return self.vocab.index(ch)\n",
    "\n",
    "    def i2c(self, idx:int) -> str:\n",
    "        \"\"\"\n",
    "        returns char from vocab given index\n",
    "        \"\"\"\n",
    "        return self.vocab[idx]\n",
    "\n",
    "    def encode(self, inp:str) -> List[int]:\n",
    "        \"\"\"\n",
    "        returns the encoded string\n",
    "        \"\"\"\n",
    "        return [self.c2i(i) for i in inp]\n",
    "\n",
    "    def decode(self, inp:List[int]) -> str:\n",
    "        \"\"\"\n",
    "        returns the string represntation of the\n",
    "        \"\"\"\n",
    "        return ''.join([self.i2c(i) for i in inp])\n",
    "\n",
    "tokenizer = Tokenizer()"
   ]
  },
  {
   "cell_type": "code",
   "execution_count": 6,
   "metadata": {},
   "outputs": [],
   "source": [
    "s = 'abc'\n",
    "assert tokenizer.decode(tokenizer.encode(s))  == s"
   ]
  },
  {
   "cell_type": "markdown",
   "metadata": {},
   "source": [
    "The tokenizer is loss less."
   ]
  },
  {
   "cell_type": "markdown",
   "metadata": {},
   "source": [
    "### DataLoader\n",
    "The Dataset should be of **non-overlapping chunks**:\n",
    "1. `__init__` - store the encoded text and config (seq_len, etc.)\n",
    "1. `__len__`: return `len(encoded_text) // seq_len - 1` (divide, not subtract)\n",
    "1. `__getitem__`: use `idx * seq_len` as the starting position"
   ]
  },
  {
   "cell_type": "code",
   "execution_count": 7,
   "metadata": {},
   "outputs": [],
   "source": [
    "#|export\n",
    "import torch\n",
    "from torch.utils.data import Dataset, DataLoader\n",
    "\n",
    "class GPTDataset(Dataset):\n",
    "    def __init__(self, text, seq_len:int):\n",
    "        self.text = text\n",
    "        self.seq_len = seq_len\n",
    "        self.encoded_text = tokenizer.encode(text)\n",
    "\n",
    "    def __len__(self):\n",
    "        return len(self.encoded_text) // self.seq_len -1\n",
    "\n",
    "    def __getitem__(self, idx):\n",
    "        inp = self.encoded_text[idx * self.seq_len : (idx + 1) * self.seq_len]\n",
    "        op = self.encoded_text[idx * self.seq_len + 1 : (idx + 1) * self.seq_len + 1]\n",
    "        return torch.tensor(inp), torch.tensor(op)"
   ]
  },
  {
   "cell_type": "code",
   "execution_count": 8,
   "metadata": {},
   "outputs": [],
   "source": [
    "#|export\n",
    "def get_text_dl(bs:int=64, seq_len:int=128):\n",
    "    split_idx = int(len(tokenizer.txt) * 0.9)                         #split text with 9:\n",
    "    train_dataset = GPTDataset(tokenizer.txt[:split_idx], seq_len )\n",
    "    val_dataset = GPTDataset(tokenizer.txt[split_idx:], seq_len)\n",
    "\n",
    "    return {\n",
    "        'train': DataLoader(train_dataset, batch_size=bs, shuffle=True),\n",
    "        'valid': DataLoader(val_dataset, batch_size=bs, shuffle=False)\n",
    "    }"
   ]
  },
  {
   "cell_type": "code",
   "execution_count": 9,
   "metadata": {},
   "outputs": [],
   "source": [
    "dl = get_text_dl()\n",
    "for x, y in dl['train']:\n",
    "    break\n",
    "assert x.shape == y.shape"
   ]
  },
  {
   "cell_type": "code",
   "execution_count": 12,
   "metadata": {},
   "outputs": [
    {
     "data": {
      "text/plain": [
       "(tensor([ 0, 14, 63,  1, 57, 59, 41, 46,  1, 42]),\n",
       " tensor([14, 63,  1, 57, 59, 41, 46,  1, 42, 43]))"
      ]
     },
     "execution_count": 12,
     "metadata": {},
     "output_type": "execute_result"
    }
   ],
   "source": [
    "x[0, :10], y[0,:10]"
   ]
  },
  {
   "cell_type": "code",
   "execution_count": 10,
   "metadata": {},
   "outputs": [],
   "source": [
    "#| hide\n",
    "import nbdev; nbdev.nbdev_export()"
   ]
  },
  {
   "cell_type": "code",
   "execution_count": null,
   "metadata": {},
   "outputs": [],
   "source": []
  }
 ],
 "metadata": {
  "kernelspec": {
   "display_name": "base",
   "language": "python",
   "name": "python3"
  },
  "language_info": {
   "codemirror_mode": {
    "name": "ipython",
    "version": 3
   },
   "file_extension": ".py",
   "mimetype": "text/x-python",
   "name": "python",
   "nbconvert_exporter": "python",
   "pygments_lexer": "ipython3",
   "version": "3.13.7"
  }
 },
 "nbformat": 4,
 "nbformat_minor": 4
}
