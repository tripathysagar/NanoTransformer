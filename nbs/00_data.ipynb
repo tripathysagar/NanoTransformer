{
 "cells": [
  {
   "cell_type": "raw",
   "id": "493304e8",
   "metadata": {
    "vscode": {
     "languageId": "raw"
    }
   },
   "source": [
    "---\n",
    "description: Create dataloader\n",
    "output-file: data.html\n",
    "title: Data\n",
    "---"
   ]
  },
  {
   "cell_type": "code",
   "execution_count": 1,
   "id": "b54e835b",
   "metadata": {},
   "outputs": [],
   "source": [
    "#| default_exp data"
   ]
  },
  {
   "cell_type": "code",
   "execution_count": 2,
   "id": "d6c397f7",
   "metadata": {},
   "outputs": [],
   "source": [
    "#|export \n",
    "from fastcore.all import *\n",
    "path = Path('../static')\n",
    "path.mkdir(exist_ok=True)"
   ]
  },
  {
   "cell_type": "code",
   "execution_count": 3,
   "id": "6a688921",
   "metadata": {},
   "outputs": [],
   "source": [
    "#| hide\n",
    "from nbdev.showdoc import *"
   ]
  },
  {
   "cell_type": "markdown",
   "id": "723ce9f0",
   "metadata": {},
   "source": [
    "## Text Data Pipeline:\n",
    "\n",
    "1. Downloaded Shakespeare text data, from [Karpathy's nanogpt](https://github.com/karpathy/build-nanogpt) \n",
    "1. Built a character-level Tokenizer (65 unique chars)\n",
    "1. Created GPTDataset for non-overlapping sequence chunks\n",
    "1. Made get_text_dl() function returning train/valid dataloaders with 90/10 split\n"
   ]
  },
  {
   "cell_type": "code",
   "execution_count": 4,
   "id": "6a770a75",
   "metadata": {},
   "outputs": [
    {
     "data": {
      "text/plain": [
       "Path('../static/input.txt')"
      ]
     },
     "execution_count": 4,
     "metadata": {},
     "output_type": "execute_result"
    }
   ],
   "source": [
    "#|export \n",
    "urlsave(\"https://raw.githubusercontent.com/karpathy/build-nanogpt/refs/heads/master/input.txt\", path) "
   ]
  },
  {
   "cell_type": "code",
   "execution_count": 5,
   "id": "8738065d",
   "metadata": {},
   "outputs": [],
   "source": [
    "#|export\n",
    "from typing import List\n",
    "class Tokenizer:\n",
    "    \"\"\"\n",
    "    Maps each char to unique index. It have some key attributes i.e.\n",
    "    1. **voacb**: where it maped to all the char present text field\n",
    "    1. **encode**: to encode given string to list of tokens\n",
    "    1. **decode**: to decode given tokens to str\n",
    "    1. **c2i** and **i2c**: helper function to convert char to tokens and tokens to char respectively\n",
    "    \"\"\"\n",
    "    def __init__(self):\n",
    "        self.setup_vocab()\n",
    "\n",
    "    def setup_vocab(self):\n",
    "        with open(path/'input.txt', 'r') as file:\n",
    "            self.txt = file.read()\n",
    "\n",
    "        self.vocab = sorted(list(set(list(self.txt))))\n",
    "        #print(f\"After reading file got the vocab of shape : {len(self.vocab)}\")\n",
    "\n",
    "    def c2i(self, ch:str) -> int:\n",
    "        \"\"\"\n",
    "        returns index of char ch from vocab\n",
    "        \"\"\"\n",
    "        return self.vocab.index(ch)\n",
    "\n",
    "    def i2c(self, idx:int) -> str:\n",
    "        \"\"\"\n",
    "        returns char from vocab given index\n",
    "        \"\"\"\n",
    "        return self.vocab[idx]\n",
    "\n",
    "    def encode(self, inp:str) -> List[int]:\n",
    "        \"\"\"\n",
    "        returns the encoded string\n",
    "        \"\"\"\n",
    "        return [self.c2i(i) for i in inp]\n",
    "\n",
    "    def decode(self, inp:List[int]) -> str:\n",
    "        \"\"\"\n",
    "        returns the string represntation of the\n",
    "        \"\"\"\n",
    "        return ''.join([self.i2c(i) for i in inp])\n",
    "\n",
    "tokenizer = Tokenizer()"
   ]
  },
  {
   "cell_type": "code",
   "execution_count": 6,
   "id": "5f5ae350",
   "metadata": {},
   "outputs": [],
   "source": [
    "s = 'abc'\n",
    "assert tokenizer.decode(tokenizer.encode(s))  == s"
   ]
  },
  {
   "cell_type": "markdown",
   "id": "e89b6d63",
   "metadata": {},
   "source": [
    "The tokenizer is loss less."
   ]
  },
  {
   "cell_type": "markdown",
   "id": "cd0b3d0a",
   "metadata": {},
   "source": [
    "### DataLoader\n",
    "The Dataset should be of **non-overlapping chunks**:\n",
    "1. `__init__` - store the encoded text and config (seq_len, etc.)\n",
    "1. `__len__`: return `len(encoded_text) // seq_len - 1` (divide, not subtract)\n",
    "1. `__getitem__`: use `idx * seq_len` as the starting position"
   ]
  },
  {
   "cell_type": "code",
   "execution_count": 7,
   "id": "0094a0cb",
   "metadata": {},
   "outputs": [],
   "source": [
    "#|export\n",
    "#|hide\n",
    "import torch\n",
    "from torch.utils.data import Dataset, DataLoader\n",
    "\n",
    "class GPTDataset(Dataset):\n",
    "    def __init__(self, text, seq_len:int):\n",
    "        self.text = text\n",
    "        self.seq_len = seq_len\n",
    "        self.encoded_text = tokenizer.encode(text)\n",
    "\n",
    "    def __len__(self):\n",
    "        return len(self.encoded_text) // self.seq_len -1\n",
    "\n",
    "    def __getitem__(self, idx):\n",
    "        inp = self.encoded_text[idx * self.seq_len : (idx + 1) * self.seq_len]\n",
    "        op = self.encoded_text[idx * self.seq_len + 1 : (idx + 1) * self.seq_len + 1]\n",
    "        return torch.tensor(inp), torch.tensor(op)"
   ]
  },
  {
   "cell_type": "code",
   "execution_count": 8,
   "id": "d8b82d92",
   "metadata": {},
   "outputs": [],
   "source": [
    "#|export\n",
    "def get_text_dl(bs:int=64, seq_len:int=128):\n",
    "    split_idx = int(len(tokenizer.txt) * 0.9)                         #split text with 9:\n",
    "    train_dataset = GPTDataset(tokenizer.txt[:split_idx], seq_len )\n",
    "    val_dataset = GPTDataset(tokenizer.txt[split_idx:], seq_len)\n",
    "\n",
    "    return {\n",
    "        'train': DataLoader(train_dataset, batch_size=bs, shuffle=True),\n",
    "        'valid': DataLoader(val_dataset, batch_size=bs, shuffle=False)\n",
    "    }"
   ]
  },
  {
   "cell_type": "code",
   "execution_count": 9,
   "id": "4de9e9f1",
   "metadata": {},
   "outputs": [],
   "source": [
    "dl = get_text_dl()\n",
    "for x, y in dl['train']:\n",
    "    break\n",
    "assert x.shape == y.shape"
   ]
  },
  {
   "cell_type": "code",
   "execution_count": 10,
   "id": "530a04bb",
   "metadata": {},
   "outputs": [
    {
     "data": {
      "text/plain": [
       "(tensor([59, 51, 40, 50, 43,  1, 57, 59, 54, 54]),\n",
       " tensor([51, 40, 50, 43,  1, 57, 59, 54, 54, 50]))"
      ]
     },
     "execution_count": 10,
     "metadata": {},
     "output_type": "execute_result"
    }
   ],
   "source": [
    "x[0, :10], y[0,:10]"
   ]
  },
  {
   "cell_type": "markdown",
   "id": "05cf786d",
   "metadata": {},
   "source": [
    "## Vision Fashion MNIST\n",
    "\n",
    "**Steps:**\n",
    "\n",
    "1. **Define transforms** - Convert images to tensors, normalize if needed\n",
    "\n",
    "1. **Load Fashion MNIST dataset** - Use `torchvision.datasets.FashionMNIST()` for train and test splits\n",
    "\n",
    "1. **Create DataLoaders** - Wrap datasets with DataLoader, set batch_size and shuffle=True for training\n",
    "\n",
    "1. **Verify** - Check one batch to confirm shape (bs, 1, 28, 28) and labels (0-9)\n",
    "\n",
    "\n"
   ]
  },
  {
   "cell_type": "code",
   "execution_count": 11,
   "id": "429404d1",
   "metadata": {},
   "outputs": [
    {
     "data": {
      "text/plain": [
       "Dataset FashionMNIST\n",
       "    Number of datapoints: 60000\n",
       "    Root location: ../static\n",
       "    Split: Train"
      ]
     },
     "execution_count": 11,
     "metadata": {},
     "output_type": "execute_result"
    }
   ],
   "source": [
    "#| export\n",
    "from torchvision import datasets, transforms\n",
    "datasets.FashionMNIST(path, download=True)"
   ]
  },
  {
   "cell_type": "code",
   "execution_count": 12,
   "id": "3651ece1",
   "metadata": {},
   "outputs": [
    {
     "data": {
      "text/plain": [
       "(#2) [Path('../static/input.txt'),Path('../static/FashionMNIST')]"
      ]
     },
     "execution_count": 12,
     "metadata": {},
     "output_type": "execute_result"
    }
   ],
   "source": [
    "path.ls()"
   ]
  },
  {
   "cell_type": "code",
   "execution_count": 13,
   "id": "ae3fdf52",
   "metadata": {},
   "outputs": [],
   "source": [
    "#|export \n",
    "import numpy as np\n",
    "import matplotlib.pyplot as plt\n",
    "\n",
    "def show_images(im, label=None, figsize=(3,3)):  # Increase size\n",
    "    fig, ax = plt.subplots(1, 1, figsize=figsize)\n",
    "    \n",
    "    if isinstance(im, torch.Tensor):\n",
    "        if im.shape[0] == 1:\n",
    "            im = im.squeeze(0)\n",
    "        elif im.shape[0] == 3:\n",
    "            im = im.permute(1, 2, 0)\n",
    "        im = im.numpy()\n",
    "\n",
    "    ax.imshow(im, cmap='gray')\n",
    "    if label: ax.set_title(f\"Label: {label}\")\n",
    "    ax.axis('off')\n",
    "    \n",
    "    plt.show()  # Remove tight_layout()"
   ]
  },
  {
   "cell_type": "code",
   "execution_count": 14,
   "id": "e93ccb4b",
   "metadata": {},
   "outputs": [
    {
     "data": {
      "text/plain": [
       "(torch.Tensor, 9)"
      ]
     },
     "execution_count": 14,
     "metadata": {},
     "output_type": "execute_result"
    }
   ],
   "source": [
    "train_ds = datasets.FashionMNIST(path, train=True, transform=transforms.ToTensor())\n",
    "valid_ds = datasets.FashionMNIST(path, transform=transforms.ToTensor())\n",
    "im, lbl = train_ds[0]\n",
    "type(im), lbl"
   ]
  },
  {
   "cell_type": "code",
   "execution_count": 15,
   "id": "d635dd78",
   "metadata": {},
   "outputs": [],
   "source": [
    "train_dl = DataLoader(train_ds, batch_size=32, shuffle=True)\n",
    "valid_dl = DataLoader(valid_ds, batch_size=32)"
   ]
  },
  {
   "cell_type": "code",
   "execution_count": 16,
   "id": "689688c6",
   "metadata": {},
   "outputs": [],
   "source": [
    "for x, y in train_dl:\n",
    "    break"
   ]
  },
  {
   "cell_type": "code",
   "execution_count": 17,
   "id": "a908fada",
   "metadata": {},
   "outputs": [
    {
     "data": {
      "text/plain": [
       "60000"
      ]
     },
     "execution_count": 17,
     "metadata": {},
     "output_type": "execute_result"
    }
   ],
   "source": [
    "len(valid_ds)"
   ]
  },
  {
   "cell_type": "code",
   "execution_count": 18,
   "id": "9cb60c2d",
   "metadata": {},
   "outputs": [
    {
     "data": {
      "image/png": "[encoded data removed]",
      "text/plain": [
       "<Figure size 300x300 with 1 Axes>"
      ]
     },
     "metadata": {},
     "output_type": "display_data"
    }
   ],
   "source": [
    "show_images(*valid_ds[-1])"
   ]
  },
  {
   "cell_type": "markdown",
   "id": "761230c7",
   "metadata": {},
   "source": [
    "A helper function for retruning fashion mnist classification data"
   ]
  },
  {
   "cell_type": "code",
   "execution_count": 19,
   "id": "6d54046d",
   "metadata": {},
   "outputs": [],
   "source": [
    "#|export\n",
    "def get_vision_classifier_dl(bs:int=64):\n",
    "    im_path = path/'FashionMNIST'\n",
    "\n",
    "    train_ds = datasets.FashionMNIST(im_path, download=True, train=True, transform=transforms.ToTensor())\n",
    "    valid_ds = datasets.FashionMNIST(im_path, download=True, transform=transforms.ToTensor())\n",
    "\n",
    "    return {\n",
    "        'train': DataLoader(train_ds, batch_size=bs, shuffle=True),\n",
    "        'valid': DataLoader(valid_ds, batch_size=bs)\n",
    "    }"
   ]
  },
  {
   "cell_type": "code",
   "execution_count": 20,
   "id": "bf82520a",
   "metadata": {},
   "outputs": [
    {
     "data": {
      "text/plain": [
       "(torch.Size([64, 1, 28, 28]), torch.Size([64]))"
      ]
     },
     "execution_count": 20,
     "metadata": {},
     "output_type": "execute_result"
    }
   ],
   "source": [
    "dl = get_vision_classifier_dl()\n",
    "for x, y in dl['valid']:\n",
    "    break\n",
    "x.shape, y.shape"
   ]
  },
  {
   "cell_type": "code",
   "execution_count": 21,
   "id": "4871214e",
   "metadata": {},
   "outputs": [
    {
     "data": {
      "image/png": "[encoded data removed]",
      "text/plain": [
       "<Figure size 300x300 with 1 Axes>"
      ]
     },
     "metadata": {},
     "output_type": "display_data"
    }
   ],
   "source": [
    "show_images(x[-1], y[-1])"
   ]
  },
  {
   "cell_type": "markdown",
   "id": "5cebea93",
   "metadata": {},
   "source": [
    "### Generate Synthetic Captions\n",
    "\n",
    "- Image captioning descriptions for Fashion MNIST\n",
    "- Examples: \"ankle boot\", \"pullover sweater\", \"sneaker\"\n",
    "- Character-level format"
   ]
  },
  {
   "cell_type": "code",
   "execution_count": 22,
   "id": "1751295b",
   "metadata": {},
   "outputs": [],
   "source": [
    "#|export\n",
    "# captions of MNIST data\n",
    "captions = {\n",
    "    0: [\"t-shirt\", \"tee shirt\", \"tee\", \"short sleeve shirt\", \"casual shirt\", \n",
    "        \"cotton tee\", \"basic tee\", \"crew neck shirt\", \"top\", \"shirt\",\n",
    "        \"simple tee\", \"everyday shirt\", \"round neck tee\", \"plain tee\", \"short sleeve top\",\n",
    "        \"casual top\", \"basic shirt\", \"t shirt\", \"crew tee\", \"cotton shirt\"],\n",
    "    \n",
    "    1: [\"trouser\", \"trousers\", \"pants\", \"slacks\", \"dress pants\",\n",
    "        \"long pants\", \"formal pants\", \"casual pants\", \"bottoms\", \"leg wear\",\n",
    "        \"straight pants\", \"fitted pants\", \"work pants\", \"everyday pants\", \"pant\",\n",
    "        \"classic trousers\", \"regular pants\", \"full length pants\", \"basic pants\", \"standard trousers\"],\n",
    "    \n",
    "    2: [\"pullover\", \"sweater\", \"jumper\", \"knit sweater\", \"warm sweater\",\n",
    "        \"pullover sweater\", \"casual sweater\", \"knitted top\", \"knitwear\", \"woolen top\",\n",
    "        \"crew neck sweater\", \"basic pullover\", \"winter top\", \"cozy sweater\", \"knit top\",\n",
    "        \"long sleeve sweater\", \"casual pullover\", \"everyday sweater\", \"simple sweater\", \"pullover top\"],\n",
    "    \n",
    "    3: [\"dress\", \"frock\", \"gown\", \"one piece dress\", \"casual dress\",\n",
    "        \"simple dress\", \"everyday dress\", \"summer dress\", \"day dress\", \"basic dress\",\n",
    "        \"long dress\", \"short dress\", \"women's dress\", \"classic dress\", \"plain dress\",\n",
    "        \"fitted dress\", \"loose dress\", \"comfortable dress\", \"standard dress\", \"regular dress\"],\n",
    "    \n",
    "    4: [\"coat\", \"jacket\", \"overcoat\", \"long coat\", \"winter coat\",\n",
    "        \"warm coat\", \"outer wear\", \"heavy jacket\", \"formal coat\", \"trench coat\",\n",
    "        \"long jacket\", \"full coat\", \"winter jacket\", \"outerwear\", \"layering piece\",\n",
    "        \"cold weather coat\", \"classic coat\", \"tailored coat\", \"button coat\", \"dress coat\"],\n",
    "    \n",
    "    5: [\"sandal\", \"sandals\", \"open toe shoe\", \"summer shoe\", \"casual sandal\",\n",
    "        \"flat sandal\", \"beach sandal\", \"simple sandal\", \"everyday sandal\", \"comfortable sandal\",\n",
    "        \"strappy sandal\", \"basic sandal\", \"slip on sandal\", \"warm weather shoe\", \"open shoe\",\n",
    "        \"light sandal\", \"walking sandal\", \"casual footwear\", \"easy sandal\", \"relaxed sandal\"],\n",
    "    \n",
    "    6: [\"shirt\", \"button shirt\", \"dress shirt\", \"collared shirt\", \"formal shirt\",\n",
    "        \"long sleeve shirt\", \"casual shirt\", \"button up\", \"button down\", \"work shirt\",\n",
    "        \"everyday shirt\", \"classic shirt\", \"plain shirt\", \"simple shirt\", \"standard shirt\",\n",
    "        \"fitted shirt\", \"regular shirt\", \"basic shirt\", \"office shirt\", \"collar shirt\"],\n",
    "    \n",
    "    7: [\"sneaker\", \"sneakers\", \"trainer\", \"running shoe\", \"athletic shoe\",\n",
    "        \"sport shoe\", \"casual sneaker\", \"tennis shoe\", \"gym shoe\", \"walking shoe\",\n",
    "        \"everyday sneaker\", \"comfortable sneaker\", \"trainers\", \"sports sneaker\", \"active shoe\",\n",
    "        \"rubber shoe\", \"lace up sneaker\", \"low top sneaker\", \"basic sneaker\", \"street shoe\"],\n",
    "    \n",
    "    8: [\"bag\", \"handbag\", \"purse\", \"shoulder bag\", \"tote bag\",\n",
    "        \"carry bag\", \"everyday bag\", \"casual bag\", \"hand bag\", \"fashion bag\",\n",
    "        \"women's bag\", \"shopping bag\", \"simple bag\", \"basic bag\", \"travel bag\",\n",
    "        \"carryall\", \"satchel\", \"daily bag\", \"practical bag\", \"accessory bag\"],\n",
    "    \n",
    "    9: [\"ankle boot\", \"boot\", \"short boot\", \"bootie\", \"ankle bootie\",\n",
    "        \"low boot\", \"casual boot\", \"everyday boot\", \"simple boot\", \"leather boot\",\n",
    "        \"walking boot\", \"comfortable boot\", \"fitted boot\", \"standard boot\", \"basic boot\",\n",
    "        \"ankle high boot\", \"short ankle boot\", \"classic boot\", \"urban boot\", \"stylish boot\"]\n",
    "}"
   ]
  },
  {
   "cell_type": "code",
   "execution_count": 23,
   "id": "e55a6507",
   "metadata": {},
   "outputs": [],
   "source": [
    "all_chars = set(''.join([caption for v in captions.values() for caption in v]))\n",
    "assert all([i in tokenizer.vocab for i in all_chars])"
   ]
  },
  {
   "cell_type": "code",
   "execution_count": 24,
   "id": "14a25a96",
   "metadata": {},
   "outputs": [],
   "source": [
    "#|export\n",
    "import random\n",
    "assert set([len(i) for i in captions.values()]) == {len(captions[0])}\n",
    "rand_lbl = lambda : random.randint(0, len(captions[0])-1)"
   ]
  },
  {
   "cell_type": "code",
   "execution_count": 25,
   "id": "73ad4396",
   "metadata": {},
   "outputs": [
    {
     "data": {
      "text/plain": [
       "13"
      ]
     },
     "execution_count": 25,
     "metadata": {},
     "output_type": "execute_result"
    }
   ],
   "source": [
    "rand_lbl()"
   ]
  },
  {
   "cell_type": "markdown",
   "id": "e6875446",
   "metadata": {},
   "source": [
    "#### Dataset for Fashion MNIST\n",
    "\n",
    "Key methods to implement:\n",
    "\n",
    "1. __init__: Load Fashion MNIST, store captions dict and tokenizer\n",
    "1. __len__: Return dataset size\n",
    "1. __getitem__: Gets image, randomly picks caption from the class, tokenizes, and returns:\n",
    "    - Input: tokens[:-1] (0 to n-1)\n",
    "    - Target: tokens[1:] (1 to n)"
   ]
  },
  {
   "cell_type": "code",
   "execution_count": 33,
   "id": "ea14ee87",
   "metadata": {},
   "outputs": [],
   "source": [
    "#|export\n",
    "class MNISTDataset(Dataset):\n",
    "    def __init__(self, tokenizer, fn_path:Path, split='train', captions=captions):\n",
    "        self.tokenizer = tokenizer\n",
    "        self.captions = captions\n",
    "        self.ds = datasets.FashionMNIST(fn_path, train=split == 'train', transform=transforms.ToTensor())\n",
    "\n",
    "    def __len__(self):\n",
    "        return len(self.ds)\n",
    "\n",
    "    def __getitem__(self, idx):\n",
    "        im, lbl = self.ds[idx]\n",
    "        caption = self.captions[lbl][rand_lbl()] + '\\n'         # Add '\\n' here showing eos for the caption data\n",
    "        tokens = torch.tensor(self.tokenizer.encode(caption))\n",
    "\n",
    "        # Create input and target sequences\n",
    "        input_tokens = tokens[:-1]\n",
    "        target_tokens = tokens\n",
    "\n",
    "        return im, input_tokens, target_tokens"
   ]
  },
  {
   "cell_type": "code",
   "execution_count": 34,
   "id": "57ff8118",
   "metadata": {},
   "outputs": [
    {
     "data": {
      "text/plain": [
       "(torch.Size([1, 28, 28]),\n",
       " tensor([61, 39, 50, 49, 47, 52, 45,  1, 40, 53, 53, 58]),\n",
       " tensor([61, 39, 50, 49, 47, 52, 45,  1, 40, 53, 53, 58,  0]))"
      ]
     },
     "execution_count": 34,
     "metadata": {},
     "output_type": "execute_result"
    }
   ],
   "source": [
    "train_ds = MNISTDataset(tokenizer, path)\n",
    "im, lbl_inp, lbl_tgt = train_ds[0]\n",
    "im.shape, lbl_inp, lbl_tgt"
   ]
  },
  {
   "cell_type": "code",
   "execution_count": 41,
   "id": "11d4d912-56d3-461c-93dc-2d124f5203d3",
   "metadata": {},
   "outputs": [
    {
     "data": {
      "text/plain": [
       "('walking boot', 'walking boot\\n')"
      ]
     },
     "execution_count": 41,
     "metadata": {},
     "output_type": "execute_result"
    }
   ],
   "source": [
    "tokenizer.decode(lbl_inp), tokenizer.decode(lbl_tgt)"
   ]
  },
  {
   "cell_type": "code",
   "execution_count": 42,
   "id": "c5d12bfb",
   "metadata": {},
   "outputs": [
    {
     "data": {
      "image/png": "[encoded data removed]",
      "text/plain": [
       "<Figure size 300x300 with 1 Axes>"
      ]
     },
     "metadata": {},
     "output_type": "display_data"
    }
   ],
   "source": [
    "show_images(im, f\"Input: {tokenizer.decode(lbl_inp)}\\nTarget: {tokenizer.decode(lbl_tgt)}\")"
   ]
  },
  {
   "cell_type": "code",
   "execution_count": 36,
   "id": "7e399f68",
   "metadata": {},
   "outputs": [],
   "source": [
    "#|export\n",
    "from torch.nn.utils.rnn import pad_sequence\n",
    "\n",
    "def collate_fn_multimodal(batch):\n",
    "    \"\"\"Collate function to handle variable length sequences\"\"\"\n",
    "    images, input_seqs, target_seqs = zip(*batch)\n",
    "    \n",
    "    # Stack images\n",
    "    images = torch.stack(images)\n",
    "    \n",
    "    # Pad input and target sequences\n",
    "    input_seqs_padded = pad_sequence(input_seqs, batch_first=True, padding_value=0)\n",
    "    target_seqs_padded = pad_sequence(target_seqs, batch_first=True, padding_value=0)\n",
    "    \n",
    "    return images, input_seqs_padded, target_seqs_padded\n",
    "\n",
    "# Updated dataloader function\n",
    "def get_mnist_caption_dl(tokenizer, fn_path, batch_size=64):\n",
    "    \"\"\"\n",
    "    Creates train and validation dataloaders for Fashion MNIST with captions.\n",
    "    Returns dict with 'train' and 'valid' DataLoaders.\n",
    "    \"\"\"\n",
    "    train_ds = MNISTDataset(tokenizer, fn_path, split='train')\n",
    "    valid_ds = MNISTDataset(tokenizer, fn_path, split='valid')\n",
    "\n",
    "    return {\n",
    "        'train': DataLoader(train_ds, batch_size=batch_size, shuffle=True, collate_fn=collate_fn_multimodal),\n",
    "        'valid': DataLoader(valid_ds, batch_size=batch_size, collate_fn=collate_fn_multimodal)\n",
    "    }"
   ]
  },
  {
   "cell_type": "code",
   "execution_count": 38,
   "id": "c9b1e3c1",
   "metadata": {},
   "outputs": [],
   "source": [
    "dls = get_mnist_caption_dl(tokenizer, path)\n",
    "ims, inp, tgt = next(iter(dls['train']))\n",
    "\n",
    "assert ims.shape[0] == inp.shape[0] == tgt.shape[0]\n",
    "assert ims.shape[1:] == torch.Size([1, 28, 28])"
   ]
  },
  {
   "cell_type": "code",
   "execution_count": 39,
   "id": "7a97016a",
   "metadata": {},
   "outputs": [
    {
     "data": {
      "image/png": "[encoded data removed]",
      "text/plain": [
       "<Figure size 300x300 with 1 Axes>"
      ]
     },
     "metadata": {},
     "output_type": "display_data"
    }
   ],
   "source": [
    "show_images(ims[0], f\"I: {tokenizer.decode(inp[0])}\\nT: {tokenizer.decode(tgt[0])}\")"
   ]
  },
  {
   "cell_type": "code",
   "execution_count": 46,
   "id": "2e54f801-46be-4e5f-a6e2-c1a3aa8c2ecf",
   "metadata": {},
   "outputs": [
    {
     "data": {
      "text/plain": [
       "(torch.Size([1, 28, 28]), torch.Size([1, 1, 28, 28]))"
      ]
     },
     "execution_count": 46,
     "metadata": {},
     "output_type": "execute_result"
    }
   ],
   "source": [
    "ims[0].shape, ims[0][None,:].shape"
   ]
  },
  {
   "cell_type": "code",
   "execution_count": 40,
   "id": "65b72333",
   "metadata": {},
   "outputs": [],
   "source": [
    "#| hide\n",
    "import nbdev; nbdev.nbdev_export()"
   ]
  },
  {
   "cell_type": "code",
   "execution_count": null,
   "id": "10cbf5d4-e66d-4355-948e-8659fdd375ec",
   "metadata": {},
   "outputs": [],
   "source": []
  }
 ],
 "metadata": {
  "kernelspec": {
   "display_name": "Python 3 (ipykernel)",
   "language": "python",
   "name": "python3"
  },
  "language_info": {
   "codemirror_mode": {
    "name": "ipython",
    "version": 3
   },
   "file_extension": ".py",
   "mimetype": "text/x-python",
   "name": "python",
   "nbconvert_exporter": "python",
   "pygments_lexer": "ipython3",
   "version": "3.13.7"
  }
 },
 "nbformat": 4,
 "nbformat_minor": 5
}
