{
 "cells": [
  {
   "cell_type": "markdown",
   "id": "377fc727",
   "metadata": {},
   "source": [
    "# Data\n",
    "\n",
    "> Create dataloader"
   ]
  },
  {
   "cell_type": "code",
   "execution_count": null,
   "id": "b54e835b",
   "metadata": {},
   "outputs": [],
   "source": [
    "#| default_exp data"
   ]
  },
  {
   "cell_type": "code",
   "execution_count": null,
   "id": "d6c397f7",
   "metadata": {},
   "outputs": [],
   "source": [
    "#|export \n",
    "from fastcore.all import *\n",
    "path = Path('../static')\n",
    "path.mkdir(exist_ok=True)"
   ]
  },
  {
   "cell_type": "code",
   "execution_count": null,
   "id": "6a688921",
   "metadata": {},
   "outputs": [],
   "source": [
    "#| hide\n",
    "from nbdev.showdoc import *"
   ]
  },
  {
   "cell_type": "markdown",
   "id": "723ce9f0",
   "metadata": {},
   "source": [
    "## Text Data Pipeline:\n",
    "\n",
    "1. Downloaded Shakespeare text data, from [Karpathy's nanogpt](https://github.com/karpathy/build-nanogpt) \n",
    "1. Built a character-level Tokenizer (65 unique chars)\n",
    "1. Created GPTDataset for non-overlapping sequence chunks\n",
    "1. Made get_text_dl() function returning train/valid dataloaders with 90/10 split\n"
   ]
  },
  {
   "cell_type": "code",
   "execution_count": null,
   "id": "6a770a75",
   "metadata": {},
   "outputs": [
    {
     "data": {
      "text/plain": [
       "Path('../static/input.txt')"
      ]
     },
     "execution_count": null,
     "metadata": {},
     "output_type": "execute_result"
    }
   ],
   "source": [
    "#|export \n",
    "urlsave(\"https://raw.githubusercontent.com/karpathy/build-nanogpt/refs/heads/master/input.txt\", path) "
   ]
  },
  {
   "cell_type": "code",
   "execution_count": null,
   "id": "8738065d",
   "metadata": {},
   "outputs": [],
   "source": [
    "#|export\n",
    "from typing import List\n",
    "class Tokenizer:\n",
    "    \"\"\"\n",
    "    Maps each char to unique index. It have some key attributes i.e.\n",
    "    1. **voacb**: where it maped to all the char present text field\n",
    "    1. **encode**: to encode given string to list of tokens\n",
    "    1. **decode**: to decode given tokens to str\n",
    "    1. **c2i** and **i2c**: helper function to convert char to tokens and tokens to char respectively\n",
    "    \"\"\"\n",
    "    def __init__(self):\n",
    "        self.setup_vocab()\n",
    "\n",
    "    def setup_vocab(self):\n",
    "        with open(path/'input.txt', 'r') as file:\n",
    "            self.txt = file.read()\n",
    "\n",
    "        self.vocab = sorted(list(set(list(self.txt))))\n",
    "        #print(f\"After reading file got the vocab of shape : {len(self.vocab)}\")\n",
    "\n",
    "    def c2i(self, ch:str) -> int:\n",
    "        \"\"\"\n",
    "        returns index of char ch from vocab\n",
    "        \"\"\"\n",
    "        return self.vocab.index(ch)\n",
    "\n",
    "    def i2c(self, idx:int) -> str:\n",
    "        \"\"\"\n",
    "        returns char from vocab given index\n",
    "        \"\"\"\n",
    "        return self.vocab[idx]\n",
    "\n",
    "    def encode(self, inp:str) -> List[int]:\n",
    "        \"\"\"\n",
    "        returns the encoded string\n",
    "        \"\"\"\n",
    "        return [self.c2i(i) for i in inp]\n",
    "\n",
    "    def decode(self, inp:List[int]) -> str:\n",
    "        \"\"\"\n",
    "        returns the string represntation of the\n",
    "        \"\"\"\n",
    "        return ''.join([self.i2c(i) for i in inp])\n",
    "\n",
    "tokenizer = Tokenizer()"
   ]
  },
  {
   "cell_type": "code",
   "execution_count": null,
   "id": "5f5ae350",
   "metadata": {},
   "outputs": [],
   "source": [
    "s = 'abc'\n",
    "assert tokenizer.decode(tokenizer.encode(s))  == s"
   ]
  },
  {
   "cell_type": "markdown",
   "id": "e89b6d63",
   "metadata": {},
   "source": [
    "The tokenizer is loss less."
   ]
  },
  {
   "cell_type": "markdown",
   "id": "cd0b3d0a",
   "metadata": {},
   "source": [
    "### DataLoader\n",
    "The Dataset should be of **non-overlapping chunks**:\n",
    "1. `__init__` - store the encoded text and config (seq_len, etc.)\n",
    "1. `__len__`: return `len(encoded_text) // seq_len - 1` (divide, not subtract)\n",
    "1. `__getitem__`: use `idx * seq_len` as the starting position"
   ]
  },
  {
   "cell_type": "code",
   "execution_count": null,
   "id": "0094a0cb",
   "metadata": {},
   "outputs": [],
   "source": [
    "#|export\n",
    "#|hide\n",
    "import torch\n",
    "from torch.utils.data import Dataset, DataLoader\n",
    "\n",
    "class GPTDataset(Dataset):\n",
    "    def __init__(self, text, seq_len:int):\n",
    "        self.text = text\n",
    "        self.seq_len = seq_len\n",
    "        self.encoded_text = tokenizer.encode(text)\n",
    "\n",
    "    def __len__(self):\n",
    "        return len(self.encoded_text) // self.seq_len -1\n",
    "\n",
    "    def __getitem__(self, idx):\n",
    "        inp = self.encoded_text[idx * self.seq_len : (idx + 1) * self.seq_len]\n",
    "        op = self.encoded_text[idx * self.seq_len + 1 : (idx + 1) * self.seq_len + 1]\n",
    "        return torch.tensor(inp), torch.tensor(op)"
   ]
  },
  {
   "cell_type": "code",
   "execution_count": null,
   "id": "d8b82d92",
   "metadata": {},
   "outputs": [],
   "source": [
    "#|export\n",
    "def get_text_dl(bs:int=64, seq_len:int=128):\n",
    "    split_idx = int(len(tokenizer.txt) * 0.9)                         #split text with 9:\n",
    "    train_dataset = GPTDataset(tokenizer.txt[:split_idx], seq_len )\n",
    "    val_dataset = GPTDataset(tokenizer.txt[split_idx:], seq_len)\n",
    "\n",
    "    return {\n",
    "        'train': DataLoader(train_dataset, batch_size=bs, shuffle=True),\n",
    "        'valid': DataLoader(val_dataset, batch_size=bs, shuffle=False)\n",
    "    }"
   ]
  },
  {
   "cell_type": "code",
   "execution_count": null,
   "id": "4de9e9f1",
   "metadata": {},
   "outputs": [],
   "source": [
    "dl = get_text_dl()\n",
    "for x, y in dl['train']:\n",
    "    break\n",
    "assert x.shape == y.shape"
   ]
  },
  {
   "cell_type": "code",
   "execution_count": null,
   "id": "530a04bb",
   "metadata": {},
   "outputs": [
    {
     "data": {
      "text/plain": [
       "(tensor([52, 53, 59, 57, 50, 63, 11,  1, 40, 43]),\n",
       " tensor([53, 59, 57, 50, 63, 11,  1, 40, 43, 50]))"
      ]
     },
     "execution_count": null,
     "metadata": {},
     "output_type": "execute_result"
    }
   ],
   "source": [
    "x[0, :10], y[0,:10]"
   ]
  },
  {
   "cell_type": "markdown",
   "id": "05cf786d",
   "metadata": {},
   "source": [
    "## Vision Fashion MNIST\n",
    "\n",
    "**Steps:**\n",
    "\n",
    "1. **Define transforms** - Convert images to tensors, normalize if needed\n",
    "\n",
    "1. **Load Fashion MNIST dataset** - Use `torchvision.datasets.FashionMNIST()` for train and test splits\n",
    "\n",
    "1. **Create DataLoaders** - Wrap datasets with DataLoader, set batch_size and shuffle=True for training\n",
    "\n",
    "1. **Verify** - Check one batch to confirm shape (bs, 1, 28, 28) and labels (0-9)\n",
    "\n",
    "\n"
   ]
  },
  {
   "cell_type": "code",
   "execution_count": null,
   "id": "429404d1",
   "metadata": {},
   "outputs": [
    {
     "data": {
      "text/plain": [
       "Dataset FashionMNIST\n",
       "    Number of datapoints: 60000\n",
       "    Root location: ../static\n",
       "    Split: Train"
      ]
     },
     "execution_count": null,
     "metadata": {},
     "output_type": "execute_result"
    }
   ],
   "source": [
    "#| export\n",
    "from torchvision import datasets, transforms\n",
    "datasets.FashionMNIST(path, download=True)"
   ]
  },
  {
   "cell_type": "code",
   "execution_count": null,
   "id": "3651ece1",
   "metadata": {},
   "outputs": [
    {
     "data": {
      "text/plain": [
       "(#2) [Path('../static/input.txt'),Path('../static/FashionMNIST')]"
      ]
     },
     "execution_count": null,
     "metadata": {},
     "output_type": "execute_result"
    }
   ],
   "source": [
    "path.ls()"
   ]
  },
  {
   "cell_type": "code",
   "execution_count": null,
   "id": "ae3fdf52",
   "metadata": {},
   "outputs": [],
   "source": [
    "#|export \n",
    "import numpy as np\n",
    "import matplotlib.pyplot as plt\n",
    "\n",
    "def show_images(im, label=None, n=1, figsize=(2,2)):\n",
    "    fig, axes = plt.subplots(1, n, figsize=figsize)\n",
    "    if n == 1:\n",
    "        axes = [axes]\n",
    "    \n",
    "    if isinstance(im, torch.Tensor):\n",
    "        if im.shape[0] == 1:\n",
    "            im = im.squeeze(0)  # Remove channel dim for grayscale\n",
    "        elif im.shape[0] == 3:\n",
    "            im = im.permute(1, 2, 0)  # Change to (H, W, C)\n",
    "        im = im.numpy()\n",
    "\n",
    "\n",
    "    for i, ax in enumerate(axes):\n",
    "        ax.imshow(im, cmap='gray')\n",
    "        if label: ax.set_title(f\"Label: {label}\")\n",
    "        ax.axis('off')\n",
    "    \n",
    "    plt.tight_layout()\n",
    "    plt.show()\n"
   ]
  },
  {
   "cell_type": "code",
   "execution_count": null,
   "id": "e93ccb4b",
   "metadata": {},
   "outputs": [
    {
     "data": {
      "text/plain": [
       "(torch.Tensor, 9)"
      ]
     },
     "execution_count": null,
     "metadata": {},
     "output_type": "execute_result"
    }
   ],
   "source": [
    "train_ds = datasets.FashionMNIST(path, train=True, transform=transforms.ToTensor())\n",
    "valid_ds = datasets.FashionMNIST(path, transform=transforms.ToTensor())\n",
    "im, lbl = train_ds[0]\n",
    "type(im), lbl"
   ]
  },
  {
   "cell_type": "code",
   "execution_count": null,
   "id": "d635dd78",
   "metadata": {},
   "outputs": [],
   "source": [
    "train_dl = DataLoader(train_ds, batch_size=32, shuffle=True)\n",
    "valid_dl = DataLoader(valid_ds, batch_size=32)\n"
   ]
  },
  {
   "cell_type": "code",
   "execution_count": null,
   "id": "689688c6",
   "metadata": {},
   "outputs": [],
   "source": [
    "for x, y in train_dl:\n",
    "    break\n"
   ]
  },
  {
   "cell_type": "code",
   "execution_count": null,
   "id": "a908fada",
   "metadata": {},
   "outputs": [
    {
     "data": {
      "text/plain": [
       "60000"
      ]
     },
     "execution_count": null,
     "metadata": {},
     "output_type": "execute_result"
    }
   ],
   "source": [
    "len(valid_ds)"
   ]
  },
  {
   "cell_type": "code",
   "execution_count": null,
   "id": "9cb60c2d",
   "metadata": {},
   "outputs": [
    {
     "data": {
      "image/png": "[encoded data removed]",
      "text/plain": [
       "<Figure size 200x200 with 1 Axes>"
      ]
     },
     "metadata": {},
     "output_type": "display_data"
    }
   ],
   "source": [
    "show_images(*valid_ds[-1])"
   ]
  },
  {
   "cell_type": "markdown",
   "id": "761230c7",
   "metadata": {},
   "source": [
    "A helper function for retruning fashion mnist classification data"
   ]
  },
  {
   "cell_type": "code",
   "execution_count": null,
   "id": "6d54046d",
   "metadata": {},
   "outputs": [],
   "source": [
    "#|export\n",
    "def get_vision_classifier_dl(bs:int=64):\n",
    "    im_path = path/'FashionMNIST'\n",
    "\n",
    "    train_ds = datasets.FashionMNIST(im_path, train=True, transform=transforms.ToTensor())\n",
    "    valid_ds = datasets.FashionMNIST(im_path, transform=transforms.ToTensor())\n",
    "\n",
    "    return {\n",
    "        'train': DataLoader(train_ds, batch_size=bs, shuffle=True),\n",
    "        'valid': DataLoader(valid_ds, batch_size=bs)\n",
    "    }"
   ]
  },
  {
   "cell_type": "code",
   "execution_count": null,
   "id": "bf82520a",
   "metadata": {},
   "outputs": [
    {
     "data": {
      "text/plain": [
       "(torch.Size([64, 1, 28, 28]), torch.Size([64]))"
      ]
     },
     "execution_count": null,
     "metadata": {},
     "output_type": "execute_result"
    }
   ],
   "source": [
    "dl = get_vision_classifier_dl()\n",
    "for x, y in dl['valid']:\n",
    "    break\n",
    "x.shape, y.shape"
   ]
  },
  {
   "cell_type": "code",
   "execution_count": null,
   "id": "4871214e",
   "metadata": {},
   "outputs": [
    {
     "data": {
      "image/png": "[encoded data removed]",
      "text/plain": [
       "<Figure size 200x200 with 1 Axes>"
      ]
     },
     "metadata": {},
     "output_type": "display_data"
    }
   ],
   "source": [
    "show_images(x[-1], y[-1])"
   ]
  },
  {
   "cell_type": "code",
   "execution_count": null,
   "id": "65b72333",
   "metadata": {},
   "outputs": [],
   "source": [
    "#| hide\n",
    "import nbdev; nbdev.nbdev_export()"
   ]
  }
 ],
 "metadata": {
  "kernelspec": {
   "display_name": "python3",
   "language": "python",
   "name": "python3"
  }
 },
 "nbformat": 4,
 "nbformat_minor": 5
}
