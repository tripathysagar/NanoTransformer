{
  "cells": [
    {
      "cell_type": "raw",
      "metadata": {
        "vscode": {
          "languageId": "raw"
        }
      },
      "source": [
        "---\n",
        "description: Various components of MultiModal\n",
        "output-file: MultiModal.html\n",
        "title: MultiModal\n",
        "---"
      ]
    },
    {
      "cell_type": "code",
      "execution_count": null,
      "metadata": {},
      "outputs": [],
      "source": [
        "#| default_exp MultiModal"
      ]
    },
    {
      "cell_type": "code",
      "execution_count": null,
      "metadata": {
        "vscode": {
          "languageId": "makefile"
        }
      },
      "outputs": [],
      "source": [
        "\n",
        "My [Nano GPT](https://tripathysagar.github.io/sagaTrip/gptdecoder.html) model could write Shakespeare-style text. Cool. But it had no idea what a boot looked like. Time to teach it. \n",
        "\n",
        "But here's the problem: images and text are fundamentally different beasts. Text? Nice, tidy tokens. Images? Thousands of pixels, each with values from 0-255. The model needs to make sense of *both* simultaneously.\n",
        "\n",
        "**Aim:** Following the spirit of faster iteration and rapid experimentation, I built a text-to-text model (takes text input, predicts text output). The goal: expand this to handle **multimodal inputs**—learning to generate text captions from images. \n",
        "\n",
        "The experiment uses Shakespeare text for language modeling and Fashion-MNIST images with captions for vision-language tasks. This architecture pattern is similar to modern models like LLaVA. The model learns that `👢 → 'simple boot'`\n",
        "\n",
        "Please check the complete [blog](https://tripathysagar.github.io/sagaTrip/multimodal.html) and inspiration.\n",
        "\n"
      ]
    },
    {
      "cell_type": "code",
      "execution_count": 1,
      "metadata": {
        "colab": {
          "base_uri": "https://localhost:8080/"
        },
        "id": "-baz8CxV2F6E",
        "outputId": "9264315a-3604-4168-bccf-dd0c2eb0aa45"
      },
      "outputs": [
        {
          "name": "stdout",
          "output_type": "stream",
          "text": [
            "  Installing build dependencies ... \u001b[?25l\u001b[?25hdone\n",
            "  Getting requirements to build wheel ... \u001b[?25l\u001b[?25hdone\n",
            "  Preparing metadata (pyproject.toml) ... \u001b[?25l\u001b[?25hdone\n"
          ]
        }
      ],
      "source": [
        "try:\n",
        "    import google.colab\n",
        "    !pip install -q git+https://github.com/tripathysagar/NanoTransformer.git\n",
        "except Exception as e:\n",
        "    pass"
      ]
    },
    {
      "cell_type": "code",
      "execution_count": null,
      "metadata": {
        "id": "C2zf-YJ_2Hbd"
      },
      "outputs": [],
      "source": [
        "#|export\n",
        "from NanoTransformer.data import *\n",
        "from NanoTransformer.GPTText2Text import *\n",
        "from NanoTransformer.ImageEncoder import *"
      ]
    },
    {
      "cell_type": "code",
      "execution_count": null,
      "metadata": {
        "colab": {
          "base_uri": "https://localhost:8080/"
        },
        "id": "1OhRc2lD2QEe",
        "outputId": "e5bce50b-752e-4231-d0c6-dccb9e502d26"
      },
      "outputs": [
        {
          "data": {
            "text/plain": [
              "{'train': <torch.utils.data.dataloader.DataLoader at 0x7945d0b316a0>,\n",
              " 'valid': <torch.utils.data.dataloader.DataLoader at 0x7945d0b323f0>}"
            ]
          },
          "execution_count": 3,
          "metadata": {},
          "output_type": "execute_result"
        }
      ],
      "source": [
        "#|export\n",
        "\n",
        "#text dataloders\n",
        "text_dl = get_text_dl()\n",
        "text_dl"
      ]
    },
    {
      "cell_type": "code",
      "execution_count": 4,
      "metadata": {
        "colab": {
          "base_uri": "https://localhost:8080/"
        },
        "id": "yF4y78CZ2WTN",
        "outputId": "85158e63-93d9-4678-aa76-19ae18f00568"
      },
      "outputs": [
        {
          "data": {
            "text/plain": [
              "(torch.Size([64, 128]), torch.Size([64, 128]))"
            ]
          },
          "execution_count": 4,
          "metadata": {},
          "output_type": "execute_result"
        }
      ],
      "source": [
        "for x,y in text_dl['train']:\n",
        "    break\n",
        "x.shape, y.shape"
      ]
    },
    {
      "cell_type": "code",
      "execution_count": null,
      "metadata": {
        "id": "O61dnvzgEc4Y"
      },
      "outputs": [],
      "source": [
        "#|export\n",
        "\n",
        "from fastcore.all import *\n",
        "from torchvision import datasets, transforms\n",
        "from torch.utils.data import Dataset, DataLoader\n",
        "import torch"
      ]
    },
    {
      "cell_type": "code",
      "execution_count": 6,
      "metadata": {
        "colab": {
          "base_uri": "https://localhost:8080/"
        },
        "id": "XkNNbvZxFWVr",
        "outputId": "118d4954-5730-46f2-c0de-66784ace4146"
      },
      "outputs": [
        {
          "data": {
            "text/plain": [
              "(torch.Size([1, 28, 28]),\n",
              " tensor([57, 58, 39, 52, 42, 39, 56, 42,  1, 40, 53, 53, 58]),\n",
              " tensor([57, 58, 39, 52, 42, 39, 56, 42,  1, 40, 53, 53, 58,  0]))"
            ]
          },
          "execution_count": 6,
          "metadata": {},
          "output_type": "execute_result"
        }
      ],
      "source": [
        "train_ds = MNISTDataset(tokenizer, path)\n",
        "im, lbl_inp, lbl_tgt = train_ds[0]\n",
        "im.shape, lbl_inp, lbl_tgt"
      ]
    },
    {
      "cell_type": "code",
      "execution_count": 7,
      "metadata": {
        "colab": {
          "base_uri": "https://localhost:8080/"
        },
        "id": "5IfhmDDoP5jK",
        "outputId": "706bf497-5df6-4a55-abcc-762535b47665"
      },
      "outputs": [
        {
          "data": {
            "text/plain": [
              "('standard boot', 'standard boot\\n')"
            ]
          },
          "execution_count": 7,
          "metadata": {},
          "output_type": "execute_result"
        }
      ],
      "source": [
        "tokenizer.decode(lbl_inp), tokenizer.decode(lbl_tgt)"
      ]
    },
    {
      "cell_type": "code",
      "execution_count": 8,
      "metadata": {
        "colab": {
          "base_uri": "https://localhost:8080/",
          "height": 331
        },
        "id": "D64YlMxwFh7-",
        "outputId": "9b89c86d-efe0-47d2-f905-f2e30f48f0a2"
      },
      "outputs": [
        {
          "data": {
            "image/png": "[encoded data removed]",
            "text/plain": [
              "<Figure size 300x300 with 1 Axes>"
            ]
          },
          "metadata": {},
          "output_type": "display_data"
        }
      ],
      "source": [
        "show_images(im, f\"Input: {tokenizer.decode(lbl_inp)}\\nTarget: {tokenizer.decode(lbl_tgt)}\")"
      ]
    },
    {
      "cell_type": "code",
      "execution_count": null,
      "metadata": {
        "colab": {
          "base_uri": "https://localhost:8080/"
        },
        "id": "hBEWB7WKAa3h",
        "outputId": "c88ae3e5-b455-4bdf-ed6d-b5dd3586e70f"
      },
      "outputs": [
        {
          "data": {
            "text/plain": [
              "(118, 20)"
            ]
          },
          "execution_count": 9,
          "metadata": {},
          "output_type": "execute_result"
        }
      ],
      "source": [
        "#|export\n",
        "\n",
        "vision_dl = get_mnist_caption_dl(tokenizer, path, 512)\n",
        "len(vision_dl['train']), len(vision_dl['valid'])"
      ]
    },
    {
      "cell_type": "code",
      "execution_count": 10,
      "metadata": {
        "colab": {
          "base_uri": "https://localhost:8080/"
        },
        "id": "3FtZnGT7BWHQ",
        "outputId": "e814bb18-9c76-4a9a-e4b1-be858825e077"
      },
      "outputs": [
        {
          "data": {
            "text/plain": [
              "(123, 14)"
            ]
          },
          "execution_count": 10,
          "metadata": {},
          "output_type": "execute_result"
        }
      ],
      "source": [
        "len(text_dl['train']), len(text_dl['valid'])"
      ]
    },
    {
      "cell_type": "code",
      "execution_count": 11,
      "metadata": {
        "colab": {
          "base_uri": "https://localhost:8080/"
        },
        "id": "LI4D2a1G2dj8",
        "outputId": "fdc1d227-5686-409d-bfa0-c76acc360be7"
      },
      "outputs": [
        {
          "data": {
            "text/plain": [
              "(torch.Size([512, 19]), torch.Size([512, 20]))"
            ]
          },
          "execution_count": 11,
          "metadata": {},
          "output_type": "execute_result"
        }
      ],
      "source": [
        "ims, inp, tgt = next(iter(vision_dl['train']))\n",
        "\n",
        "assert ims.shape[0] == inp.shape[0] == tgt.shape[0]\n",
        "assert ims.shape[1:] == torch.Size([1, 28, 28])\n",
        "inp.shape, tgt.shape"
      ]
    },
    {
      "cell_type": "code",
      "execution_count": 12,
      "metadata": {
        "colab": {
          "base_uri": "https://localhost:8080/",
          "height": 643
        },
        "id": "YcGUMSwC2fJ8",
        "outputId": "6f49c57f-b4d8-4918-f9bf-06bfb4da9f59"
      },
      "outputs": [
        {
          "data": {
            "image/png": "[encoded data removed]",
            "text/plain": [
              "<Figure size 300x300 with 1 Axes>"
            ]
          },
          "metadata": {},
          "output_type": "display_data"
        }
      ],
      "source": [
        "show_images(ims[0], f\"I: {tokenizer.decode(inp[0])}T: {tokenizer.decode(tgt[0])}\")"
      ]
    },
    {
      "cell_type": "markdown",
      "metadata": {
        "id": "mjR52nN01smP"
      },
      "source": [
        "## Training Vision Encoder"
      ]
    },
    {
      "cell_type": "code",
      "execution_count": null,
      "metadata": {
        "colab": {
          "base_uri": "https://localhost:8080/"
        },
        "id": "_sxJVFoP2gnN",
        "outputId": "a751d2ea-1843-494b-f78a-34a3715ac6fa"
      },
      "outputs": [
        {
          "name": "stdout",
          "output_type": "stream",
          "text": [
            "Epoch \tTrain Loss \tValid Loss \taccurecy\n",
            "1   \t0.4404   \t0.3213\t\t0.8855\n",
            "2   \t0.3017   \t0.2677\t\t0.9011\n",
            "3   \t0.2516   \t0.2030\t\t0.9230\n",
            "4   \t0.2130   \t0.1645\t\t0.9402\n",
            "5   \t0.1845   \t0.1462\t\t0.9454\n",
            "6   \t0.1591   \t0.1149\t\t0.9577\n",
            "7   \t0.1374   \t0.1216\t\t0.9533\n",
            "8   \t0.1115   \t0.1014\t\t0.9614\n",
            "9   \t0.0944   \t0.0665\t\t0.9757\n",
            "10   \t0.0809   \t0.0524\t\t0.9816\n",
            "11   \t0.0673   \t0.0500\t\t0.9817\n",
            "12   \t0.0609   \t0.0405\t\t0.9857\n",
            "13   \t0.0546   \t0.0467\t\t0.9830\n",
            "14   \t0.0468   \t0.0348\t\t0.9874\n",
            "15   \t0.0456   \t0.0252\t\t0.9914\n"
          ]
        }
      ],
      "source": [
        "# train the vison encoder\n",
        "vision_encoder_train(classifier, 15)"
      ]
    },
    {
      "cell_type": "markdown",
      "metadata": {
        "id": "g2HK_5L72KK4"
      },
      "source": [
        "## Model"
      ]
    },
    {
      "cell_type": "markdown",
      "metadata": {
        "id": "rP1R51zO2LmY"
      },
      "source": [
        "Updating the embedding to take in image in first postions, by adding a paramer `start_idx` and defults to `0` for image it will be `1`."
      ]
    },
    {
      "cell_type": "code",
      "execution_count": 14,
      "metadata": {
        "id": "EuvVunox2uo-"
      },
      "outputs": [],
      "source": [
        "#|export\n",
        "import torch\n",
        "from torch import nn\n",
        "class Embedding(nn.Module):\n",
        "    def __init__(self, config:GPTConfig):\n",
        "        super().__init__()\n",
        "        self.register_buffer('pos_ids', torch.arange(config.seq_len))  # for adding the postional encoding from 0 to seq_len - 1\n",
        "\n",
        "        self.embed = nn.Embedding(config.vocab_size, config.embedding_dim)\n",
        "        self.pos_embed =  nn.Embedding(config.seq_len, config.embedding_dim)\n",
        "\n",
        "    def forward(self, x, start_idx=0):           #bs * seq_len\n",
        "        return self.embed(x) + self.pos_embed(self.pos_ids[start_idx:start_idx+x.size(1)])     #bs * seq_len * embedding_dim\n"
      ]
    },
    {
      "cell_type": "code",
      "execution_count": 15,
      "metadata": {
        "id": "_vw4xpMI20wC"
      },
      "outputs": [],
      "source": [
        "#|export\n",
        "class MultiModal(nn.Module):\n",
        "    def __init__(self):\n",
        "        super().__init__()\n",
        "\n",
        "        self.vis_encoder = classifier[0]\n",
        "        self.proj_layer = nn.Linear(visConfig.head_op_dim, gptConfig.embedding_dim)\n",
        "\n",
        "        self.embed = Embedding(gptConfig)\n",
        "        self.blocks = nn.ModuleList(\n",
        "            [\n",
        "                nn.Sequential(MultiHeadAttention(gptConfig), FFN(gptConfig))\n",
        "                for _ in range(gptConfig.n_layers)\n",
        "            ])\n",
        "        self.layer_norm = nn.LayerNorm(gptConfig.embedding_dim)\n",
        "        self.lm_head = nn.Linear(gptConfig.embedding_dim, gptConfig.vocab_size)\n",
        "\n",
        "        for param in self.vis_encoder.parameters():       #freezing the vision encoder\n",
        "            param.requires_grad = False\n",
        "\n",
        "    def forward(self, text_idx, image=None):\n",
        "        if image is not None:\n",
        "            # Ensure image has the correct dtype before passing to the encoder\n",
        "            image = image.to(self.proj_layer.weight.dtype)                     # ensure the image input has the correct data type\n",
        "            img_emb = self.proj_layer(self.vis_encoder(image)).unsqueeze(1)    # (bs, 1, 128)\n",
        "            img_emb = img_emb + self.embed.pos_embed(self.embed.pos_ids[0:1])  # fetch embeddings at the 0th idx\n",
        "            text_emb = self.embed(text_idx, start_idx=1)                       # positions start at 1\n",
        "            x = torch.cat([img_emb, text_emb], dim=1)\n",
        "        else:\n",
        "            x = self.embed(text_idx)\n",
        "\n",
        "        for block in self.blocks:\n",
        "            x = block(x)\n",
        "        return self.lm_head(self.layer_norm(x))"
      ]
    },
    {
      "cell_type": "markdown",
      "metadata": {
        "id": "oEPhiX1o2Fz-"
      },
      "source": [
        "## Config"
      ]
    },
    {
      "cell_type": "code",
      "execution_count": null,
      "metadata": {
        "id": "Jh4L5Tz_26ff"
      },
      "outputs": [],
      "source": [
        "#|export\n",
        "from dataclasses import dataclass\n",
        "\n",
        "@dataclass\n",
        "class MultiModalConfig:\n",
        "    bs = 256\n",
        "\n",
        "    device = 'cuda' if torch.cuda.is_available() else 'cpu'\n",
        "    dtype = torch.bfloat16 if torch.cuda.is_available() and torch.cuda.get_device_capability()[0] >= 8 else torch.float16 # Use bfloat16 on Ampere+ GPUs, otherwise use float16\n",
        "\n",
        "    lr = 1e-3\n",
        "    max_grad_norm = 1.0\n",
        "\n",
        "    num_steps_per_epoch = min(len(text_dl['train']), len(dls['train']))\n",
        "    epochs = 20\n",
        "\n",
        "multiConfig = MultiModalConfig()"
      ]
    },
    {
      "cell_type": "markdown",
      "metadata": {
        "id": "kNXQZIk13Drv"
      },
      "source": [
        "## Data iterators"
      ]
    },
    {
      "cell_type": "markdown",
      "metadata": {
        "id": "bf831db1"
      },
      "source": [
        "1. TrainBatchIter: for iterating for data for text_dl and vision_dl at a batch sequentially\n",
        "2. ValidBatchIter: for iterating for data for text_dl and vision_dl at a batch exaustly"
      ]
    },
    {
      "cell_type": "code",
      "execution_count": null,
      "metadata": {
        "id": "W2GOJzjY6Ebl"
      },
      "outputs": [],
      "source": [
        "#|export\n",
        "\n",
        "class TrainBatchIter:\n",
        "    def __init__(self):\n",
        "        self.reset()\n",
        "\n",
        "    def reset(self):\n",
        "        self.text_dl = iter(text_dl['train'])\n",
        "        self.vision_dl = iter(vision_dl['train'])\n",
        "        self.idx = -1\n",
        "        self.text_exhausted = False\n",
        "        self.vision_exhausted = False\n",
        "\n",
        "    def __iter__(self):\n",
        "        return self\n",
        "\n",
        "    def __next__(self):\n",
        "        # If both exhausted, stop\n",
        "        if self.text_exhausted and self.vision_exhausted:\n",
        "            raise StopIteration\n",
        "\n",
        "        self.idx += 1\n",
        "        use_text = (self.idx % 2 == 0)\n",
        "\n",
        "        # Adjust if chosen iterator is exhausted\n",
        "        if use_text and self.text_exhausted:\n",
        "            use_text = False\n",
        "        elif not use_text and self.vision_exhausted:\n",
        "            use_text = True\n",
        "\n",
        "        # Try to get batch\n",
        "        try:\n",
        "            if use_text:\n",
        "                x, y = next(self.text_dl)\n",
        "                return x, y, None\n",
        "            else:\n",
        "                images, x, y = next(self.vision_dl)\n",
        "                return x, y, images\n",
        "        except StopIteration:\n",
        "            # Mark as exhausted and try the other\n",
        "            if use_text:\n",
        "                self.text_exhausted = True\n",
        "                try:\n",
        "                    images, x, y = next(self.vision_dl)\n",
        "                    return x, y, images\n",
        "                except StopIteration:\n",
        "                    self.vision_exhausted = True\n",
        "                    raise\n",
        "            else:\n",
        "                self.vision_exhausted = True\n",
        "                try:\n",
        "                    x, y = next(self.text_dl)\n",
        "                    return x, y, None\n",
        "                except StopIteration:\n",
        "                    self.text_exhausted = True\n",
        "                    raise"
      ]
    },
    {
      "cell_type": "code",
      "execution_count": null,
      "metadata": {
        "id": "RE_moQrPWdni"
      },
      "outputs": [],
      "source": [
        "#|export\n",
        "\n",
        "class ValidBatchIter:\n",
        "    def __init__(self):\n",
        "        self.reset()\n",
        "\n",
        "    def reset(self):\n",
        "        # Reset the iters\n",
        "        self.text_dl = iter(text_dl['valid'])\n",
        "        self.vision_dl = iter(vision_dl['valid'])\n",
        "        self.text_exhausted = False\n",
        "        self.vision_exhausted = False\n",
        "\n",
        "    def __iter__(self):\n",
        "        return self\n",
        "\n",
        "    def __next__(self):\n",
        "        # If both exhausted, stop\n",
        "        if not self.text_exhausted:\n",
        "            #iter through the text data first\n",
        "            #once exausted do not raise stop iter instead iter through vision data\n",
        "            try:\n",
        "                x, y = next(self.text_dl)\n",
        "                return x, y, None\n",
        "            except StopIteration:\n",
        "                self.text_exhausted = True\n",
        "\n",
        "        if self.text_exhausted:\n",
        "          try:\n",
        "            # fetch vision data\n",
        "            images, x, y = next(self.vision_dl)\n",
        "            return x, y, images\n",
        "\n",
        "          except StopIteration:\n",
        "            self.vision_exhausted = True\n",
        "            raise StopIteration"
      ]
    },
    {
      "cell_type": "markdown",
      "metadata": {
        "id": "XgtVWlTx3y33"
      },
      "source": [
        "## Training"
      ]
    },
    {
      "cell_type": "code",
      "execution_count": 19,
      "metadata": {
        "id": "F8dT5nke3K_I"
      },
      "outputs": [],
      "source": [
        "#|export\n",
        "from torch.optim import AdamW\n",
        "from torch.nn.utils import clip_grad_norm_\n",
        "\n",
        "model = MultiModal().to(multiConfig.device)\n",
        "optimizer = AdamW(model.parameters(), lr=multiConfig.lr)"
      ]
    },
    {
      "cell_type": "code",
      "execution_count": null,
      "metadata": {
        "id": "_WQwu1ks73CR"
      },
      "outputs": [],
      "source": [
        "#|export\n",
        "\n",
        "train_iters = TrainBatchIter()\n",
        "valid_iters = ValidBatchIter()"
      ]
    },
    {
      "cell_type": "code",
      "execution_count": null,
      "metadata": {
        "id": "mgij0MlCk5sn"
      },
      "outputs": [],
      "source": [
        "#|export\n",
        "\n",
        "def pred(text_input, ims):\n",
        "  \"\"\"prediction for given text and image\"\"\"\n",
        "  return model(text_input, ims)"
      ]
    },
    {
      "cell_type": "code",
      "execution_count": 22,
      "metadata": {
        "colab": {
          "base_uri": "https://localhost:8080/"
        },
        "id": "g5N7dGeZlKPi",
        "outputId": "82ceafe2-4ab4-41fb-c6bc-3ccefa9fba6b"
      },
      "outputs": [
        {
          "data": {
            "text/plain": [
              "CrossEntropyLoss()"
            ]
          },
          "execution_count": 22,
          "metadata": {},
          "output_type": "execute_result"
        }
      ],
      "source": [
        "loss_func"
      ]
    },
    {
      "cell_type": "code",
      "execution_count": null,
      "metadata": {
        "id": "9MUX0gldlOP5"
      },
      "outputs": [],
      "source": [
        "#|export\n",
        "\n",
        "def cal_loss(logits, text_target):\n",
        "  \"\"\"calculate the loss for pred and target\"\"\"\n",
        "  return loss_func(logits.reshape(-1, gptConfig.vocab_size), text_target.reshape(-1))"
      ]
    },
    {
      "cell_type": "code",
      "execution_count": 24,
      "metadata": {
        "colab": {
          "base_uri": "https://localhost:8080/"
        },
        "id": "EWgckHArlaLh",
        "outputId": "6d31a6c2-faea-45bf-c7c1-d92f2271732e"
      },
      "outputs": [
        {
          "data": {
            "text/plain": [
              "tensor(0.0360, device='cuda:0', grad_fn=<DivBackward0>)"
            ]
          },
          "execution_count": 24,
          "metadata": {},
          "output_type": "execute_result"
        }
      ],
      "source": [
        "loss = 0\n",
        "for x, y in text_dl['train']:\n",
        "  x, y = x.to(multiConfig.device), y.to(multiConfig.device)\n",
        "  logits = pred(x, None)\n",
        "  loss = cal_loss(logits, y)\n",
        "  break\n",
        "loss/len(text_dl['train'])"
      ]
    },
    {
      "cell_type": "markdown",
      "metadata": {
        "id": "ias8lF_O4Exv"
      },
      "source": [
        "### Loss calculate"
      ]
    },
    {
      "cell_type": "code",
      "execution_count": null,
      "metadata": {
        "id": "Cefz6Fj8nLpp"
      },
      "outputs": [],
      "source": [
        "#|export\n",
        "\n",
        "def calculate_text_loss(data_dl):\n",
        "    total_loss = 0\n",
        "    num_batches = 0\n",
        "\n",
        "    for x, y in data_dl:\n",
        "        x, y = x.to(multiConfig.device), y.to(multiConfig.device)\n",
        "\n",
        "        with torch.no_grad():\n",
        "          logits = pred(x, None)\n",
        "          loss = cal_loss(logits, y)\n",
        "\n",
        "        total_loss += loss.item()\n",
        "        num_batches += 1\n",
        "\n",
        "    return total_loss / num_batches"
      ]
    },
    {
      "cell_type": "code",
      "execution_count": 26,
      "metadata": {
        "colab": {
          "base_uri": "https://localhost:8080/"
        },
        "id": "rHoGPhPfpKee",
        "outputId": "622c3a9d-b981-4042-dcd8-6ac441b1bd34"
      },
      "outputs": [
        {
          "data": {
            "text/plain": [
              "4.4335325311146825"
            ]
          },
          "execution_count": 26,
          "metadata": {},
          "output_type": "execute_result"
        }
      ],
      "source": [
        "(calculate_text_loss(text_dl['train']) + calculate_text_loss(text_dl['valid'])) / 2"
      ]
    },
    {
      "cell_type": "code",
      "execution_count": null,
      "metadata": {
        "colab": {
          "base_uri": "https://localhost:8080/"
        },
        "id": "246e319c",
        "outputId": "a0d11df7-9fc8-4825-aa28-b5aa5739cd16"
      },
      "outputs": [
        {
          "data": {
            "text/plain": [
              "4.4847678228960195"
            ]
          },
          "execution_count": 27,
          "metadata": {},
          "output_type": "execute_result"
        }
      ],
      "source": [
        "#|export\n",
        "\n",
        "def calculate_vision_loss(data_dl):\n",
        "    total_loss = 0\n",
        "    num_batches = 0\n",
        "\n",
        "    for ims, x, y in data_dl:\n",
        "        ims = ims.to(multiConfig.device)\n",
        "        x, y = x.to(multiConfig.device), y.to(multiConfig.device)\n",
        "\n",
        "        with torch.no_grad():\n",
        "          logits = pred(x, ims)\n",
        "          loss = cal_loss(logits, y)\n",
        "\n",
        "        total_loss += loss.item()\n",
        "        num_batches += 1\n",
        "\n",
        "    return total_loss / num_batches\n",
        "(calculate_vision_loss(vision_dl['train']) + calculate_vision_loss(vision_dl['valid'])) / 2"
      ]
    },
    {
      "cell_type": "code",
      "execution_count": null,
      "metadata": {
        "colab": {
          "base_uri": "https://localhost:8080/"
        },
        "id": "Xmn_rkCJpl5v",
        "outputId": "e01a026f-5912-4c22-e7f0-9d1a99bb7e41"
      },
      "outputs": [
        {
          "name": "stdout",
          "output_type": "stream",
          "text": [
            "Text Loss: 4.4333 | Vision Loss: 4.4840\n"
          ]
        }
      ],
      "source": [
        "#|export\n",
        "\n",
        "def cal_indivisual_loss():\n",
        "  text_loss = (calculate_text_loss(text_dl['train']) + calculate_text_loss(text_dl['valid'])) / 2\n",
        "  vision_loss = (calculate_vision_loss(vision_dl['train']) + calculate_vision_loss(vision_dl['valid'])) / 2\n",
        "  print(f\"Text Loss: {text_loss:.4f} | Vision Loss: {vision_loss:.4f}\")\n",
        "cal_indivisual_loss()"
      ]
    },
    {
      "cell_type": "markdown",
      "metadata": {
        "id": "a5Q189qY4RJY"
      },
      "source": [
        "### Training loss"
      ]
    },
    {
      "cell_type": "code",
      "execution_count": null,
      "metadata": {
        "colab": {
          "base_uri": "https://localhost:8080/"
        },
        "id": "IQY7QhMR3D5p",
        "outputId": "c538ca0f-2d3f-495b-bd39-4975f8904c78"
      },
      "outputs": [
        {
          "name": "stdout",
          "output_type": "stream",
          "text": [
            "0 -> 1.6584 : 1.1541\n",
            "1 -> 1.3241 : 1.0720\n",
            "2 -> 1.2224 : 0.9973\n",
            "3 -> 1.1345 : 0.9514\n",
            "4 -> 1.0675 : 0.9101\n",
            "5 -> 1.0162 : 0.8810\n",
            "6 -> 0.9780 : 0.8623\n",
            "7 -> 0.9473 : 0.8486\n",
            "8 -> 0.9239 : 0.8299\n",
            "9 -> 0.9054 : 0.8241\n",
            "10 -> 0.8896 : 0.8102\n",
            "11 -> 0.8766 : 0.8108\n",
            "12 -> 0.8657 : 0.7986\n",
            "13 -> 0.8556 : 0.7962\n",
            "14 -> 0.8473 : 0.7877\n",
            "15 -> 0.8402 : 0.7822\n",
            "16 -> 0.8333 : 0.7847\n",
            "17 -> 0.8269 : 0.7806\n",
            "18 -> 0.8214 : 0.7790\n",
            "19 -> 0.8161 : 0.7748\n",
            "20 -> 0.8116 : 0.7767\n",
            "21 -> 0.8066 : 0.7784\n",
            "22 -> 0.8032 : 0.7710\n",
            "23 -> 0.7990 : 0.7684\n",
            "24 -> 0.7954 : 0.7709\n",
            "25 -> 0.7924 : 0.7692\n",
            "26 -> 0.7890 : 0.7705\n",
            "27 -> 0.7859 : 0.7638\n",
            "28 -> 0.7832 : 0.7664\n",
            "29 -> 0.7805 : 0.7716\n"
          ]
        }
      ],
      "source": [
        "#|export\n",
        "\n",
        "for epoch in range(30):\n",
        "    model.train()\n",
        "    train_loss, no_train = 0, 0\n",
        "    train_iters.reset()\n",
        "\n",
        "    for text_input, text_target, ims in train_iters: # Iterate directly over iters\n",
        "        no_train += 1\n",
        "        # Handle None for images\n",
        "        if ims is not None:\n",
        "            ims = ims.to(multiConfig.device)\n",
        "\n",
        "        text_input, text_target = text_input.to(multiConfig.device), text_target.to(multiConfig.device)\n",
        "\n",
        "        optimizer.zero_grad()\n",
        "\n",
        "        with torch.autocast(device_type=multiConfig.device, dtype=multiConfig.dtype):\n",
        "          logits = pred(text_input, ims) #model(text_input, ims)\n",
        "\n",
        "          loss = cal_loss(logits, text_target)    #loss_func(logits.reshape(-1, gptConfig.vocab_size), text_target.reshape(-1))\n",
        "\n",
        "        loss.backward()\n",
        "\n",
        "        clip_grad_norm_(model.parameters(), gptConfig.max_grad_norm) # to clip gradients\n",
        "\n",
        "        optimizer.step()\n",
        "\n",
        "        train_loss += loss.item()\n",
        "\n",
        "    valid_iters.reset()\n",
        "    model.eval()\n",
        "    val_loss, no_valid = 0, 0\n",
        "    with torch.no_grad(), torch.autocast(device_type=gptConfig.device, dtype=gptConfig.dtype):\n",
        "        for text_input, text_target, ims in valid_iters:\n",
        "            no_valid += 1\n",
        "\n",
        "            if ims is not None: ims = ims.to(multiConfig.device)\n",
        "\n",
        "            text_input, text_target = text_input.to(multiConfig.device), text_target.to(multiConfig.device)\n",
        "\n",
        "            logits = pred(text_input, ims)\n",
        "\n",
        "            loss = cal_loss(logits, text_target)\n",
        "\n",
        "            val_loss += loss.item()\n",
        "\n",
        "    print(f\"{epoch} -> {train_loss/no_train:.4f} : {val_loss/no_valid:.4f}\")"
      ]
    },
    {
      "cell_type": "markdown",
      "metadata": {
        "id": "ZpKj0Hdm0xiX"
      },
      "source": [
        "### Loss after training"
      ]
    },
    {
      "cell_type": "code",
      "execution_count": 30,
      "metadata": {
        "colab": {
          "base_uri": "https://localhost:8080/"
        },
        "id": "icpz7Fp9t-us",
        "outputId": "e1353af6-7e32-48b1-d4de-abd71c4ccca4"
      },
      "outputs": [
        {
          "name": "stdout",
          "output_type": "stream",
          "text": [
            "Text Loss: 1.4363 | Vision Loss: 0.1729\n"
          ]
        }
      ],
      "source": [
        "cal_indivisual_loss()"
      ]
    },
    {
      "cell_type": "markdown",
      "metadata": {
        "id": "6wWCk5Pl04vQ"
      },
      "source": [
        "## Inferenece"
      ]
    },
    {
      "cell_type": "markdown",
      "metadata": {
        "id": "yYAQBndV1M1v"
      },
      "source": [
        "### Image"
      ]
    },
    {
      "cell_type": "code",
      "execution_count": null,
      "metadata": {
        "id": "VV-KX3dbHKHI"
      },
      "outputs": [],
      "source": [
        "#|export\n",
        "\n",
        "@torch.no_grad()\n",
        "def generate_caption(image, max_len=30):\n",
        "    model.eval()\n",
        "    image = image.unsqueeze(0).to(multiConfig.device).to(multiConfig.dtype)  # Add batch dimension and move to device with correct dtype\n",
        "\n",
        "    generated = []\n",
        "    text_idx = torch.empty((1, 0), dtype=torch.long, device=multiConfig.device)  # Empty text\n",
        "\n",
        "    for _ in range(max_len):\n",
        "        logits = model(text_idx, image)\n",
        "        next_token = logits[:, -1, :].argmax(dim=-1)\n",
        "\n",
        "        # Check for stop token '\\n'\n",
        "        if tokenizer.decode([next_token.item()]) == '\\n':\n",
        "            break\n",
        "\n",
        "        generated.append(next_token.item())\n",
        "        text_idx = torch.cat([text_idx, next_token.unsqueeze(0)], dim=1)\n",
        "\n",
        "    return tokenizer.decode(generated)"
      ]
    },
    {
      "cell_type": "markdown",
      "metadata": {
        "id": "x01ZMx2e0891"
      },
      "source": [
        "Fetch the class from the caption generated"
      ]
    },
    {
      "cell_type": "code",
      "execution_count": null,
      "metadata": {
        "id": "H5jKA2fufSBN"
      },
      "outputs": [],
      "source": [
        "#|export\n",
        "\n",
        "find_lbl = lambda lable: [key for key, values in captions.items() if lable in values]"
      ]
    },
    {
      "cell_type": "code",
      "execution_count": 34,
      "metadata": {
        "colab": {
          "base_uri": "https://localhost:8080/",
          "height": 290
        },
        "id": "d2DIESsaocAh",
        "outputId": "c3146812-974a-4e96-ff79-f46457be43cd"
      },
      "outputs": [
        {
          "data": {
            "image/png": "[encoded data removed]",
            "text/plain": [
              "<Figure size 300x300 with 1 Axes>"
            ]
          },
          "metadata": {},
          "output_type": "display_data"
        }
      ],
      "source": [
        "ims, inp, tgt = next(iter(vision_dl['valid']))\n",
        "\n",
        "idx = 20\n",
        "actual_caption = tokenizer.decode(inp[idx]).split('\\n')[0]  # as \\n is padded to the label\n",
        "pred_caption = generate_caption(ims[idx])\n",
        "\n",
        "show_images(ims[idx], f\"A:{actual_caption} P:{pred_caption}\")"
      ]
    },
    {
      "cell_type": "code",
      "execution_count": 35,
      "metadata": {
        "colab": {
          "base_uri": "https://localhost:8080/"
        },
        "id": "Y1WQGx9ngujC",
        "outputId": "d2eaf3cd-3035-4e9f-a898-9a81dafc23eb"
      },
      "outputs": [
        {
          "data": {
            "text/plain": [
              "('knit sweater', 'casual sweater')"
            ]
          },
          "execution_count": 35,
          "metadata": {},
          "output_type": "execute_result"
        }
      ],
      "source": [
        "actual_caption, pred_caption"
      ]
    },
    {
      "cell_type": "code",
      "execution_count": 36,
      "metadata": {
        "colab": {
          "base_uri": "https://localhost:8080/"
        },
        "id": "TAR9bofzgjuQ",
        "outputId": "3276d079-c6ea-4551-e201-b4fc0b93546d"
      },
      "outputs": [
        {
          "data": {
            "text/plain": [
              "([2], [2])"
            ]
          },
          "execution_count": 36,
          "metadata": {},
          "output_type": "execute_result"
        }
      ],
      "source": [
        "find_lbl(actual_caption), find_lbl(pred_caption)"
      ]
    },
    {
      "cell_type": "markdown",
      "metadata": {
        "id": "yZzuSTUD1Pvb"
      },
      "source": [
        "### Text"
      ]
    },
    {
      "cell_type": "code",
      "execution_count": null,
      "metadata": {
        "colab": {
          "base_uri": "https://localhost:8080/"
        },
        "id": "qlCBIBa7Ia7c",
        "outputId": "2052284c-4296-4ac3-8292-3ff86218325a"
      },
      "outputs": [
        {
          "name": "stdout",
          "output_type": "stream",
          "text": [
            "To be or not to beast.\n",
            "And gave me resolved them and lips to hear.\n",
            "This hath prevent so you and thou, I were, good their\n",
            "Frozing in a curse; and acchive of a blous,\n",
            "Whose as hear me, thank, over with wind fair,\n",
            "And against the pave of him.\n",
            "'Duke his wrongly souls, holy, and\n"
          ]
        }
      ],
      "source": [
        "#|export\n",
        "\n",
        "@torch.no_grad()\n",
        "def generate_text(prompt, max_new_tokens=100, temperature=1.0):\n",
        "    \"\"\"\n",
        "    prompt: string to start generation\n",
        "    max_new_tokens: how many tokens to generate\n",
        "    temperature: higher = more random, lower = more deterministic\n",
        "    \"\"\"\n",
        "    model.eval()\n",
        "    tokens = tokenizer.encode(prompt)\n",
        "    tokens = torch.tensor(tokens).unsqueeze(0)  # Add batch dim\n",
        "    tokens = tokens.to('cuda')\n",
        "    for _ in range(max_new_tokens):\n",
        "        # Crop to last seq_len tokens if needed\n",
        "        context = tokens if tokens.size(1) <= model.embed.pos_ids.size(0) else tokens[:, -model.embed.pos_ids.size(0):]\n",
        "\n",
        "        # Get predictions\n",
        "        with torch.no_grad(), torch.autocast(device_type='cuda', dtype=torch.bfloat16):\n",
        "          logits = model(context)\n",
        "        logits = logits[:, -1, :] / temperature  # Focus on last token\n",
        "\n",
        "        # Sample next token\n",
        "        probs = torch.softmax(logits, dim=-1)\n",
        "        next_token = torch.multinomial(probs, num_samples=1)\n",
        "\n",
        "        # Append to sequence\n",
        "        tokens = torch.cat([tokens, next_token], dim=1)\n",
        "\n",
        "    return tokenizer.decode(tokens.squeeze().tolist())\n",
        "print(generate_text(\"To be or not to be\", max_new_tokens=256))"
      ]
    },
    {
      "cell_type": "code",
      "execution_count": 37,
      "metadata": {
        "id": "8vSSfgEHbyDx"
      },
      "outputs": [],
      "source": []
    }
  ],
  "metadata": {
    "accelerator": "GPU",
    "colab": {
      "gpuType": "T4",
      "provenance": []
    },
    "kernelspec": {
      "display_name": "Python 3",
      "name": "python3"
    },
    "language_info": {
      "name": "python"
    }
  },
  "nbformat": 4,
  "nbformat_minor": 0
}
