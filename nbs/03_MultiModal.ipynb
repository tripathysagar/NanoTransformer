{
 "cells": [
  {
   "cell_type": "raw",
   "metadata": {},
   "source": [
    "---\n",
    "description: Various components of MultiModal\n",
    "output-file: MultiModal.html\n",
    "title: MultiModal\n",
    "---"
   ]
  },
  {
   "cell_type": "code",
   "execution_count": null,
   "metadata": {},
   "outputs": [],
   "source": [
    "#| default_exp MultiModal"
   ]
  },
  {
   "cell_type": "markdown",
   "metadata": {},
   "source": [
    "\n",
    "My [Nano GPT](https://tripathysagar.github.io/sagaTrip/gptdecoder.html) model could write Shakespeare-style text. Cool. But it had no idea what a boot looked like. Time to teach it.\n",
    "\n",
    "But here's the problem: images and text are fundamentally different beasts. Text? Nice, tidy tokens. Images? Thousands of pixels, each with values from 0-255. The model needs to make sense of *both* simultaneously.\n",
    "\n",
    "**Aim:** Following the spirit of faster iteration and rapid experimentation, I built a text-to-text model (takes text input, predicts text output). The goal: expand this to handle **multimodal inputs**—learning to generate text captions from images.\n",
    "\n",
    "The experiment uses Shakespeare text for language modeling and Fashion-MNIST images with captions for vision-language tasks. This architecture pattern is similar to modern models like LLaVA. The model learns that `👢 → 'simple boot'`\n",
    "\n",
    "Please check the complete [blog](https://tripathysagar.github.io/sagaTrip/multimodal.html) and inspiration.\n"
   ]
  },
  {
   "cell_type": "code",
   "execution_count": null,
   "metadata": {},
   "outputs": [
    {
     "name": "stdout",
     "output_type": "stream",
     "text": [
      "  Installing build dependencies ... \u001b[?25l\u001b[?25hdone\n",
      "  Getting requirements to build wheel ... \u001b[?25l\u001b[?25hdone\n",
      "  Preparing metadata (pyproject.toml) ... \u001b[?25l\u001b[?25hdone\n",
      "  Building wheel for NanoTransformer (pyproject.toml) ... \u001b[?25l\u001b[?25hdone\n"
     ]
    }
   ],
   "source": [
    "try:\n",
    "    import google.colab\n",
    "    !pip install -q git+https://github.com/tripathysagar/NanoTransformer.git\n",
    "except Exception as e:\n",
    "    pass"
   ]
  },
  {
   "cell_type": "code",
   "execution_count": null,
   "metadata": {},
   "outputs": [
    {
     "name": "stderr",
     "output_type": "stream",
     "text": [
      "100%|██████████| 26.4M/26.4M [00:02<00:00, 11.1MB/s]\n",
      "100%|██████████| 29.5k/29.5k [00:00<00:00, 203kB/s]\n",
      "100%|██████████| 4.42M/4.42M [00:01<00:00, 3.78MB/s]\n",
      "100%|██████████| 5.15k/5.15k [00:00<00:00, 13.5MB/s]\n"
     ]
    }
   ],
   "source": [
    "#|export\n",
    "from NanoTransformer.data import *\n",
    "from NanoTransformer.GPTText2Text import *\n",
    "from NanoTransformer.ImageEncoder import *"
   ]
  },
  {
   "cell_type": "code",
   "execution_count": null,
   "metadata": {},
   "outputs": [
    {
     "data": {
      "text/plain": [
       "{'train': <torch.utils.data.dataloader.DataLoader>,\n",
       " 'valid': <torch.utils.data.dataloader.DataLoader>}"
      ]
     },
     "execution_count": null,
     "metadata": {},
     "output_type": "execute_result"
    }
   ],
   "source": [
    "#|export\n",
    "\n",
    "#text dataloders\n",
    "text_dl = get_text_dl()\n",
    "text_dl"
   ]
  },
  {
   "cell_type": "code",
   "execution_count": null,
   "metadata": {},
   "outputs": [
    {
     "data": {
      "text/plain": [
       "(torch.Size([64, 128]), torch.Size([64, 128]))"
      ]
     },
     "execution_count": null,
     "metadata": {},
     "output_type": "execute_result"
    }
   ],
   "source": [
    "for x,y in text_dl['train']:\n",
    "    break\n",
    "x.shape, y.shape"
   ]
  },
  {
   "cell_type": "code",
   "execution_count": null,
   "metadata": {},
   "outputs": [],
   "source": [
    "#|export\n",
    "\n",
    "from fastcore.all import *\n",
    "from torchvision import datasets, transforms\n",
    "from torch.utils.data import Dataset, DataLoader\n",
    "import torch"
   ]
  },
  {
   "cell_type": "code",
   "execution_count": null,
   "metadata": {},
   "outputs": [
    {
     "data": {
      "text/plain": [
       "(torch.Size([1, 28, 28]),\n",
       " tensor([40, 39, 57, 47, 41,  1, 40, 53, 53, 58]),\n",
       " tensor([40, 39, 57, 47, 41,  1, 40, 53, 53, 58,  0]))"
      ]
     },
     "execution_count": null,
     "metadata": {},
     "output_type": "execute_result"
    }
   ],
   "source": [
    "train_ds = MNISTDataset(tokenizer, path)\n",
    "im, lbl_inp, lbl_tgt = train_ds[0]\n",
    "im.shape, lbl_inp, lbl_tgt"
   ]
  },
  {
   "cell_type": "code",
   "execution_count": null,
   "metadata": {},
   "outputs": [
    {
     "data": {
      "text/plain": [
       "('basic boot', 'basic boot\\n')"
      ]
     },
     "execution_count": null,
     "metadata": {},
     "output_type": "execute_result"
    }
   ],
   "source": [
    "tokenizer.decode(lbl_inp), tokenizer.decode(lbl_tgt)"
   ]
  },
  {
   "cell_type": "code",
   "execution_count": null,
   "metadata": {},
   "outputs": [
    {
     "data": {
      "image/png": "[encoded data removed]",
      "text/plain": [
       "<Figure size 300x300 with 1 Axes>"
      ]
     },
     "metadata": {},
     "output_type": "display_data"
    }
   ],
   "source": [
    "show_images(im, f\"Input: {tokenizer.decode(lbl_inp)}\\nTarget: {tokenizer.decode(lbl_tgt)}\")"
   ]
  },
  {
   "cell_type": "code",
   "execution_count": null,
   "metadata": {},
   "outputs": [
    {
     "data": {
      "text/plain": [
       "(118, 20)"
      ]
     },
     "execution_count": null,
     "metadata": {},
     "output_type": "execute_result"
    }
   ],
   "source": [
    "#|export\n",
    "\n",
    "vision_dl = get_mnist_caption_dl(tokenizer, path, 512)\n",
    "len(vision_dl['train']), len(vision_dl['valid'])"
   ]
  },
  {
   "cell_type": "code",
   "execution_count": null,
   "metadata": {},
   "outputs": [
    {
     "data": {
      "text/plain": [
       "(123, 14)"
      ]
     },
     "execution_count": null,
     "metadata": {},
     "output_type": "execute_result"
    }
   ],
   "source": [
    "len(text_dl['train']), len(text_dl['valid'])"
   ]
  },
  {
   "cell_type": "code",
   "execution_count": null,
   "metadata": {},
   "outputs": [
    {
     "data": {
      "text/plain": [
       "(torch.Size([512, 19]), torch.Size([512, 20]))"
      ]
     },
     "execution_count": null,
     "metadata": {},
     "output_type": "execute_result"
    }
   ],
   "source": [
    "ims, inp, tgt = next(iter(vision_dl['train']))\n",
    "\n",
    "assert ims.shape[0] == inp.shape[0] == tgt.shape[0]\n",
    "assert ims.shape[1:] == torch.Size([1, 28, 28])\n",
    "inp.shape, tgt.shape"
   ]
  },
  {
   "cell_type": "code",
   "execution_count": null,
   "metadata": {},
   "outputs": [
    {
     "data": {
      "image/png": "[encoded data removed]",
      "text/plain": [
       "<Figure size 300x300 with 1 Axes>"
      ]
     },
     "metadata": {},
     "output_type": "display_data"
    }
   ],
   "source": [
    "show_images(ims[0], f\"I: {tokenizer.decode(inp[0])}T: {tokenizer.decode(tgt[0])}\")"
   ]
  },
  {
   "cell_type": "markdown",
   "metadata": {},
   "source": [
    "## Training Vision Encoder"
   ]
  },
  {
   "cell_type": "code",
   "execution_count": null,
   "metadata": {},
   "outputs": [
    {
     "name": "stdout",
     "output_type": "stream",
     "text": [
      "Epoch \tTrain Loss \tValid Loss \taccurecy\n",
      "1   \t0.4533   \t0.3459\t\t0.8772\n",
      "2   \t0.3006   \t0.3278\t\t0.8815\n",
      "3   \t0.2474   \t0.2686\t\t0.9052\n",
      "4   \t0.2120   \t0.2753\t\t0.9019\n",
      "5   \t0.1843   \t0.2799\t\t0.9031\n"
     ]
    }
   ],
   "source": [
    "# train the vison encoder\n",
    "vision_encoder_train(classifier, 5)"
   ]
  },
  {
   "cell_type": "markdown",
   "metadata": {},
   "source": [
    "## Model"
   ]
  },
  {
   "cell_type": "markdown",
   "metadata": {},
   "source": [
    "Updating the embedding to take in image in first postions, by adding a paramer `start_idx` and defults to `0` for image it will be `1`."
   ]
  },
  {
   "cell_type": "code",
   "execution_count": null,
   "metadata": {},
   "outputs": [],
   "source": [
    "#|export\n",
    "import torch\n",
    "from torch import nn\n",
    "class Embedding(nn.Module):\n",
    "    def __init__(self, config:GPTConfig):\n",
    "        super().__init__()\n",
    "        self.register_buffer('pos_ids', torch.arange(config.seq_len))  # for adding the postional encoding from 0 to seq_len - 1\n",
    "\n",
    "        self.embed = nn.Embedding(config.vocab_size, config.embedding_dim)\n",
    "        self.pos_embed =  nn.Embedding(config.seq_len, config.embedding_dim)\n",
    "\n",
    "    def forward(self, x, start_idx=0):           #bs * seq_len\n",
    "        return self.embed(x) + self.pos_embed(self.pos_ids[start_idx:start_idx+x.size(1)])     #bs * seq_len * embedding_dim\n"
   ]
  },
  {
   "cell_type": "code",
   "execution_count": null,
   "metadata": {},
   "outputs": [],
   "source": [
    "#|export\n",
    "class MultiModal(nn.Module):\n",
    "    def __init__(self):\n",
    "        super().__init__()\n",
    "\n",
    "        self.vis_encoder = classifier[0]\n",
    "        self.proj_layer = nn.Linear(visConfig.head_op_dim, gptConfig.embedding_dim)\n",
    "\n",
    "        self.embed = Embedding(gptConfig)\n",
    "        self.blocks = nn.ModuleList(\n",
    "            [\n",
    "                nn.Sequential(MultiHeadAttention(gptConfig), FFN(gptConfig))\n",
    "                for _ in range(gptConfig.n_layers)\n",
    "            ])\n",
    "        self.layer_norm = nn.LayerNorm(gptConfig.embedding_dim)\n",
    "        self.lm_head = nn.Linear(gptConfig.embedding_dim, gptConfig.vocab_size)\n",
    "\n",
    "        for param in self.vis_encoder.parameters():       #freezing the vision encoder\n",
    "            param.requires_grad = False\n",
    "\n",
    "    def forward(self, text_idx, image=None):\n",
    "        if image is not None:\n",
    "            # Ensure image has the correct dtype before passing to the encoder\n",
    "            image = image.to(self.proj_layer.weight.dtype)                     # ensure the image input has the correct data type\n",
    "            img_emb = self.proj_layer(self.vis_encoder(image)).unsqueeze(1)    # (bs, 1, 128)\n",
    "            img_emb = img_emb + self.embed.pos_embed(self.embed.pos_ids[0:1])  # fetch embeddings at the 0th idx\n",
    "            text_emb = self.embed(text_idx, start_idx=1)                       # positions start at 1\n",
    "            x = torch.cat([img_emb, text_emb], dim=1)\n",
    "        else:\n",
    "            x = self.embed(text_idx)\n",
    "\n",
    "        for block in self.blocks:\n",
    "            x = block(x)\n",
    "        return self.lm_head(self.layer_norm(x))"
   ]
  },
  {
   "cell_type": "markdown",
   "metadata": {},
   "source": [
    "## Config"
   ]
  },
  {
   "cell_type": "code",
   "execution_count": null,
   "metadata": {},
   "outputs": [],
   "source": [
    "#|export\n",
    "from dataclasses import dataclass\n",
    "\n",
    "@dataclass\n",
    "class MultiModalConfig:\n",
    "    bs = 256\n",
    "\n",
    "    device = 'cuda' if torch.cuda.is_available() else 'cpu'\n",
    "    dtype = torch.bfloat16 if torch.cuda.is_available() and torch.cuda.get_device_capability()[0] >= 8 else torch.float16 # Use bfloat16 on Ampere+ GPUs, otherwise use float16\n",
    "\n",
    "    lr = 1e-3\n",
    "    max_grad_norm = 1.0\n",
    "\n",
    "    num_steps_per_epoch = min(len(text_dl['train']), len(dls['train']))\n",
    "    epochs = 20\n",
    "\n",
    "multiConfig = MultiModalConfig()"
   ]
  },
  {
   "cell_type": "markdown",
   "metadata": {},
   "source": [
    "## Data iterators"
   ]
  },
  {
   "cell_type": "markdown",
   "metadata": {},
   "source": [
    "1. TrainBatchIter: for iterating for data for text_dl and vision_dl at a batch sequentially\n",
    "2. ValidBatchIter: for iterating for data for text_dl and vision_dl at a batch exaustly"
   ]
  },
  {
   "cell_type": "code",
   "execution_count": null,
   "metadata": {},
   "outputs": [],
   "source": [
    "#|export\n",
    "\n",
    "class TrainBatchIter:\n",
    "    def __init__(self):\n",
    "        self.reset()\n",
    "\n",
    "    def reset(self):\n",
    "        self.text_dl = iter(text_dl['train'])\n",
    "        self.vision_dl = iter(vision_dl['train'])\n",
    "        self.idx = -1\n",
    "        self.text_exhausted = False\n",
    "        self.vision_exhausted = False\n",
    "\n",
    "    def __len__(self): return len(text_dl['valid']) + len(vision_dl['train'])\n",
    "\n",
    "    def __iter__(self):\n",
    "        return self\n",
    "\n",
    "    def __next__(self):\n",
    "        # If both exhausted, stop\n",
    "        if self.text_exhausted and self.vision_exhausted:\n",
    "            raise StopIteration\n",
    "\n",
    "        self.idx += 1\n",
    "        use_text = (self.idx % 2 == 0)\n",
    "\n",
    "        # Adjust if chosen iterator is exhausted\n",
    "        if use_text and self.text_exhausted:\n",
    "            use_text = False\n",
    "        elif not use_text and self.vision_exhausted:\n",
    "            use_text = True\n",
    "\n",
    "        # Try to get batch\n",
    "        try:\n",
    "            if use_text:\n",
    "                x, y = next(self.text_dl)\n",
    "                return x, y, None\n",
    "            else:\n",
    "                images, x, y = next(self.vision_dl)\n",
    "                return x, y, images\n",
    "        except StopIteration:\n",
    "            # Mark as exhausted and try the other\n",
    "            if use_text:\n",
    "                self.text_exhausted = True\n",
    "                try:\n",
    "                    images, x, y = next(self.vision_dl)\n",
    "                    return x, y, images\n",
    "                except StopIteration:\n",
    "                    self.vision_exhausted = True\n",
    "                    raise\n",
    "            else:\n",
    "                self.vision_exhausted = True\n",
    "                try:\n",
    "                    x, y = next(self.text_dl)\n",
    "                    return x, y, None\n",
    "                except StopIteration:\n",
    "                    self.text_exhausted = True\n",
    "                    raise"
   ]
  },
  {
   "cell_type": "code",
   "execution_count": null,
   "metadata": {},
   "outputs": [],
   "source": [
    "#|export\n",
    "\n",
    "class ValidBatchIter:\n",
    "    def __init__(self):\n",
    "        self.reset()\n",
    "\n",
    "    def reset(self):\n",
    "        # Reset the iters\n",
    "        self.text_dl = iter(text_dl['valid'])\n",
    "        self.vision_dl = iter(vision_dl['valid'])\n",
    "        self.text_exhausted = False\n",
    "        self.vision_exhausted = False\n",
    "\n",
    "    def __iter__(self):\n",
    "        return self\n",
    "\n",
    "    def __next__(self):\n",
    "        # If both exhausted, stop\n",
    "        if not self.text_exhausted:\n",
    "            #iter through the text data first\n",
    "            #once exausted do not raise stop iter instead iter through vision data\n",
    "            try:\n",
    "                x, y = next(self.text_dl)\n",
    "                return x, y, None\n",
    "            except StopIteration:\n",
    "                self.text_exhausted = True\n",
    "\n",
    "        if self.text_exhausted:\n",
    "          try:\n",
    "            # fetch vision data\n",
    "            images, x, y = next(self.vision_dl)\n",
    "            return x, y, images\n",
    "\n",
    "          except StopIteration:\n",
    "            self.vision_exhausted = True\n",
    "            raise StopIteration"
   ]
  },
  {
   "cell_type": "markdown",
   "metadata": {},
   "source": [
    "## Training"
   ]
  },
  {
   "cell_type": "code",
   "execution_count": null,
   "metadata": {},
   "outputs": [],
   "source": [
    "#|export\n",
    "from torch.optim import AdamW\n",
    "from torch.nn.utils import clip_grad_norm_"
   ]
  },
  {
   "cell_type": "code",
   "execution_count": null,
   "metadata": {},
   "outputs": [],
   "source": [
    "#|export\n",
    "train_iters = TrainBatchIter()\n",
    "valid_iters = ValidBatchIter()"
   ]
  },
  {
   "cell_type": "code",
   "execution_count": null,
   "metadata": {},
   "outputs": [],
   "source": [
    "#|export\n",
    "def pred(model, text_input, ims):\n",
    "  \"\"\"prediction for given text and image\"\"\"\n",
    "  return model(text_input, ims)"
   ]
  },
  {
   "cell_type": "code",
   "execution_count": null,
   "metadata": {},
   "outputs": [
    {
     "data": {
      "text/plain": [
       "CrossEntropyLoss()"
      ]
     },
     "execution_count": null,
     "metadata": {},
     "output_type": "execute_result"
    }
   ],
   "source": [
    "loss_func"
   ]
  },
  {
   "cell_type": "code",
   "execution_count": null,
   "metadata": {},
   "outputs": [],
   "source": [
    "#|export\n",
    "def cal_loss(logits, text_target):\n",
    "  \"\"\"calculate the loss for pred and target\"\"\"\n",
    "  return loss_func(logits.reshape(-1, gptConfig.vocab_size), text_target.reshape(-1))"
   ]
  },
  {
   "cell_type": "markdown",
   "metadata": {},
   "source": [
    "### Loss calculate"
   ]
  },
  {
   "cell_type": "code",
   "execution_count": null,
   "metadata": {},
   "outputs": [],
   "source": [
    "#|export\n",
    "def calculate_text_loss(model, data_dl):\n",
    "    total_loss = 0\n",
    "    num_batches = 0\n",
    "\n",
    "    for x, y in data_dl:\n",
    "        x, y = x.to(multiConfig.device), y.to(multiConfig.device)\n",
    "\n",
    "        with torch.no_grad():\n",
    "          logits = pred(model, x, None)\n",
    "          loss = cal_loss(logits, y)\n",
    "\n",
    "        total_loss += loss.item()\n",
    "        num_batches += 1\n",
    "\n",
    "    return total_loss / num_batches"
   ]
  },
  {
   "cell_type": "code",
   "execution_count": null,
   "metadata": {},
   "outputs": [
    {
     "data": {
      "text/plain": [
       "4.356914298598083"
      ]
     },
     "execution_count": null,
     "metadata": {},
     "output_type": "execute_result"
    }
   ],
   "source": [
    "model = MultiModal().to('cuda')\n",
    "(calculate_text_loss(model, text_dl['train']) + calculate_text_loss(model, text_dl['valid'])) / 2"
   ]
  },
  {
   "cell_type": "code",
   "execution_count": null,
   "metadata": {},
   "outputs": [],
   "source": [
    "#|export\n",
    "\n",
    "def calculate_vision_loss(model, data_dl):\n",
    "    total_loss = 0\n",
    "    num_batches = 0\n",
    "\n",
    "    for ims, x, y in data_dl:\n",
    "        ims = ims.to(multiConfig.device)\n",
    "        x, y = x.to(multiConfig.device), y.to(multiConfig.device)\n",
    "\n",
    "        with torch.no_grad():\n",
    "          logits = pred(model, x, ims)\n",
    "          loss = cal_loss(logits, y)\n",
    "\n",
    "        total_loss += loss.item()\n",
    "        num_batches += 1\n",
    "\n",
    "    return total_loss / num_batches\n"
   ]
  },
  {
   "cell_type": "code",
   "execution_count": null,
   "metadata": {},
   "outputs": [
    {
     "data": {
      "text/plain": [
       "4.469972324977487"
      ]
     },
     "execution_count": null,
     "metadata": {},
     "output_type": "execute_result"
    }
   ],
   "source": [
    "(calculate_vision_loss(model, vision_dl['train']) + calculate_vision_loss(model, vision_dl['valid'])) / 2"
   ]
  },
  {
   "cell_type": "code",
   "execution_count": null,
   "metadata": {},
   "outputs": [],
   "source": [
    "#|export\n",
    "def total_loss(model):\n",
    "  text_loss = (calculate_text_loss(model, text_dl['train']) + calculate_text_loss(model, text_dl['valid'])) / 2\n",
    "  vision_loss = (calculate_vision_loss(model, vision_dl['train']) + calculate_vision_loss(model, vision_dl['valid'])) / 2\n",
    "  print(f\"Text Loss: {text_loss:.4f} | Vision Loss: {vision_loss:.4f}\")"
   ]
  },
  {
   "cell_type": "markdown",
   "metadata": {},
   "source": [
    "### Training loss"
   ]
  },
  {
   "cell_type": "code",
   "execution_count": null,
   "metadata": {},
   "outputs": [],
   "source": [
    "def multi_modal_train(model, epochs):\n",
    "    model = model.to(multiConfig.device)\n",
    "    print(f\"before training : \")\n",
    "    total_loss(model)\n",
    "    optimizer = AdamW(model.parameters(), lr=multiConfig.lr)\n",
    "\n",
    "    print(\"---\"*20)\n",
    "    for epoch in range(30):\n",
    "        model.train()\n",
    "        train_loss, no_train = 0, 0\n",
    "        train_iters.reset()\n",
    "\n",
    "        for text_input, text_target, ims in train_iters: # Iterate directly over iters\n",
    "            no_train += 1\n",
    "            # Handle None for images\n",
    "            if ims is not None:\n",
    "                ims = ims.to(multiConfig.device)\n",
    "\n",
    "            text_input, text_target = text_input.to(multiConfig.device), text_target.to(multiConfig.device)\n",
    "\n",
    "            optimizer.zero_grad()\n",
    "\n",
    "            with torch.autocast(device_type=multiConfig.device, dtype=multiConfig.dtype):\n",
    "              logits = pred(model, text_input, ims) #model(text_input, ims)\n",
    "\n",
    "              loss = cal_loss(logits, text_target)    #loss_func(logits.reshape(-1, gptConfig.vocab_size), text_target.reshape(-1))\n",
    "\n",
    "            loss.backward()\n",
    "\n",
    "            clip_grad_norm_(model.parameters(), gptConfig.max_grad_norm) # to clip gradients\n",
    "\n",
    "            optimizer.step()\n",
    "\n",
    "            train_loss += loss.item()\n",
    "\n",
    "        valid_iters.reset()\n",
    "        model.eval()\n",
    "        val_loss, no_valid = 0, 0\n",
    "        with torch.no_grad(), torch.autocast(device_type=gptConfig.device, dtype=gptConfig.dtype):\n",
    "            for text_input, text_target, ims in valid_iters:\n",
    "                no_valid += 1\n",
    "\n",
    "                if ims is not None: ims = ims.to(multiConfig.device)\n",
    "\n",
    "                text_input, text_target = text_input.to(multiConfig.device), text_target.to(multiConfig.device)\n",
    "\n",
    "                logits = pred(model, text_input, ims)\n",
    "\n",
    "                loss = cal_loss(logits, text_target)\n",
    "\n",
    "                val_loss += loss.item()\n",
    "\n",
    "        print(f\"{epoch} -> {train_loss/no_train:.4f} : {val_loss/no_valid:.4f}\")\n",
    "    print(\"---\"*20)\n",
    "\n",
    "    print(f\"after training : \")\n",
    "    total_loss(model)\n"
   ]
  },
  {
   "cell_type": "code",
   "execution_count": null,
   "metadata": {},
   "outputs": [
    {
     "name": "stdout",
     "output_type": "stream",
     "text": [
      "before training : \n",
      "Text Loss: 4.3085 | Vision Loss: 4.2983\n",
      "------------------------------------------------------------\n",
      "0 -> 1.6475 : 1.1602\n",
      "1 -> 1.3280 : 1.0701\n",
      "2 -> 1.2239 : 0.9913\n",
      "3 -> 1.1295 : 0.9383\n",
      "4 -> 1.0570 : 0.8901\n",
      "5 -> 1.0032 : 0.8677\n",
      "6 -> 0.9646 : 0.8505\n",
      "7 -> 0.9362 : 0.8304\n",
      "8 -> 0.9139 : 0.8200\n",
      "9 -> 0.8962 : 0.8053\n",
      "10 -> 0.8816 : 0.7950\n",
      "11 -> 0.8696 : 0.7952\n",
      "12 -> 0.8595 : 0.7844\n",
      "13 -> 0.8505 : 0.7833\n",
      "14 -> 0.8424 : 0.7771\n",
      "15 -> 0.8358 : 0.7775\n",
      "16 -> 0.8295 : 0.7733\n",
      "17 -> 0.8234 : 0.7696\n",
      "18 -> 0.8179 : 0.7644\n",
      "19 -> 0.8139 : 0.7635\n",
      "20 -> 0.8088 : 0.7611\n",
      "21 -> 0.8046 : 0.7607\n",
      "22 -> 0.8013 : 0.7565\n",
      "23 -> 0.7974 : 0.7582\n",
      "24 -> 0.7945 : 0.7561\n",
      "25 -> 0.7911 : 0.7569\n",
      "26 -> 0.7878 : 0.7551\n",
      "27 -> 0.7852 : 0.7518\n",
      "28 -> 0.7830 : 0.7540\n",
      "29 -> 0.7808 : 0.7535\n",
      "------------------------------------------------------------\n",
      "after training : \n",
      "Text Loss: 1.4264 | Vision Loss: 0.1648\n"
     ]
    }
   ],
   "source": [
    "model = MultiModal()\n",
    "multi_modal_train(model, 30)"
   ]
  },
  {
   "cell_type": "markdown",
   "metadata": {},
   "source": [
    "## Inferenece"
   ]
  },
  {
   "cell_type": "markdown",
   "metadata": {},
   "source": [
    "### Image"
   ]
  },
  {
   "cell_type": "code",
   "execution_count": null,
   "metadata": {},
   "outputs": [],
   "source": [
    "#|export\n",
    "\n",
    "@torch.no_grad()\n",
    "def generate_caption(model, image, max_len=30):\n",
    "    model.eval()\n",
    "    image = image.unsqueeze(0).to(multiConfig.device).to(multiConfig.dtype)  # Add batch dimension and move to device with correct dtype\n",
    "\n",
    "    generated = []\n",
    "    text_idx = torch.empty((1, 0), dtype=torch.long, device=multiConfig.device)  # Empty text\n",
    "\n",
    "    for _ in range(max_len):\n",
    "        logits = model(text_idx, image)\n",
    "        next_token = logits[:, -1, :].argmax(dim=-1)\n",
    "\n",
    "        # Check for stop token '\\n'\n",
    "        if tokenizer.decode([next_token.item()]) == '\\n':\n",
    "            break\n",
    "\n",
    "        generated.append(next_token.item())\n",
    "        text_idx = torch.cat([text_idx, next_token.unsqueeze(0)], dim=1)\n",
    "\n",
    "    return tokenizer.decode(generated)"
   ]
  },
  {
   "cell_type": "markdown",
   "metadata": {},
   "source": [
    "Fetch the class from the caption generated"
   ]
  },
  {
   "cell_type": "code",
   "execution_count": null,
   "metadata": {},
   "outputs": [],
   "source": [
    "#|export\n",
    "\n",
    "find_lbl = lambda lable: [key for key, values in captions.items() if lable in values]"
   ]
  },
  {
   "cell_type": "code",
   "execution_count": null,
   "metadata": {},
   "outputs": [
    {
     "data": {
      "image/png": "[encoded data removed]",
      "text/plain": [
       "<Figure size 300x300 with 1 Axes>"
      ]
     },
     "metadata": {},
     "output_type": "display_data"
    }
   ],
   "source": [
    "ims, inp, tgt = next(iter(vision_dl['valid']))\n",
    "\n",
    "idx = 20\n",
    "actual_caption = tokenizer.decode(inp[idx]).split('\\n')[0]  # as \\n is padded to the label\n",
    "pred_caption = generate_caption(model, ims[idx])\n",
    "\n",
    "show_images(ims[idx], f\"A:{actual_caption} P:{pred_caption}\")"
   ]
  },
  {
   "cell_type": "code",
   "execution_count": null,
   "metadata": {},
   "outputs": [
    {
     "data": {
      "text/plain": [
       "('crew neck sweater', 'knit sweater')"
      ]
     },
     "execution_count": null,
     "metadata": {},
     "output_type": "execute_result"
    }
   ],
   "source": [
    "actual_caption, pred_caption"
   ]
  },
  {
   "cell_type": "code",
   "execution_count": null,
   "metadata": {},
   "outputs": [
    {
     "data": {
      "text/plain": [
       "([2], [2])"
      ]
     },
     "execution_count": null,
     "metadata": {},
     "output_type": "execute_result"
    }
   ],
   "source": [
    "find_lbl(actual_caption), find_lbl(pred_caption)"
   ]
  },
  {
   "cell_type": "markdown",
   "metadata": {},
   "source": [
    "### Text"
   ]
  },
  {
   "cell_type": "code",
   "execution_count": null,
   "metadata": {},
   "outputs": [],
   "source": [
    "#|export\n",
    "\n",
    "@torch.no_grad()\n",
    "def generate_text(model, prompt, max_new_tokens=100, temperature=1.0):\n",
    "    \"\"\"\n",
    "    prompt: string to start generation\n",
    "    max_new_tokens: how many tokens to generate\n",
    "    temperature: higher = more random, lower = more deterministic\n",
    "    \"\"\"\n",
    "    model.eval()\n",
    "    tokens = tokenizer.encode(prompt)\n",
    "    tokens = torch.tensor(tokens).unsqueeze(0)  # Add batch dim\n",
    "    tokens = tokens.to(multiConfig.device)\n",
    "    for _ in range(max_new_tokens):\n",
    "        # Crop to last seq_len tokens if needed\n",
    "        context = tokens if tokens.size(1) <= model.embed.pos_ids.size(0) else tokens[:, -model.embed.pos_ids.size(0):]\n",
    "\n",
    "        # Get predictions\n",
    "        with torch.no_grad(), torch.autocast(device_type=multiConfig.device, dtype=torch.bfloat16):\n",
    "          logits = model(context)\n",
    "        logits = logits[:, -1, :] / temperature  # Focus on last token\n",
    "\n",
    "        # Sample next token\n",
    "        probs = torch.softmax(logits, dim=-1)\n",
    "        next_token = torch.multinomial(probs, num_samples=1)\n",
    "\n",
    "        # Append to sequence\n",
    "        tokens = torch.cat([tokens, next_token], dim=1)\n",
    "\n",
    "    return tokenizer.decode(tokens.squeeze().tolist())"
   ]
  },
  {
   "cell_type": "code",
   "execution_count": null,
   "metadata": {},
   "outputs": [
    {
     "name": "stdout",
     "output_type": "stream",
     "text": [
      "To be or not to be view a why sept\n",
      "The tune dos gentle with thy griefather the people\n",
      "To the de nose worst old morns land,\n",
      "That we stain block us bash'd heard you be aquars.\n",
      "The hate, sir, let service shugright brief.\n",
      "\n",
      "ANTIGONUS:\n",
      "I am there you and livering to his fill'd:--\n"
     ]
    }
   ],
   "source": [
    "print(generate_text(model, \"To be or not to be\", max_new_tokens=256))"
   ]
  }
 ],
 "metadata": {
  "kernelspec": {
   "display_name": "python3",
   "language": "python",
   "name": "python3"
  }
 },
 "nbformat": 4,
 "nbformat_minor": 0
}
