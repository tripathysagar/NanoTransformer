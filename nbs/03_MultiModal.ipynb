{
  "cells": [
    {
      "cell_type": "raw",
      "metadata": {
        "id": "Yj0jxumypF3p",
        "vscode": {
          "languageId": "raw"
        }
      },
      "source": [
        "---\n",
        "description: Various components of MultiModal\n",
        "output-file: MultiModal.html\n",
        "title: MultiModal\n",
        "---"
      ]
    },
    {
      "cell_type": "code",
      "execution_count": 1,
      "metadata": {
        "id": "RdNwJhMRpF3q"
      },
      "outputs": [],
      "source": [
        "#| default_exp MultiModal"
      ]
    },
    {
      "cell_type": "markdown",
      "metadata": {
        "id": "VW-6uxEzpF3r",
        "vscode": {
          "languageId": "makefile"
        }
      },
      "source": [
        "\n",
        "My [Nano GPT](https://tripathysagar.github.io/sagaTrip/gptdecoder.html) model could write Shakespeare-style text. Cool. But it had no idea what a boot looked like. Time to teach it.\n",
        "\n",
        "But here's the problem: images and text are fundamentally different beasts. Text? Nice, tidy tokens. Images? Thousands of pixels, each with values from 0-255. The model needs to make sense of *both* simultaneously.\n",
        "\n",
        "**Aim:** Following the spirit of faster iteration and rapid experimentation, I built a text-to-text model (takes text input, predicts text output). The goal: expand this to handle **multimodal inputs**—learning to generate text captions from images.\n",
        "\n",
        "The experiment uses Shakespeare text for language modeling and Fashion-MNIST images with captions for vision-language tasks. This architecture pattern is similar to modern models like LLaVA. The model learns that `👢 → 'simple boot'`\n",
        "\n",
        "Please check the complete [blog](https://tripathysagar.github.io/sagaTrip/multimodal.html) and inspiration.\n"
      ]
    },
    {
      "cell_type": "code",
      "execution_count": 1,
      "metadata": {
        "colab": {
          "base_uri": "https://localhost:8080/"
        },
        "id": "-baz8CxV2F6E",
        "outputId": "ee6bb922-ee8f-4671-84cc-7db19d058e56"
      },
      "outputs": [
        {
          "name": "stdout",
          "output_type": "stream",
          "text": [
            "  Installing build dependencies ... \u001b[?25l\u001b[?25hdone\n",
            "  Getting requirements to build wheel ... \u001b[?25l\u001b[?25hdone\n",
            "  Preparing metadata (pyproject.toml) ... \u001b[?25l\u001b[?25hdone\n",
            "  Building wheel for NanoTransformer (pyproject.toml) ... \u001b[?25l\u001b[?25hdone\n"
          ]
        }
      ],
      "source": [
        "try:\n",
        "    import google.colab\n",
        "    !pip install -q git+https://github.com/tripathysagar/NanoTransformer.git\n",
        "except Exception as e:\n",
        "    pass"
      ]
    },
    {
      "cell_type": "code",
      "execution_count": 2,
      "metadata": {
        "colab": {
          "base_uri": "https://localhost:8080/"
        },
        "id": "C2zf-YJ_2Hbd",
        "outputId": "dacd1b1a-2781-4d4e-ff85-ad6f8269d781"
      },
      "outputs": [
        {
          "name": "stderr",
          "output_type": "stream",
          "text": [
            "100%|██████████| 26.4M/26.4M [00:00<00:00, 114MB/s]\n",
            "100%|██████████| 29.5k/29.5k [00:00<00:00, 4.07MB/s]\n",
            "100%|██████████| 4.42M/4.42M [00:00<00:00, 60.0MB/s]\n",
            "100%|██████████| 5.15k/5.15k [00:00<00:00, 11.6MB/s]\n"
          ]
        }
      ],
      "source": [
        "#|export\n",
        "from NanoTransformer.data import *\n",
        "from NanoTransformer.GPTText2Text import *\n",
        "from NanoTransformer.ImageEncoder import *"
      ]
    },
    {
      "cell_type": "code",
      "execution_count": 3,
      "metadata": {
        "colab": {
          "base_uri": "https://localhost:8080/"
        },
        "id": "1OhRc2lD2QEe",
        "outputId": "4d312339-e2df-4076-8ef9-cb9fc86fec79"
      },
      "outputs": [
        {
          "data": {
            "text/plain": [
              "{'train': <torch.utils.data.dataloader.DataLoader at 0x7cda5e39d520>,\n",
              " 'valid': <torch.utils.data.dataloader.DataLoader at 0x7cdb56cb2ff0>}"
            ]
          },
          "execution_count": 3,
          "metadata": {},
          "output_type": "execute_result"
        }
      ],
      "source": [
        "#|export\n",
        "\n",
        "#text dataloders\n",
        "text_dl = get_text_dl()\n",
        "text_dl"
      ]
    },
    {
      "cell_type": "code",
      "execution_count": 4,
      "metadata": {
        "colab": {
          "base_uri": "https://localhost:8080/"
        },
        "id": "yF4y78CZ2WTN",
        "outputId": "9a72e2ad-bc66-4cae-963e-b7590634f982"
      },
      "outputs": [
        {
          "data": {
            "text/plain": [
              "(torch.Size([64, 128]), torch.Size([64, 128]))"
            ]
          },
          "execution_count": 4,
          "metadata": {},
          "output_type": "execute_result"
        }
      ],
      "source": [
        "for x,y in text_dl['train']:\n",
        "    break\n",
        "x.shape, y.shape"
      ]
    },
    {
      "cell_type": "code",
      "execution_count": 5,
      "metadata": {
        "id": "O61dnvzgEc4Y"
      },
      "outputs": [],
      "source": [
        "#|export\n",
        "\n",
        "from fastcore.all import *\n",
        "from torchvision import datasets, transforms\n",
        "from torch.utils.data import Dataset, DataLoader\n",
        "import torch"
      ]
    },
    {
      "cell_type": "code",
      "execution_count": 6,
      "metadata": {
        "colab": {
          "base_uri": "https://localhost:8080/"
        },
        "id": "XkNNbvZxFWVr",
        "outputId": "23204de8-136d-4307-82b9-52942a89aed8"
      },
      "outputs": [
        {
          "data": {
            "text/plain": [
              "(torch.Size([1, 28, 28]),\n",
              " tensor([57, 58, 39, 52, 42, 39, 56, 42,  1, 40, 53, 53, 58]),\n",
              " tensor([57, 58, 39, 52, 42, 39, 56, 42,  1, 40, 53, 53, 58,  0]))"
            ]
          },
          "execution_count": 6,
          "metadata": {},
          "output_type": "execute_result"
        }
      ],
      "source": [
        "train_ds = MNISTDataset(tokenizer, path)\n",
        "im, lbl_inp, lbl_tgt = train_ds[0]\n",
        "im.shape, lbl_inp, lbl_tgt"
      ]
    },
    {
      "cell_type": "code",
      "execution_count": 7,
      "metadata": {
        "colab": {
          "base_uri": "https://localhost:8080/"
        },
        "id": "5IfhmDDoP5jK",
        "outputId": "298b9a2e-55a4-4641-c946-14b5ad4d4c68"
      },
      "outputs": [
        {
          "data": {
            "text/plain": [
              "('standard boot', 'standard boot\\n')"
            ]
          },
          "execution_count": 7,
          "metadata": {},
          "output_type": "execute_result"
        }
      ],
      "source": [
        "tokenizer.decode(lbl_inp), tokenizer.decode(lbl_tgt)"
      ]
    },
    {
      "cell_type": "code",
      "execution_count": 8,
      "metadata": {
        "colab": {
          "base_uri": "https://localhost:8080/",
          "height": 331
        },
        "id": "D64YlMxwFh7-",
        "outputId": "6fedda53-21cc-4c60-ff77-4dc6de8aa656"
      },
      "outputs": [
        {
          "data": {
            "image/png": "[encoded data removed]",
            "text/plain": [
              "<Figure size 300x300 with 1 Axes>"
            ]
          },
          "metadata": {},
          "output_type": "display_data"
        }
      ],
      "source": [
        "show_images(im, f\"Input: {tokenizer.decode(lbl_inp)}\\nTarget: {tokenizer.decode(lbl_tgt)}\")"
      ]
    },
    {
      "cell_type": "code",
      "execution_count": 9,
      "metadata": {
        "colab": {
          "base_uri": "https://localhost:8080/"
        },
        "id": "hBEWB7WKAa3h",
        "outputId": "a2e6769c-2b9f-4296-d7cb-4f1f08407cb8"
      },
      "outputs": [
        {
          "data": {
            "text/plain": [
              "(118, 20)"
            ]
          },
          "execution_count": 9,
          "metadata": {},
          "output_type": "execute_result"
        }
      ],
      "source": [
        "#|export\n",
        "\n",
        "vision_dl = get_mnist_caption_dl(tokenizer, path, 512)\n",
        "len(vision_dl['train']), len(vision_dl['valid'])"
      ]
    },
    {
      "cell_type": "code",
      "execution_count": 10,
      "metadata": {
        "colab": {
          "base_uri": "https://localhost:8080/"
        },
        "id": "3FtZnGT7BWHQ",
        "outputId": "60b70a1f-614b-4798-f0ef-effd79986333"
      },
      "outputs": [
        {
          "data": {
            "text/plain": [
              "(123, 14)"
            ]
          },
          "execution_count": 10,
          "metadata": {},
          "output_type": "execute_result"
        }
      ],
      "source": [
        "len(text_dl['train']), len(text_dl['valid'])"
      ]
    },
    {
      "cell_type": "code",
      "execution_count": 11,
      "metadata": {
        "colab": {
          "base_uri": "https://localhost:8080/"
        },
        "id": "LI4D2a1G2dj8",
        "outputId": "1017e3b4-e3b3-49d3-a756-62de19fcd507"
      },
      "outputs": [
        {
          "data": {
            "text/plain": [
              "(torch.Size([512, 19]), torch.Size([512, 20]))"
            ]
          },
          "execution_count": 11,
          "metadata": {},
          "output_type": "execute_result"
        }
      ],
      "source": [
        "ims, inp, tgt = next(iter(vision_dl['train']))\n",
        "\n",
        "assert ims.shape[0] == inp.shape[0] == tgt.shape[0]\n",
        "assert ims.shape[1:] == torch.Size([1, 28, 28])\n",
        "inp.shape, tgt.shape"
      ]
    },
    {
      "cell_type": "code",
      "execution_count": 12,
      "metadata": {
        "colab": {
          "base_uri": "https://localhost:8080/",
          "height": 519
        },
        "id": "YcGUMSwC2fJ8",
        "outputId": "947a5c62-e4e1-4ba5-865d-959dc06e5215"
      },
      "outputs": [
        {
          "data": {
            "image/png": "[encoded data removed]",
            "text/plain": [
              "<Figure size 300x300 with 1 Axes>"
            ]
          },
          "metadata": {},
          "output_type": "display_data"
        }
      ],
      "source": [
        "show_images(ims[0], f\"I: {tokenizer.decode(inp[0])}T: {tokenizer.decode(tgt[0])}\")"
      ]
    },
    {
      "cell_type": "markdown",
      "metadata": {
        "id": "mjR52nN01smP"
      },
      "source": [
        "## Training Vision Encoder"
      ]
    },
    {
      "cell_type": "code",
      "execution_count": 17,
      "metadata": {
        "colab": {
          "base_uri": "https://localhost:8080/"
        },
        "id": "_sxJVFoP2gnN",
        "outputId": "b7596f5e-75f5-48c8-bd93-84c0dca9c93e"
      },
      "outputs": [
        {
          "name": "stdout",
          "output_type": "stream",
          "text": [
            "Epoch \tTrain Loss \tValid Loss \taccurecy\n",
            "1   \t0.4441   \t0.3389\t\t0.8760\n",
            "2   \t0.2946   \t0.3193\t\t0.8840\n",
            "3   \t0.2485   \t0.2830\t\t0.8973\n",
            "4   \t0.2133   \t0.2511\t\t0.9086\n",
            "5   \t0.1855   \t0.2732\t\t0.9059\n",
            "6   \t0.1552   \t0.2607\t\t0.9140\n"
          ]
        }
      ],
      "source": [
        "# train the vison encoder\n",
        "from torch import nn\n",
        "classifier = classifier = nn.Sequential(\n",
        "    VisionEncoder(),\n",
        "    nn.Sequential(\n",
        "            nn.Linear(visConfig.head_op_dim, 1024),\n",
        "            nn.BatchNorm1d(1024),\n",
        "            nn.Linear(1024, visConfig.nc)))\n",
        "vision_encoder_train(classifier, 6)"
      ]
    },
    {
      "cell_type": "markdown",
      "metadata": {
        "id": "g2HK_5L72KK4"
      },
      "source": [
        "## Model"
      ]
    },
    {
      "cell_type": "markdown",
      "metadata": {
        "id": "rP1R51zO2LmY"
      },
      "source": [
        "Updating the embedding to take in image in first postions, by adding a paramer `start_idx` and defults to `0` for image it will be `1`."
      ]
    },
    {
      "cell_type": "code",
      "execution_count": 18,
      "metadata": {
        "id": "EuvVunox2uo-"
      },
      "outputs": [],
      "source": [
        "#|export\n",
        "import torch\n",
        "from torch import nn\n",
        "class Embedding(nn.Module):\n",
        "    def __init__(self, config:GPTConfig):\n",
        "        super().__init__()\n",
        "        self.register_buffer('pos_ids', torch.arange(config.seq_len))  # for adding the postional encoding from 0 to seq_len - 1\n",
        "\n",
        "        self.embed = nn.Embedding(config.vocab_size, config.embedding_dim)\n",
        "        self.pos_embed =  nn.Embedding(config.seq_len, config.embedding_dim)\n",
        "\n",
        "    def forward(self, x, start_idx=0):           #bs * seq_len\n",
        "        return self.embed(x) + self.pos_embed(self.pos_ids[start_idx:start_idx+x.size(1)])     #bs * seq_len * embedding_dim\n"
      ]
    },
    {
      "cell_type": "code",
      "execution_count": 19,
      "metadata": {
        "id": "_vw4xpMI20wC"
      },
      "outputs": [],
      "source": [
        "#|export\n",
        "class MultiModal(nn.Module):\n",
        "    def __init__(self):\n",
        "        super().__init__()\n",
        "\n",
        "        self.vis_encoder = classifier[0]\n",
        "        self.proj_layer = nn.Linear(visConfig.head_op_dim, gptConfig.embedding_dim)\n",
        "\n",
        "        self.embed = Embedding(gptConfig)\n",
        "        self.blocks = nn.ModuleList(\n",
        "            [\n",
        "                nn.Sequential(MultiHeadAttention(gptConfig), FFN(gptConfig))\n",
        "                for _ in range(gptConfig.n_layers)\n",
        "            ])\n",
        "        self.layer_norm = nn.LayerNorm(gptConfig.embedding_dim)\n",
        "        self.lm_head = nn.Linear(gptConfig.embedding_dim, gptConfig.vocab_size)\n",
        "\n",
        "        for param in self.vis_encoder.parameters():       #freezing the vision encoder\n",
        "            param.requires_grad = False\n",
        "\n",
        "    def forward(self, text_idx, image=None):\n",
        "        if image is not None:\n",
        "            # Ensure image has the correct dtype before passing to the encoder\n",
        "            image = image.to(self.proj_layer.weight.dtype)                     # ensure the image input has the correct data type\n",
        "            img_emb = self.proj_layer(self.vis_encoder(image)).unsqueeze(1)    # (bs, 1, 128)\n",
        "            img_emb = img_emb + self.embed.pos_embed(self.embed.pos_ids[0:1])  # fetch embeddings at the 0th idx\n",
        "            text_emb = self.embed(text_idx, start_idx=1)                       # positions start at 1\n",
        "            x = torch.cat([img_emb, text_emb], dim=1)\n",
        "        else:\n",
        "            x = self.embed(text_idx)\n",
        "\n",
        "        for block in self.blocks:\n",
        "            x = block(x)\n",
        "        return self.lm_head(self.layer_norm(x))"
      ]
    },
    {
      "cell_type": "markdown",
      "metadata": {
        "id": "oEPhiX1o2Fz-"
      },
      "source": [
        "## Config"
      ]
    },
    {
      "cell_type": "code",
      "execution_count": 20,
      "metadata": {
        "id": "Jh4L5Tz_26ff"
      },
      "outputs": [],
      "source": [
        "#|export\n",
        "from dataclasses import dataclass\n",
        "\n",
        "@dataclass\n",
        "class MultiModalConfig:\n",
        "    bs = 256\n",
        "\n",
        "    device = 'cuda' if torch.cuda.is_available() else 'cpu'\n",
        "    dtype = torch.bfloat16 if torch.cuda.is_available() and torch.cuda.get_device_capability()[0] >= 8 else torch.float16 # Use bfloat16 on Ampere+ GPUs, otherwise use float16\n",
        "\n",
        "    lr = 1e-3\n",
        "    max_grad_norm = 1.0\n",
        "\n",
        "    num_steps_per_epoch = min(len(text_dl['train']), len(dls['train']))\n",
        "    epochs = 20\n",
        "\n",
        "multiConfig = MultiModalConfig()"
      ]
    },
    {
      "cell_type": "markdown",
      "metadata": {
        "id": "kNXQZIk13Drv"
      },
      "source": [
        "## Data iterators"
      ]
    },
    {
      "cell_type": "markdown",
      "metadata": {
        "id": "bf831db1"
      },
      "source": [
        "1. TrainBatchIter: for iterating for data for text_dl and vision_dl at a batch sequentially\n",
        "2. ValidBatchIter: for iterating for data for text_dl and vision_dl at a batch exaustly"
      ]
    },
    {
      "cell_type": "code",
      "execution_count": 21,
      "metadata": {
        "id": "W2GOJzjY6Ebl"
      },
      "outputs": [],
      "source": [
        "#|export\n",
        "\n",
        "class TrainBatchIter:\n",
        "    def __init__(self):\n",
        "        self.reset()\n",
        "\n",
        "    def reset(self):\n",
        "        self.text_dl = iter(text_dl['train'])\n",
        "        self.vision_dl = iter(vision_dl['train'])\n",
        "        self.idx = -1\n",
        "        self.text_exhausted = False\n",
        "        self.vision_exhausted = False\n",
        "\n",
        "    def __iter__(self):\n",
        "        return self\n",
        "\n",
        "    def __next__(self):\n",
        "        # If both exhausted, stop\n",
        "        if self.text_exhausted and self.vision_exhausted:\n",
        "            raise StopIteration\n",
        "\n",
        "        self.idx += 1\n",
        "        use_text = (self.idx % 2 == 0)\n",
        "\n",
        "        # Adjust if chosen iterator is exhausted\n",
        "        if use_text and self.text_exhausted:\n",
        "            use_text = False\n",
        "        elif not use_text and self.vision_exhausted:\n",
        "            use_text = True\n",
        "\n",
        "        # Try to get batch\n",
        "        try:\n",
        "            if use_text:\n",
        "                x, y = next(self.text_dl)\n",
        "                return x, y, None\n",
        "            else:\n",
        "                images, x, y = next(self.vision_dl)\n",
        "                return x, y, images\n",
        "        except StopIteration:\n",
        "            # Mark as exhausted and try the other\n",
        "            if use_text:\n",
        "                self.text_exhausted = True\n",
        "                try:\n",
        "                    images, x, y = next(self.vision_dl)\n",
        "                    return x, y, images\n",
        "                except StopIteration:\n",
        "                    self.vision_exhausted = True\n",
        "                    raise\n",
        "            else:\n",
        "                self.vision_exhausted = True\n",
        "                try:\n",
        "                    x, y = next(self.text_dl)\n",
        "                    return x, y, None\n",
        "                except StopIteration:\n",
        "                    self.text_exhausted = True\n",
        "                    raise"
      ]
    },
    {
      "cell_type": "code",
      "execution_count": 22,
      "metadata": {
        "id": "RE_moQrPWdni"
      },
      "outputs": [],
      "source": [
        "#|export\n",
        "\n",
        "class ValidBatchIter:\n",
        "    def __init__(self):\n",
        "        self.reset()\n",
        "\n",
        "    def reset(self):\n",
        "        # Reset the iters\n",
        "        self.text_dl = iter(text_dl['valid'])\n",
        "        self.vision_dl = iter(vision_dl['valid'])\n",
        "        self.text_exhausted = False\n",
        "        self.vision_exhausted = False\n",
        "\n",
        "    def __iter__(self):\n",
        "        return self\n",
        "\n",
        "    def __next__(self):\n",
        "        # If both exhausted, stop\n",
        "        if not self.text_exhausted:\n",
        "            #iter through the text data first\n",
        "            #once exausted do not raise stop iter instead iter through vision data\n",
        "            try:\n",
        "                x, y = next(self.text_dl)\n",
        "                return x, y, None\n",
        "            except StopIteration:\n",
        "                self.text_exhausted = True\n",
        "\n",
        "        if self.text_exhausted:\n",
        "          try:\n",
        "            # fetch vision data\n",
        "            images, x, y = next(self.vision_dl)\n",
        "            return x, y, images\n",
        "\n",
        "          except StopIteration:\n",
        "            self.vision_exhausted = True\n",
        "            raise StopIteration"
      ]
    },
    {
      "cell_type": "markdown",
      "metadata": {
        "id": "XgtVWlTx3y33"
      },
      "source": [
        "## Training"
      ]
    },
    {
      "cell_type": "code",
      "execution_count": 23,
      "metadata": {
        "id": "F8dT5nke3K_I"
      },
      "outputs": [],
      "source": [
        "#|export\n",
        "from torch.optim import AdamW\n",
        "from torch.nn.utils import clip_grad_norm_"
      ]
    },
    {
      "cell_type": "code",
      "execution_count": 24,
      "metadata": {
        "id": "_WQwu1ks73CR"
      },
      "outputs": [],
      "source": [
        "#|export\n",
        "\n",
        "train_iters = TrainBatchIter()\n",
        "valid_iters = ValidBatchIter()"
      ]
    },
    {
      "cell_type": "code",
      "execution_count": 25,
      "metadata": {
        "id": "mgij0MlCk5sn"
      },
      "outputs": [],
      "source": [
        "#|export\n",
        "\n",
        "def pred(model, text_input, ims):\n",
        "  \"\"\"prediction for given text and image\"\"\"\n",
        "  return model(text_input, ims)"
      ]
    },
    {
      "cell_type": "code",
      "execution_count": 26,
      "metadata": {
        "colab": {
          "base_uri": "https://localhost:8080/"
        },
        "id": "g5N7dGeZlKPi",
        "outputId": "2f5f7f92-0855-4ca7-bb8d-fc8e0bc9061b"
      },
      "outputs": [
        {
          "data": {
            "text/plain": [
              "CrossEntropyLoss()"
            ]
          },
          "execution_count": 26,
          "metadata": {},
          "output_type": "execute_result"
        }
      ],
      "source": [
        "loss_func"
      ]
    },
    {
      "cell_type": "code",
      "execution_count": 27,
      "metadata": {
        "id": "9MUX0gldlOP5"
      },
      "outputs": [],
      "source": [
        "#|export\n",
        "\n",
        "def cal_loss(logits, text_target):\n",
        "  \"\"\"calculate the loss for pred and target\"\"\"\n",
        "  return loss_func(logits.reshape(-1, gptConfig.vocab_size), text_target.reshape(-1))"
      ]
    },
    {
      "cell_type": "code",
      "execution_count": 30,
      "metadata": {
        "colab": {
          "base_uri": "https://localhost:8080/"
        },
        "id": "EWgckHArlaLh",
        "outputId": "7ec55e5e-c51d-4294-a7ac-21ce5c2149eb"
      },
      "outputs": [
        {
          "data": {
            "text/plain": [
              "tensor(0.0352, device='cuda:0', grad_fn=<DivBackward0>)"
            ]
          },
          "execution_count": 30,
          "metadata": {},
          "output_type": "execute_result"
        }
      ],
      "source": [
        "loss = 0\n",
        "model = MultiModal().to(multiConfig.device)\n",
        "for x, y in text_dl['train']:\n",
        "  x, y = x.to(multiConfig.device), y.to(multiConfig.device)\n",
        "  logits = pred(model, x, None)\n",
        "  loss = cal_loss(logits, y)\n",
        "  break\n",
        "loss/len(text_dl['train'])"
      ]
    },
    {
      "cell_type": "markdown",
      "metadata": {
        "id": "ias8lF_O4Exv"
      },
      "source": [
        "### Loss calculate"
      ]
    },
    {
      "cell_type": "code",
      "execution_count": 31,
      "metadata": {
        "id": "Cefz6Fj8nLpp"
      },
      "outputs": [],
      "source": [
        "#|export\n",
        "\n",
        "def calculate_text_loss(data_dl):\n",
        "    total_loss = 0\n",
        "    num_batches = 0\n",
        "\n",
        "    for x, y in data_dl:\n",
        "        x, y = x.to(multiConfig.device), y.to(multiConfig.device)\n",
        "\n",
        "        with torch.no_grad():\n",
        "          logits = pred(model, x, None)\n",
        "          loss = cal_loss(logits, y)\n",
        "\n",
        "        total_loss += loss.item()\n",
        "        num_batches += 1\n",
        "\n",
        "    return total_loss / num_batches"
      ]
    },
    {
      "cell_type": "code",
      "execution_count": 32,
      "metadata": {
        "colab": {
          "base_uri": "https://localhost:8080/"
        },
        "id": "rHoGPhPfpKee",
        "outputId": "bb7a87d2-c145-4f3d-a22f-c87fe081aa76"
      },
      "outputs": [
        {
          "data": {
            "text/plain": [
              "4.3315196658953"
            ]
          },
          "execution_count": 32,
          "metadata": {},
          "output_type": "execute_result"
        }
      ],
      "source": [
        "(calculate_text_loss(text_dl['train']) + calculate_text_loss(text_dl['valid'])) / 2"
      ]
    },
    {
      "cell_type": "code",
      "execution_count": 33,
      "metadata": {
        "id": "246e319c"
      },
      "outputs": [],
      "source": [
        "#|export\n",
        "\n",
        "def calculate_vision_loss(data_dl):\n",
        "    total_loss = 0\n",
        "    num_batches = 0\n",
        "\n",
        "    for ims, x, y in data_dl:\n",
        "        ims = ims.to(multiConfig.device)\n",
        "        x, y = x.to(multiConfig.device), y.to(multiConfig.device)\n",
        "\n",
        "        with torch.no_grad():\n",
        "          logits = pred(model, x, ims)\n",
        "          loss = cal_loss(logits, y)\n",
        "\n",
        "        total_loss += loss.item()\n",
        "        num_batches += 1\n",
        "\n",
        "    return total_loss / num_batches\n"
      ]
    },
    {
      "cell_type": "code",
      "execution_count": 34,
      "metadata": {
        "colab": {
          "base_uri": "https://localhost:8080/"
        },
        "id": "nXlTX-LzpF31",
        "outputId": "30c8db6e-f69f-48cd-f8e8-0437736e1eeb"
      },
      "outputs": [
        {
          "data": {
            "text/plain": [
              "4.024189016576541"
            ]
          },
          "execution_count": 34,
          "metadata": {},
          "output_type": "execute_result"
        }
      ],
      "source": [
        "(calculate_vision_loss(vision_dl['train']) + calculate_vision_loss(vision_dl['valid'])) / 2"
      ]
    },
    {
      "cell_type": "code",
      "execution_count": 35,
      "metadata": {
        "id": "Xmn_rkCJpl5v"
      },
      "outputs": [],
      "source": [
        "#|export\n",
        "\n",
        "def cal_indivisual_loss():\n",
        "  text_loss = (calculate_text_loss(text_dl['train']) + calculate_text_loss(text_dl['valid'])) / 2\n",
        "  vision_loss = (calculate_vision_loss(vision_dl['train']) + calculate_vision_loss(vision_dl['valid'])) / 2\n",
        "  print(f\"Text Loss: {text_loss:.4f} | Vision Loss: {vision_loss:.4f}\")"
      ]
    },
    {
      "cell_type": "code",
      "execution_count": 36,
      "metadata": {
        "colab": {
          "base_uri": "https://localhost:8080/"
        },
        "id": "ahVi7dzHpF33",
        "outputId": "ed97e703-53fa-48c6-b63c-edff91ee67e2"
      },
      "outputs": [
        {
          "name": "stdout",
          "output_type": "stream",
          "text": [
            "Text Loss: 4.3315 | Vision Loss: 4.0227\n"
          ]
        }
      ],
      "source": [
        "cal_indivisual_loss()"
      ]
    },
    {
      "cell_type": "markdown",
      "metadata": {
        "id": "a5Q189qY4RJY"
      },
      "source": [
        "### Training loss"
      ]
    },
    {
      "cell_type": "code",
      "execution_count": null,
      "metadata": {
        "id": "IQY7QhMR3D5p"
      },
      "outputs": [],
      "source": [
        "#|export\n",
        "def multi_modal_train(model, epochs):\n",
        "    model = model.to(multiConfig.device)\n",
        "    optimizer = AdamW(model.parameters(), lr=multiConfig.lr)\n",
        "\n",
        "    for epoch in range(epochs):\n",
        "        model.train()\n",
        "        train_loss, no_train = 0, 0\n",
        "        train_iters.reset()\n",
        "\n",
        "        for text_input, text_target, ims in train_iters: # Iterate directly over iters\n",
        "            no_train += 1\n",
        "            # Handle None for images\n",
        "            if ims is not None:\n",
        "                ims = ims.to(multiConfig.device)\n",
        "\n",
        "            text_input, text_target = text_input.to(multiConfig.device), text_target.to(multiConfig.device)\n",
        "\n",
        "            optimizer.zero_grad()\n",
        "\n",
        "            with torch.autocast(device_type=multiConfig.device, dtype=multiConfig.dtype):\n",
        "              logits = pred(model, text_input, ims) #model(text_input, ims)\n",
        "\n",
        "              loss = cal_loss(logits, text_target)    #loss_func(logits.reshape(-1, gptConfig.vocab_size), text_target.reshape(-1))\n",
        "\n",
        "            loss.backward()\n",
        "\n",
        "            clip_grad_norm_(model.parameters(), gptConfig.max_grad_norm) # to clip gradients\n",
        "\n",
        "            optimizer.step()\n",
        "\n",
        "            train_loss += loss.item()\n",
        "\n",
        "        valid_iters.reset()\n",
        "        model.eval()\n",
        "        val_loss, no_valid = 0, 0\n",
        "        with torch.no_grad(), torch.autocast(device_type=gptConfig.device, dtype=gptConfig.dtype):\n",
        "            for text_input, text_target, ims in valid_iters:\n",
        "                no_valid += 1\n",
        "\n",
        "                if ims is not None: ims = ims.to(multiConfig.device)\n",
        "\n",
        "                text_input, text_target = text_input.to(multiConfig.device), text_target.to(multiConfig.device)\n",
        "\n",
        "                logits = pred(model, text_input, ims)\n",
        "\n",
        "                loss = cal_loss(logits, text_target)\n",
        "\n",
        "                val_loss += loss.item()\n",
        "\n",
        "        print(f\"{epoch} -> {train_loss/no_train:.4f} : {val_loss/no_valid:.4f}\")"
      ]
    },
    {
      "cell_type": "code",
      "execution_count": 40,
      "metadata": {
        "colab": {
          "base_uri": "https://localhost:8080/"
        },
        "id": "aRxGyBNYpF33",
        "outputId": "9211c548-61e8-428b-f314-cedf0ded8959"
      },
      "outputs": [
        {
          "name": "stdout",
          "output_type": "stream",
          "text": [
            "0 -> 1.6530 : 1.1597\n",
            "1 -> 1.3157 : 1.0520\n",
            "2 -> 1.2048 : 0.9838\n",
            "3 -> 1.1186 : 0.9407\n",
            "4 -> 1.0536 : 0.8997\n",
            "5 -> 1.0038 : 0.8722\n",
            "6 -> 0.9683 : 0.8550\n",
            "7 -> 0.9416 : 0.8389\n",
            "8 -> 0.9203 : 0.8263\n",
            "9 -> 0.9037 : 0.8177\n",
            "10 -> 0.8899 : 0.8094\n",
            "11 -> 0.8782 : 0.7969\n",
            "12 -> 0.8669 : 0.7928\n",
            "13 -> 0.8586 : 0.7885\n",
            "14 -> 0.8509 : 0.7823\n",
            "15 -> 0.8433 : 0.7810\n",
            "16 -> 0.8369 : 0.7761\n",
            "17 -> 0.8313 : 0.7740\n",
            "18 -> 0.8260 : 0.7708\n",
            "19 -> 0.8215 : 0.7694\n",
            "20 -> 0.8165 : 0.7650\n",
            "21 -> 0.8123 : 0.7631\n",
            "22 -> 0.8087 : 0.7642\n",
            "23 -> 0.8052 : 0.7638\n",
            "24 -> 0.8020 : 0.7574\n",
            "25 -> 0.7992 : 0.7631\n",
            "26 -> 0.7957 : 0.7592\n",
            "27 -> 0.7930 : 0.7609\n",
            "28 -> 0.7904 : 0.7627\n",
            "29 -> 0.7882 : 0.7577\n"
          ]
        }
      ],
      "source": [
        "model = MultiModal()\n",
        "multi_modal_train(model, 30)"
      ]
    },
    {
      "cell_type": "markdown",
      "metadata": {
        "id": "ZpKj0Hdm0xiX"
      },
      "source": [
        "### Loss after training"
      ]
    },
    {
      "cell_type": "code",
      "execution_count": 41,
      "metadata": {
        "colab": {
          "base_uri": "https://localhost:8080/"
        },
        "id": "icpz7Fp9t-us",
        "outputId": "4d000c53-cb9e-43a1-9be2-7c32ca5aeae4"
      },
      "outputs": [
        {
          "name": "stdout",
          "output_type": "stream",
          "text": [
            "Text Loss: 1.4376 | Vision Loss: 0.1654\n"
          ]
        }
      ],
      "source": [
        "cal_indivisual_loss()"
      ]
    },
    {
      "cell_type": "markdown",
      "metadata": {
        "id": "6wWCk5Pl04vQ"
      },
      "source": [
        "## Inferenece"
      ]
    },
    {
      "cell_type": "markdown",
      "metadata": {
        "id": "yYAQBndV1M1v"
      },
      "source": [
        "### Image"
      ]
    },
    {
      "cell_type": "code",
      "execution_count": 42,
      "metadata": {
        "id": "VV-KX3dbHKHI"
      },
      "outputs": [],
      "source": [
        "#|export\n",
        "\n",
        "@torch.no_grad()\n",
        "def generate_caption(model, image, max_len=30):\n",
        "    model.eval()\n",
        "    image = image.unsqueeze(0).to(multiConfig.device).to(multiConfig.dtype)  # Add batch dimension and move to device with correct dtype\n",
        "\n",
        "    generated = []\n",
        "    text_idx = torch.empty((1, 0), dtype=torch.long, device=multiConfig.device)  # Empty text\n",
        "\n",
        "    for _ in range(max_len):\n",
        "        logits = model(text_idx, image)\n",
        "        next_token = logits[:, -1, :].argmax(dim=-1)\n",
        "\n",
        "        # Check for stop token '\\n'\n",
        "        if tokenizer.decode([next_token.item()]) == '\\n':\n",
        "            break\n",
        "\n",
        "        generated.append(next_token.item())\n",
        "        text_idx = torch.cat([text_idx, next_token.unsqueeze(0)], dim=1)\n",
        "\n",
        "    return tokenizer.decode(generated)"
      ]
    },
    {
      "cell_type": "markdown",
      "metadata": {
        "id": "x01ZMx2e0891"
      },
      "source": [
        "Fetch the class from the caption generated"
      ]
    },
    {
      "cell_type": "code",
      "execution_count": 43,
      "metadata": {
        "id": "H5jKA2fufSBN"
      },
      "outputs": [],
      "source": [
        "#|export\n",
        "\n",
        "find_lbl = lambda lable: [key for key, values in captions.items() if lable in values]"
      ]
    },
    {
      "cell_type": "code",
      "execution_count": 44,
      "metadata": {
        "colab": {
          "base_uri": "https://localhost:8080/",
          "height": 290
        },
        "id": "d2DIESsaocAh",
        "outputId": "02a32398-c718-4b39-8956-eadb7817a206"
      },
      "outputs": [
        {
          "data": {
            "image/png": "[encoded data removed]",
            "text/plain": [
              "<Figure size 300x300 with 1 Axes>"
            ]
          },
          "metadata": {},
          "output_type": "display_data"
        }
      ],
      "source": [
        "ims, inp, tgt = next(iter(vision_dl['valid']))\n",
        "\n",
        "idx = 20\n",
        "actual_caption = tokenizer.decode(inp[idx]).split('\\n')[0]  # as \\n is padded to the label\n",
        "pred_caption = generate_caption(model, ims[idx])\n",
        "\n",
        "show_images(ims[idx], f\"A:{actual_caption} P:{pred_caption}\")"
      ]
    },
    {
      "cell_type": "code",
      "execution_count": 45,
      "metadata": {
        "colab": {
          "base_uri": "https://localhost:8080/"
        },
        "id": "Y1WQGx9ngujC",
        "outputId": "f7eb4ade-9be4-48fd-bf3e-0cfa95ffb7c7"
      },
      "outputs": [
        {
          "data": {
            "text/plain": [
              "('knit top', 'knitted top')"
            ]
          },
          "execution_count": 45,
          "metadata": {},
          "output_type": "execute_result"
        }
      ],
      "source": [
        "actual_caption, pred_caption"
      ]
    },
    {
      "cell_type": "code",
      "execution_count": 46,
      "metadata": {
        "colab": {
          "base_uri": "https://localhost:8080/"
        },
        "id": "TAR9bofzgjuQ",
        "outputId": "27c35d8b-7a3d-451d-d74c-510046c62961"
      },
      "outputs": [
        {
          "data": {
            "text/plain": [
              "([2], [2])"
            ]
          },
          "execution_count": 46,
          "metadata": {},
          "output_type": "execute_result"
        }
      ],
      "source": [
        "find_lbl(actual_caption), find_lbl(pred_caption)"
      ]
    },
    {
      "cell_type": "markdown",
      "metadata": {
        "id": "yZzuSTUD1Pvb"
      },
      "source": [
        "### Text"
      ]
    },
    {
      "cell_type": "code",
      "execution_count": 47,
      "metadata": {
        "id": "qlCBIBa7Ia7c"
      },
      "outputs": [],
      "source": [
        "#|export\n",
        "\n",
        "@torch.no_grad()\n",
        "def generate_text(model, prompt, max_new_tokens=100, temperature=1.0):\n",
        "    \"\"\"\n",
        "    prompt: string to start generation\n",
        "    max_new_tokens: how many tokens to generate\n",
        "    temperature: higher = more random, lower = more deterministic\n",
        "    \"\"\"\n",
        "    model.eval()\n",
        "    tokens = tokenizer.encode(prompt)\n",
        "    tokens = torch.tensor(tokens).unsqueeze(0)  # Add batch dim\n",
        "    tokens = tokens.to(multiConfig.device)\n",
        "    for _ in range(max_new_tokens):\n",
        "        # Crop to last seq_len tokens if needed\n",
        "        context = tokens if tokens.size(1) <= model.embed.pos_ids.size(0) else tokens[:, -model.embed.pos_ids.size(0):]\n",
        "\n",
        "        # Get predictions\n",
        "        with torch.no_grad(), torch.autocast(device_type=multiConfig.device, dtype=torch.bfloat16):\n",
        "          logits = model(context)\n",
        "        logits = logits[:, -1, :] / temperature  # Focus on last token\n",
        "\n",
        "        # Sample next token\n",
        "        probs = torch.softmax(logits, dim=-1)\n",
        "        next_token = torch.multinomial(probs, num_samples=1)\n",
        "\n",
        "        # Append to sequence\n",
        "        tokens = torch.cat([tokens, next_token], dim=1)\n",
        "\n",
        "    return tokenizer.decode(tokens.squeeze().tolist())"
      ]
    },
    {
      "cell_type": "code",
      "execution_count": 48,
      "metadata": {
        "colab": {
          "base_uri": "https://localhost:8080/"
        },
        "id": "8vSSfgEHbyDx",
        "outputId": "133ff67e-ceee-4098-bf81-b60df33c753d"
      },
      "outputs": [
        {
          "name": "stdout",
          "output_type": "stream",
          "text": [
            "To be or not to be presently,\n",
            "And valiant serve it.\n",
            "\n",
            "PAULINA:\n",
            "Indeed, the daughter's else, Bohemia,\n",
            "And I take me very in more of his cared\n",
            "Till Romeo month ashery betweres for death.\n",
            "\n",
            "AUTOLYCUS:\n",
            "If your comfort, change the op.\n",
            "\n",
            "FLORIAREN:\n",
            "Now cannot joy of coual'd my tabbl\n"
          ]
        }
      ],
      "source": [
        "print(generate_text(model, \"To be or not to be\", max_new_tokens=256))"
      ]
    },
    {
      "cell_type": "code",
      "execution_count": null,
      "metadata": {
        "id": "f5BbthRixzqY"
      },
      "outputs": [],
      "source": []
    }
  ],
  "metadata": {
    "accelerator": "GPU",
    "colab": {
      "gpuType": "T4",
      "provenance": []
    },
    "kernelspec": {
      "display_name": "Python 3 (ipykernel)",
      "language": "python",
      "name": "python3"
    },
    "language_info": {
      "codemirror_mode": {
        "name": "ipython",
        "version": 3
      },
      "file_extension": ".py",
      "mimetype": "text/x-python",
      "name": "python",
      "nbconvert_exporter": "python",
      "pygments_lexer": "ipython3",
      "version": "3.13.7"
    }
  },
  "nbformat": 4,
  "nbformat_minor": 0
}
