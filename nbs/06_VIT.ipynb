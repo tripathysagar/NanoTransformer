{
  "cells": [
    {
      "cell_type": "markdown",
      "id": "8b60a0dd",
      "metadata": {
        "solveit_ai": true,
        "id": "8b60a0dd"
      },
      "source": [
        "My aim is to implement VIT for Fashion MNIST. I have implemented it for NLP task to be specific char level GPT2 arch from ground up.\n",
        "\n",
        "##### 🤖Reply🤖<!-- SOLVEIT_SEPARATOR_7f3a9b2c -->\n",
        "\n",
        "Excellent! Since you've already built a character-level GPT-2 from scratch, you have a solid foundation. The Vision Transformer will feel quite familiar in many ways.\n",
        "\n",
        "The key difference is how ViT handles images versus how GPT handles text:\n",
        "- **GPT**: sequences of token embeddings\n",
        "- **ViT**: sequences of **patch embeddings**\n",
        "\n",
        "The core idea: split an image into fixed-size patches (say 16x16 pixels), flatten each patch, linearly project it to an embedding, and then feed this sequence through a standard transformer encoder (similar to BERT, not GPT's decoder).\n",
        "\n",
        "For Fashion MNIST (28x28 grayscale images), we'll need to decide on a patch size. What patch size do you think would work well for 28x28 images? (Hint: think about how many patches you'd get with different sizes)"
      ]
    },
    {
      "cell_type": "markdown",
      "id": "1cb83e96",
      "metadata": {
        "solveit_ai": true,
        "id": "1cb83e96"
      },
      "source": [
        "To keep symetric I would like to devide it to patch of `7*7`. I would get 16 such paches corect and we can move from there?\n",
        "\n",
        "##### 🤖Reply🤖<!-- SOLVEIT_SEPARATOR_7f3a9b2c -->\n",
        "\n",
        "Perfect! Yes, with 7×7 patches on a 28×28 image, you get exactly 16 patches (4 rows × 4 columns). That's a nice symmetric choice.\n",
        "\n",
        "So your input sequence to the transformer will be 16 patch embeddings, similar to how GPT processes a sequence of 16 tokens.\n",
        "\n",
        "Now, here's a key architectural detail: ViT typically adds a special **[CLS] token** at the beginning of the sequence (like BERT does). This token's final representation is used for classification. So your actual sequence length will be 17.\n",
        "\n",
        "Also, you'll need **positional embeddings** to tell the model where each patch came from in the original image.\n",
        "\n",
        "Does this structure make sense so far? Should we start thinking about how to create the patch embeddings from the raw image pixels?"
      ]
    },
    {
      "cell_type": "markdown",
      "id": "bd6e07c4",
      "metadata": {
        "solveit_ai": true,
        "id": "bd6e07c4"
      },
      "source": [
        "I have two question regarding the embeddings\n",
        "1. token embeddings: is it only for [CLS] token\n",
        "1. any tokens for image patches ?\n",
        "\n",
        "##### 🤖Reply🤖<!-- SOLVEIT_SEPARATOR_7f3a9b2c -->\n",
        "\n",
        "Great questions! Let me clarify:\n",
        "\n",
        "**1. Token embeddings vs Patch embeddings:**\n",
        "- The **[CLS] token** gets a learnable embedding (similar to how GPT has embeddings for special tokens)\n",
        "- Each **image patch** gets converted to an embedding through a linear projection of its flattened pixels\n",
        "\n",
        "**2. For the 16 image patches:**\n",
        "- Each 7×7 patch = 49 pixels (49 values for grayscale)\n",
        "- Flatten it to a vector of length 49\n",
        "- Pass through a linear layer to project it to your embedding dimension (e.g., 256 or 512)\n",
        "\n",
        "So you have:\n",
        "- 1 learnable [CLS] token embedding\n",
        "- 16 patch embeddings (created by projecting flattened patches)\n",
        "- Then you add positional embeddings to all 17 of these\n",
        "\n",
        "Does this distinction between the [CLS] token embedding and patch embeddings make sense?"
      ]
    },
    {
      "cell_type": "markdown",
      "id": "e8f847e6",
      "metadata": {
        "solveit_ai": true,
        "id": "e8f847e6"
      },
      "source": [
        "Yes then the projection is key, which is shared across all the patchs. It role is to conver the input (bs, c, h, w) -> (bs, `c*h*w `)\n",
        "\n",
        "##### 🤖Reply🤖<!-- SOLVEIT_SEPARATOR_7f3a9b2c -->\n",
        "\n",
        "Almost! You're right that the projection is shared across all patches (it's the same linear layer applied to each patch). But let me clarify the dimensions:\n",
        "\n",
        "The projection converts:\n",
        "- Input per patch: `(patch_h * patch_w * channels)` = `(7 * 7 * 1)` = 49 for grayscale\n",
        "- Output per patch: `embed_dim` (e.g., 256 or 512)\n",
        "\n",
        "So for a batch:\n",
        "- Before projection: `(bs, num_patches, patch_h * patch_w * channels)` = `(bs, 16, 49)`\n",
        "- After projection: `(bs, num_patches, embed_dim)` = `(bs, 16, embed_dim)`\n",
        "\n",
        "The key is that each patch gets projected to `embed_dim`, not `c*h*w` of the full image.\n",
        "\n",
        "Does this clarification help? Would you like to start coding the patch extraction step?"
      ]
    },
    {
      "cell_type": "code",
      "source": [
        "try:\n",
        "    import google.colab\n",
        "    !pip install -q git+https://github.com/tripathysagar/NanoTransformer.git\n",
        "except Exception as e:\n",
        "    pass"
      ],
      "metadata": {
        "colab": {
          "base_uri": "https://localhost:8080/"
        },
        "id": "Of04kyqPCc-Y",
        "outputId": "0199932f-2c19-4f2b-d327-19b61b216762"
      },
      "id": "Of04kyqPCc-Y",
      "execution_count": 1,
      "outputs": [
        {
          "output_type": "stream",
          "name": "stdout",
          "text": [
            "  Installing build dependencies ... \u001b[?25l\u001b[?25hdone\n",
            "  Getting requirements to build wheel ... \u001b[?25l\u001b[?25hdone\n",
            "  Preparing metadata (pyproject.toml) ... \u001b[?25l\u001b[?25hdone\n"
          ]
        }
      ]
    },
    {
      "cell_type": "code",
      "execution_count": 2,
      "id": "d8320c49",
      "metadata": {
        "time_run": "5:11:06a",
        "colab": {
          "base_uri": "https://localhost:8080/"
        },
        "id": "d8320c49",
        "outputId": "35833c5e-1bb4-44e6-8676-36090eb5c5fd"
      },
      "outputs": [
        {
          "output_type": "execute_result",
          "data": {
            "text/plain": [
              "(torch.Size([64, 1, 28, 28]), torch.Size([64]))"
            ]
          },
          "metadata": {},
          "execution_count": 2
        }
      ],
      "source": [
        "#|export\n",
        "from NanoTransformer.data import *\n",
        "dl = get_vision_classifier_dl()\n",
        "for x, y in dl['train']:\n",
        "    break\n",
        "x.shape, y.shape"
      ]
    },
    {
      "cell_type": "code",
      "execution_count": 3,
      "id": "0b773ccf",
      "metadata": {
        "time_run": "5:11:19a",
        "colab": {
          "base_uri": "https://localhost:8080/",
          "height": 290
        },
        "id": "0b773ccf",
        "outputId": "380b04e5-e7cd-4092-92e9-3b3cd81d0491"
      },
      "outputs": [
        {
          "output_type": "display_data",
          "data": {
            "text/plain": [
              "<Figure size 300x300 with 1 Axes>"
            ],
            "image/png": "[encoded data removed]"
          },
          "metadata": {}
        }
      ],
      "source": [
        "show_images(x[0], y[0])"
      ]
    },
    {
      "cell_type": "code",
      "source": [
        "#|export\n",
        "import torch\n",
        "import torch.nn as nn"
      ],
      "metadata": {
        "id": "p6esu3eKC6rI"
      },
      "id": "p6esu3eKC6rI",
      "execution_count": 4,
      "outputs": []
    },
    {
      "cell_type": "code",
      "execution_count": 5,
      "id": "de88bafd",
      "metadata": {
        "time_run": "5:12:45a",
        "colab": {
          "base_uri": "https://localhost:8080/"
        },
        "id": "de88bafd",
        "outputId": "b58dd653-40fe-4ee3-b479-d7afb81ead24"
      },
      "outputs": [
        {
          "output_type": "execute_result",
          "data": {
            "text/plain": [
              "torch.Size([1, 28, 28])"
            ]
          },
          "metadata": {},
          "execution_count": 5
        }
      ],
      "source": [
        "im = x[0]\n",
        "im.shape"
      ]
    },
    {
      "cell_type": "code",
      "execution_count": 6,
      "id": "89c2a5e2",
      "metadata": {
        "time_run": "5:13:07a",
        "colab": {
          "base_uri": "https://localhost:8080/"
        },
        "id": "89c2a5e2",
        "outputId": "45906487-fdb1-4617-8290-03713502c4aa"
      },
      "outputs": [
        {
          "output_type": "execute_result",
          "data": {
            "text/plain": [
              "tensor([[[0., 0., 0., 0.],\n",
              "         [0., 0., 0., 0.],\n",
              "         [0., 0., 0., 0.],\n",
              "         [0., 0., 0., 0.]]])"
            ]
          },
          "metadata": {},
          "execution_count": 6
        }
      ],
      "source": [
        "im[:,:4,:4]"
      ]
    },
    {
      "cell_type": "code",
      "execution_count": 7,
      "id": "6466c447",
      "metadata": {
        "time_run": "5:13:08a",
        "colab": {
          "base_uri": "https://localhost:8080/"
        },
        "id": "6466c447",
        "outputId": "de18acea-6c93-42a9-c969-b3ba1f9b35da"
      },
      "outputs": [
        {
          "output_type": "execute_result",
          "data": {
            "text/plain": [
              "tensor([[[0., 0., 0., 0.],\n",
              "         [0., 0., 0., 0.],\n",
              "         [0., 0., 0., 0.],\n",
              "         [0., 0., 0., 0.]]])"
            ]
          },
          "metadata": {},
          "execution_count": 7
        }
      ],
      "source": [
        "im[:,:4,:4]"
      ]
    },
    {
      "cell_type": "code",
      "execution_count": 8,
      "id": "b33593f1",
      "metadata": {
        "time_run": "5:14:09a",
        "colab": {
          "base_uri": "https://localhost:8080/",
          "height": 290
        },
        "id": "b33593f1",
        "outputId": "3a4ba74a-1e97-4791-89c1-57b50bf250b6"
      },
      "outputs": [
        {
          "output_type": "display_data",
          "data": {
            "text/plain": [
              "<Figure size 300x300 with 1 Axes>"
            ],
            "image/png": "[encoded data removed]"
          },
          "metadata": {}
        }
      ],
      "source": [
        "patch_h = patch_w = 7\n",
        "show_images(im[:,:patch_h,:patch_w], y[0])"
      ]
    },
    {
      "cell_type": "code",
      "execution_count": 9,
      "id": "dc44aa03",
      "metadata": {
        "time_run": "5:16:08a",
        "colab": {
          "base_uri": "https://localhost:8080/"
        },
        "id": "dc44aa03",
        "outputId": "7673a955-48c3-46cc-8d19-60166c67cb11"
      },
      "outputs": [
        {
          "output_type": "execute_result",
          "data": {
            "text/plain": [
              "(1, 28, 28)"
            ]
          },
          "metadata": {},
          "execution_count": 9
        }
      ],
      "source": [
        "ch, h, w = im.shape\n",
        "ch, h, w"
      ]
    },
    {
      "cell_type": "code",
      "execution_count": 10,
      "id": "1f4569d4",
      "metadata": {
        "time_run": "5:17:25a",
        "colab": {
          "base_uri": "https://localhost:8080/"
        },
        "id": "1f4569d4",
        "outputId": "037c8b49-b29f-47a4-b371-c7c3b38223cc"
      },
      "outputs": [
        {
          "output_type": "execute_result",
          "data": {
            "text/plain": [
              "torch.Size([16, 1, 7, 7])"
            ]
          },
          "metadata": {},
          "execution_count": 10
        }
      ],
      "source": [
        "patches = im.view(16, ch, patch_h, patch_w)\n",
        "patches.shape"
      ]
    },
    {
      "cell_type": "code",
      "execution_count": 11,
      "id": "68722cce",
      "metadata": {
        "time_run": "5:17:53a",
        "colab": {
          "base_uri": "https://localhost:8080/",
          "height": 290
        },
        "id": "68722cce",
        "outputId": "0b5d3460-bb29-42d4-f4bd-80fef9ef382e"
      },
      "outputs": [
        {
          "output_type": "display_data",
          "data": {
            "text/plain": [
              "<Figure size 300x300 with 1 Axes>"
            ],
            "image/png": "[encoded data removed]"
          },
          "metadata": {}
        }
      ],
      "source": [
        "show_images(patches[0], y[0])"
      ]
    },
    {
      "cell_type": "markdown",
      "id": "b7a7e968",
      "metadata": {
        "solveit_ai": true,
        "id": "b7a7e968"
      },
      "source": [
        "is the above implemementation correct for patching >\n",
        "\n",
        "##### 🤖Reply🤖<!-- SOLVEIT_SEPARATOR_7f3a9b2c -->\n",
        "\n",
        "Not quite! The issue is with how you're using `view()`. It's reshaping the tensor but not actually extracting the spatial patches correctly.\n",
        "\n",
        "When you do `im.view(16, ch, patch_h, patch_w)`, it just reshapes the flattened data into that shape, but doesn't respect the 2D spatial structure of the image.\n",
        "\n",
        "Look at your output - the first patch should show the top-left 7×7 region of the jacket, but it's showing something that looks like it's sampled from different parts.\n",
        "\n",
        "To properly extract patches, you need to use either:\n",
        "1. `unfold()` - which can extract sliding windows\n",
        "2. Manual slicing with loops\n",
        "3. `rearrange()` from einops library (very clean!)\n",
        "\n",
        "Which approach would you like to try? The `unfold()` method is a good PyTorch-native solution."
      ]
    },
    {
      "cell_type": "code",
      "execution_count": 12,
      "id": "ae04aa67",
      "metadata": {
        "time_run": "5:23:56a",
        "colab": {
          "base_uri": "https://localhost:8080/"
        },
        "id": "ae04aa67",
        "outputId": "735801ed-dcdc-42c1-f3e7-f719f329ad1c"
      },
      "outputs": [
        {
          "output_type": "execute_result",
          "data": {
            "text/plain": [
              "torch.Size([1, 49, 16])"
            ]
          },
          "metadata": {},
          "execution_count": 12
        }
      ],
      "source": [
        "unfold = nn.Unfold(kernel_size=(patch_h, patch_w), stride=patch_h)\n",
        "patches = unfold(im[None,:])\n",
        "patches.shape"
      ]
    },
    {
      "cell_type": "markdown",
      "id": "91597aea",
      "metadata": {
        "id": "91597aea"
      },
      "source": [
        "means 1 image, 49 values per patch (7×7), and 16 patches"
      ]
    },
    {
      "cell_type": "code",
      "execution_count": 13,
      "id": "b619cc2b",
      "metadata": {
        "time_run": "5:26:10a",
        "colab": {
          "base_uri": "https://localhost:8080/"
        },
        "id": "b619cc2b",
        "outputId": "3692ac0b-34f2-4c94-f9e9-fbf65c05c10a"
      },
      "outputs": [
        {
          "output_type": "execute_result",
          "data": {
            "text/plain": [
              "torch.Size([16, 49])"
            ]
          },
          "metadata": {},
          "execution_count": 13
        }
      ],
      "source": [
        "patches = patches.view(16, 49)\n",
        "patches.shape"
      ]
    },
    {
      "cell_type": "code",
      "execution_count": 14,
      "id": "6594fcb5",
      "metadata": {
        "time_run": "5:26:39a",
        "colab": {
          "base_uri": "https://localhost:8080/",
          "height": 290
        },
        "id": "6594fcb5",
        "outputId": "3bf7e1be-c9af-4de7-dffd-9548b8c52dd9"
      },
      "outputs": [
        {
          "output_type": "display_data",
          "data": {
            "text/plain": [
              "<Figure size 300x300 with 1 Axes>"
            ],
            "image/png": "[encoded data removed]"
          },
          "metadata": {}
        }
      ],
      "source": [
        "show_images(patches[0].view(7, 7), y[0])"
      ]
    },
    {
      "cell_type": "markdown",
      "id": "96d4cde8",
      "metadata": {
        "solveit_ai": true,
        "id": "96d4cde8"
      },
      "source": [
        "Is the above correct>\n",
        "\n",
        "##### 🤖Reply🤖<!-- SOLVEIT_SEPARATOR_7f3a9b2c -->\n",
        "\n",
        "Yes! Now it's correct! 🎉\n",
        "\n",
        "You can see that the first patch now shows the top-left corner of the jacket (mostly black background with a bit of the jacket edge), which is exactly what we'd expect.\n",
        "\n",
        "Your patches tensor has shape `(16, 49)` - that's 16 patches, each flattened to 49 values. This is perfect for feeding into a linear projection layer.\n",
        "\n",
        "Next step: you'll want to project these 49-dimensional vectors to your embedding dimension. Are you ready to create the patch embedding layer, or would you like to verify a few more patches first to make sure they look right?"
      ]
    },
    {
      "cell_type": "markdown",
      "id": "094fa150",
      "metadata": {
        "solveit_ai": true,
        "id": "094fa150"
      },
      "source": [
        "NO i think you are wrong consider the output of `patch_h = patch_w = 7\n",
        "show_images(im[:,:patch_h,:patch_w], y[0])`\n",
        "\n",
        "##### 🤖Reply🤖<!-- SOLVEIT_SEPARATOR_7f3a9b2c -->\n",
        "\n",
        "You're absolutely right to question this! Let me look more carefully.\n",
        "\n",
        "When you did `show_images(im[:,:patch_h,:patch_w], y[0])`, that showed you the actual top-left 7×7 patch using direct slicing: `im[:, 0:7, 0:7]`.\n",
        "\n",
        "Now compare that image with what `patches[0].view(7, 7)` shows. Do they look the same to you, or different?\n",
        "\n",
        "If they look different, then the unfold might be extracting patches in a different order than we expect. Can you check what the second image (from your earlier slicing) looks like versus what you're seeing now?"
      ]
    },
    {
      "cell_type": "markdown",
      "id": "ef6afb5a",
      "metadata": {
        "solveit_ai": true,
        "id": "ef6afb5a"
      },
      "source": [
        "bith are diffweeent\n",
        "\n",
        "##### 🤖Reply🤖<!-- SOLVEIT_SEPARATOR_7f3a9b2c -->\n",
        "\n",
        "You're right - they are different! That means `Unfold` is extracting or ordering the patches differently than we expected.\n",
        "\n",
        "Let's debug this. Can you try showing a few more patches to see the pattern? For example:\n",
        "\n",
        "```python\n",
        "show_images(patches[1].view(7, 7), y[0])\n",
        "```\n",
        "\n",
        "And also manually slice the image to see what the second patch *should* be:\n",
        "\n",
        "```python\n",
        "show_images(im[:, 0:7, 7:14], y[0])  # top row, second patch\n",
        "```\n",
        "\n",
        "This will help us understand how `Unfold` is ordering the patches. What do you see?"
      ]
    },
    {
      "cell_type": "code",
      "execution_count": 15,
      "id": "c178df54",
      "metadata": {
        "time_run": "5:29:10a",
        "colab": {
          "base_uri": "https://localhost:8080/",
          "height": 563
        },
        "id": "c178df54",
        "outputId": "d5855497-1198-42bc-e708-301ef8ba3468"
      },
      "outputs": [
        {
          "output_type": "display_data",
          "data": {
            "text/plain": [
              "<Figure size 300x300 with 1 Axes>"
            ],
            "image/png": "[encoded data removed]"
          },
          "metadata": {}
        },
        {
          "output_type": "display_data",
          "data": {
            "text/plain": [
              "<Figure size 300x300 with 1 Axes>"
            ],
            "image/png": "[encoded data removed]"
          },
          "metadata": {}
        }
      ],
      "source": [
        "show_images(patches[1].view(7, 7), y[0])\n",
        "show_images(im[:, 0:7, 7:14], y[0])"
      ]
    },
    {
      "cell_type": "markdown",
      "id": "9ad3045a",
      "metadata": {
        "solveit_ai": true,
        "id": "9ad3045a"
      },
      "source": [
        "chech now\n",
        "\n",
        "##### 🤖Reply🤖<!-- SOLVEIT_SEPARATOR_7f3a9b2c -->\n",
        "\n",
        "Good catch! These are also different. The issue is that `Unfold` outputs patches in the format `(batch, channels * patch_h * patch_w, num_patches)`, but the patches need to be reshaped differently.\n",
        "\n",
        "The problem is in how you're reshaping. Try this instead:\n",
        "\n",
        "```python\n",
        "patches = unfold(im[None,:])  # shape: (1, 49, 16)\n",
        "patches = patches.transpose(1, 2).squeeze(0)  # shape: (16, 49)\n",
        "```\n",
        "\n",
        "This transposes before removing the batch dimension. Can you try this and check if `patches[0].view(7, 7)` now matches `im[:, 0:7, 7:14]`?"
      ]
    },
    {
      "cell_type": "code",
      "execution_count": 16,
      "id": "88c084f3",
      "metadata": {
        "time_run": "10:18:32a",
        "colab": {
          "base_uri": "https://localhost:8080/",
          "height": 563
        },
        "id": "88c084f3",
        "outputId": "4972ab9c-3df3-48cd-a11c-47507600b7f2"
      },
      "outputs": [
        {
          "output_type": "display_data",
          "data": {
            "text/plain": [
              "<Figure size 300x300 with 1 Axes>"
            ],
            "image/png": "[encoded data removed]"
          },
          "metadata": {}
        },
        {
          "output_type": "display_data",
          "data": {
            "text/plain": [
              "<Figure size 300x300 with 1 Axes>"
            ],
            "image/png": "[encoded data removed]"
          },
          "metadata": {}
        }
      ],
      "source": [
        "patches = unfold(im[None,:])  # shape: (1, 49, 16)\n",
        "patches = patches.transpose(1, 2).squeeze(0)  # shape: (16, 49)\n",
        "show_images(patches[1].view(7, 7), y[0])\n",
        "show_images(im[:, 0:7, 7:14], y[0])"
      ]
    },
    {
      "cell_type": "code",
      "execution_count": 17,
      "id": "b7d1ac3e",
      "metadata": {
        "time_run": "10:18:39a",
        "colab": {
          "base_uri": "https://localhost:8080/"
        },
        "id": "b7d1ac3e",
        "outputId": "b3e7f86d-0957-45d1-f991-3b767f79937f"
      },
      "outputs": [
        {
          "output_type": "execute_result",
          "data": {
            "text/plain": [
              "torch.Size([16, 49])"
            ]
          },
          "metadata": {},
          "execution_count": 17
        }
      ],
      "source": [
        "patches.shape"
      ]
    },
    {
      "cell_type": "code",
      "execution_count": 18,
      "id": "2608df45",
      "metadata": {
        "time_run": "10:18:41a",
        "colab": {
          "base_uri": "https://localhost:8080/"
        },
        "id": "2608df45",
        "outputId": "3cba9af9-9b27-4ba8-f722-0a5cd092f891"
      },
      "outputs": [
        {
          "output_type": "execute_result",
          "data": {
            "text/plain": [
              "torch.Size([1, 16, 49])"
            ]
          },
          "metadata": {},
          "execution_count": 18
        }
      ],
      "source": [
        "patches = patches[None,:] # adding batch dim\n",
        "patches.shape"
      ]
    },
    {
      "cell_type": "markdown",
      "id": "0556c2ec",
      "metadata": {
        "id": "0556c2ec"
      },
      "source": [
        "## Pojection\n",
        "\n",
        "Here's why: the attention mechanism expects all inputs to be in the same embedding dimension. Right now your patches are 49-dimensional vectors, but you need them to be in your chosen `embed_dim` (like 256 or 512).\n",
        "\n",
        "The projection layer is just a simple linear layer:\n",
        "```python\n",
        "nn.Linear(49, embed_dim)\n",
        "```\n",
        "\n",
        "After projection, you'll also need to:\n",
        "1. Add the [CLS] token\n",
        "2. Add positional embeddings\n",
        "\n",
        "![pasted_image_95c74ea9-bafe-44fc-9aef-099a9dc9fbfb.png](attachment:95c74ea9-bafe-44fc-9aef-099a9dc9fbfb)\n",
        "\n"
      ]
    },
    {
      "cell_type": "code",
      "execution_count": 19,
      "id": "edf46035",
      "metadata": {
        "time_run": "10:27:05a",
        "id": "edf46035"
      },
      "outputs": [],
      "source": [
        "embed_dim = 32\n",
        "vis_proj = nn.Linear(49, embed_dim)\n"
      ]
    },
    {
      "cell_type": "code",
      "execution_count": 20,
      "id": "9d0b75d8",
      "metadata": {
        "time_run": "10:27:08a",
        "colab": {
          "base_uri": "https://localhost:8080/"
        },
        "id": "9d0b75d8",
        "outputId": "dd4beeac-f4d4-499f-c5bb-93815636e604"
      },
      "outputs": [
        {
          "output_type": "execute_result",
          "data": {
            "text/plain": [
              "torch.Size([1, 16, 32])"
            ]
          },
          "metadata": {},
          "execution_count": 20
        }
      ],
      "source": [
        "# vison embeddings\n",
        "vis_emb = vis_proj(patches)\n",
        "vis_emb.shape"
      ]
    },
    {
      "cell_type": "markdown",
      "id": "003ded69",
      "metadata": {
        "id": "003ded69"
      },
      "source": [
        "## final token"
      ]
    },
    {
      "cell_type": "markdown",
      "id": "00121244",
      "metadata": {
        "solveit_ai": true,
        "id": "00121244"
      },
      "source": [
        "Done what to do next `[CLS]` token?\n",
        "\n",
        "##### 🤖Reply🤖<!-- SOLVEIT_SEPARATOR_7f3a9b2c -->\n",
        "\n",
        "Perfect! Now you have your patch embeddings with shape `(1, 16, 32)`.\n",
        "\n",
        "Next, you need to create a learnable `[CLS]` token. This is a special embedding that will be prepended to your sequence. After going through the transformer, you'll use this token's representation for classification.\n",
        "\n",
        "You can create it as a learnable parameter:\n",
        "\n",
        "```python\n",
        "cls_token = nn.Parameter(torch.randn(1, 1, embed_dim))\n",
        "```\n",
        "\n",
        "Then you'll concatenate it to the beginning of your patch embeddings. How would you concatenate `cls_token` with `vis_emb` along the sequence dimension to get shape `(1, 17, 32)`?"
      ]
    },
    {
      "cell_type": "code",
      "execution_count": 21,
      "id": "4c775f35",
      "metadata": {
        "time_run": "10:27:28a",
        "colab": {
          "base_uri": "https://localhost:8080/"
        },
        "id": "4c775f35",
        "outputId": "d0aaed5c-c15d-499d-ccae-8a2f05cf639c"
      },
      "outputs": [
        {
          "output_type": "execute_result",
          "data": {
            "text/plain": [
              "torch.Size([1, 17, 32])"
            ]
          },
          "metadata": {},
          "execution_count": 21
        }
      ],
      "source": [
        "import torch\n",
        "cls_token = nn.Parameter(torch.randn(1, 1, embed_dim))\n",
        "final_emb = torch.cat([cls_token, vis_emb], dim = 1)\n",
        "final_emb.shape"
      ]
    },
    {
      "cell_type": "markdown",
      "id": "acf224ae",
      "metadata": {
        "id": "acf224ae"
      },
      "source": [
        "## Projection"
      ]
    },
    {
      "cell_type": "markdown",
      "id": "10f04e29",
      "metadata": {
        "solveit_ai": true,
        "id": "10f04e29"
      },
      "source": [
        "As the paper suggest to use 1-D postional encoding. Is the idea behind it to convert the 2-D spatial tokens postions to 1D ?\n",
        "\n",
        "##### 🤖Reply🤖<!-- SOLVEIT_SEPARATOR_7f3a9b2c -->\n",
        "\n",
        "Exactly! You've got the key idea.\n",
        "\n",
        "Even though the image patches come from a 2D grid (4×4 in your case), the Vision Transformer treats them as a 1D sequence - just like how text tokens are sequential in GPT.\n",
        "\n",
        "So the positional encoding is simply:\n",
        "- Position 0: [CLS] token\n",
        "- Position 1-16: the 16 patches in row-major order (top-left to bottom-right)\n",
        "\n",
        "The transformer doesn't inherently know these came from a 2D spatial arrangement. The positional embeddings just tell it \"this is position 0, this is position 1, etc.\"\n",
        "\n",
        "Interestingly, the paper found that 1D positional embeddings work just as well as 2D ones (which would explicitly encode row/column info). The model learns the spatial relationships through the data.\n",
        "\n",
        "How would you create these positional embeddings for 17 positions?"
      ]
    },
    {
      "cell_type": "code",
      "execution_count": 22,
      "id": "6919e1c8",
      "metadata": {
        "time_run": "10:32:38a",
        "colab": {
          "base_uri": "https://localhost:8080/"
        },
        "id": "6919e1c8",
        "outputId": "fe4ab964-4c04-46f7-892f-34f73aceb541"
      },
      "outputs": [
        {
          "output_type": "execute_result",
          "data": {
            "text/plain": [
              "torch.Size([17, 32])"
            ]
          },
          "metadata": {},
          "execution_count": 22
        }
      ],
      "source": [
        "no_patches = 16\n",
        "pos_emb = nn.Embedding(no_patches + 1, embed_dim) # map 17 positions -> embed_dim\n",
        "\n",
        "pos = pos_emb(torch.arange(no_patches+1))\n",
        "pos.shape\n"
      ]
    },
    {
      "cell_type": "code",
      "execution_count": 23,
      "id": "b91d4d4c",
      "metadata": {
        "time_run": "10:33:54a",
        "colab": {
          "base_uri": "https://localhost:8080/"
        },
        "id": "b91d4d4c",
        "outputId": "b1624dac-e1dc-456e-c093-7e8830731c6e"
      },
      "outputs": [
        {
          "output_type": "execute_result",
          "data": {
            "text/plain": [
              "torch.Size([1, 17, 32])"
            ]
          },
          "metadata": {},
          "execution_count": 23
        }
      ],
      "source": [
        "emb = final_emb + pos_emb(torch.arange(no_patches+1))\n",
        "emb.shape"
      ]
    },
    {
      "cell_type": "markdown",
      "id": "08cc5786",
      "metadata": {
        "solveit_ai": true,
        "use_thinking": true,
        "id": "08cc5786"
      },
      "source": [
        "Next the attention block?\n",
        "\n",
        "##### 🤖Reply🤖<!-- SOLVEIT_SEPARATOR_7f3a9b2c -->\n",
        "\n",
        "Great progress! You now have your input ready for the transformer: `(1, 17, 32)`.\n",
        "\n",
        "Since you've already built GPT-2 from scratch, you should be familiar with the self-attention mechanism. The good news is that ViT uses very similar transformer encoder blocks!\n",
        "\n",
        "The main difference:\n",
        "- **GPT-2** uses causal (masked) attention - tokens can only attend to previous tokens\n",
        "- **ViT** uses bidirectional attention - each token can attend to all other tokens (like BERT)\n",
        "\n",
        "Do you want to adapt your existing attention blocks from your GPT implementation, or would you like to build the ViT attention from scratch?"
      ]
    },
    {
      "cell_type": "markdown",
      "id": "56ae458e",
      "metadata": {
        "id": "56ae458e"
      },
      "source": [
        "\n",
        "![pasted_image_f181f4b6-c23d-4adc-9ac8-63c4c0c21eaa.png](attachment:f181f4b6-c23d-4adc-9ac8-63c4c0c21eaa)\n"
      ]
    },
    {
      "cell_type": "markdown",
      "id": "ccc62d1f",
      "metadata": {
        "solveit_ai": true,
        "use_thinking": true,
        "id": "ccc62d1f"
      },
      "source": [
        "What does the papae suggests? ie no of attention head, type of Norm, and type of MLP with non linearity\n",
        "\n",
        "##### 🤖Reply🤖<!-- SOLVEIT_SEPARATOR_7f3a9b2c -->\n",
        "\n",
        "Great question! The ViT paper specifies:\n",
        "\n",
        "**1. Normalization:** LayerNorm (same as GPT/BERT)\n",
        "\n",
        "**2. Number of heads:** Depends on the model size:\n",
        "- ViT-Base: 12 heads\n",
        "- ViT-Large: 16 heads  \n",
        "- ViT-Small: often 6-8 heads for smaller experiments\n",
        "\n",
        "**3. MLP:** A 2-layer feedforward network with:\n",
        "- Hidden dimension = 4× the embedding dimension\n",
        "- **GELU** activation (not ReLU)\n",
        "\n",
        "**4. Important:** The diagram shows LayerNorm is applied **before** each block (pre-norm), not after like the original Transformer paper.\n",
        "\n",
        "For Fashion MNIST with `embed_dim=32`, you might want to start small. How many attention heads do you want to use? (Hint: `embed_dim` should be divisible by the number of heads)"
      ]
    },
    {
      "cell_type": "markdown",
      "id": "8bdcd08b",
      "metadata": {
        "solveit_ai": true,
        "id": "8bdcd08b"
      },
      "source": [
        "Lets use 4 heads  and how many deocder block to stack on top of each other?\n",
        "\n",
        "##### 🤖Reply🤖<!-- SOLVEIT_SEPARATOR_7f3a9b2c -->\n",
        "\n",
        "Perfect! 4 heads works well with `embed_dim=32` (each head gets 8 dimensions).\n",
        "\n",
        "For the number of encoder blocks (not decoder - remember ViT uses encoder blocks like BERT, not decoder blocks like GPT), the paper suggests:\n",
        "- ViT-Small: 12 layers\n",
        "- ViT-Base: 12 layers\n",
        "- ViT-Large: 24 layers\n",
        "\n",
        "But for Fashion MNIST, which is a simpler dataset than ImageNet, you can start much smaller. Maybe 4-6 encoder blocks would be a good starting point.\n",
        "\n",
        "How many layers do you want to try? Keep in mind you can always experiment with different depths later."
      ]
    },
    {
      "cell_type": "code",
      "execution_count": 24,
      "id": "308685d2",
      "metadata": {
        "time_run": "10:48:00a",
        "id": "308685d2"
      },
      "outputs": [],
      "source": [
        "#|export\n",
        "class AttentionHead(nn.Module):\n",
        "    def __init__(self, config):\n",
        "        super().__init__()\n",
        "\n",
        "        assert config.embedding_dim % config.n_heads == 0\n",
        "        self.head_dim = config.embedding_dim // config.n_heads\n",
        "\n",
        "        self.Q_W = nn.Linear(config.embedding_dim, self.head_dim)\n",
        "        self.K_W = nn.Linear(config.embedding_dim, self.head_dim)\n",
        "        self.V_W = nn.Linear(config.embedding_dim, self.head_dim)\n",
        "\n",
        "        self.dropout = nn.Dropout(p = config.dropout)\n",
        "\n",
        "    def forward(self, x): #bs * seq_len * embedding_dim\n",
        "\n",
        "        Q, K, V = self.Q_W(x), self.K_W(x), self.V_W(x)        #bs * seq_len * head_dim\n",
        "\n",
        "        attn = Q @ K.transpose(-2, -1) /  self.head_dim ** 0.5         #bs * seq_len * head_dim @ bs * head_dim * seq_len -> bs * seq_len * seq_len\n",
        "\n",
        "        attn = torch.softmax(attn, dim=-1)\n",
        "        return self.dropout(attn @ V)         # bs * seq_len * seq_len @ bs * seq_len * head_dim -> bs * seq_len *  head_dim\n"
      ]
    },
    {
      "cell_type": "code",
      "execution_count": 25,
      "id": "e553248d",
      "metadata": {
        "time_run": "10:51:11a",
        "id": "e553248d"
      },
      "outputs": [],
      "source": [
        "#|export\n",
        "class MultiHeadAttention(nn.Module):\n",
        "    def __init__(self, config):\n",
        "        super().__init__()\n",
        "        assert config.embedding_dim % config.n_heads == 0 # config.n_heads * output of the embedding layer\n",
        "\n",
        "        self.heads = nn.ModuleList([AttentionHead(config) for _ in range(config.n_heads)])\n",
        "        self.dropout = nn.Dropout(p=config.dropout)\n",
        "        self.linear_MHA = nn.Linear(config.embedding_dim, config.embedding_dim)\n",
        "        self.layer_norm_MHA = nn.LayerNorm(config.embedding_dim)\n",
        "\n",
        "    def forward(self, x): #bs * seq_len * embedding_dim\n",
        "        x = self.layer_norm_MHA(x)\n",
        "        head = torch.cat([head(x) for head in self.heads], dim=-1) #bs * seq_len * embedding_dim\n",
        "        head = self.dropout(self.linear_MHA(head))                     #bs * seq_len * embedding_dim\n",
        "        return head + x"
      ]
    },
    {
      "cell_type": "markdown",
      "id": "b05822dc",
      "metadata": {
        "id": "b05822dc"
      },
      "source": [
        "### MLP\n",
        "\n",
        "`x → LayerNorm → up_proj → GELU → down_proj → dropout → add residual`"
      ]
    },
    {
      "cell_type": "code",
      "execution_count": 26,
      "id": "e575ab4b",
      "metadata": {
        "time_run": "10:59:51a",
        "id": "e575ab4b"
      },
      "outputs": [],
      "source": [
        "#|export\n",
        "class MLP(nn.Module):\n",
        "    def __init__(self, config):\n",
        "        super().__init__()\n",
        "\n",
        "        self.dropout = nn.Dropout(p=config.dropout)\n",
        "        self.up_proj = nn.Linear(config.embedding_dim, 4 * config.embedding_dim)\n",
        "        self.down_proj = nn.Linear(4 *config.embedding_dim, config.embedding_dim)\n",
        "        self.layer_norm_MLP = nn.LayerNorm(config.embedding_dim)\n",
        "        self.gelu = nn.GELU(approximate='tanh')\n",
        "\n",
        "    def forward(self, x): #bs * seq_len * embedding_dim\n",
        "        pred = self.layer_norm_MLP(x)       #bs, seq_len, embedding_dim\n",
        "        pred = self.up_proj(pred)           #bs, seq_len, 4 * embedding_dim\n",
        "        pred = self.gelu(pred)\n",
        "        pred = self.down_proj(pred)         #bs, seq_len, embedding_dim\n",
        "\n",
        "        return self.dropout(pred) + x\n"
      ]
    },
    {
      "cell_type": "markdown",
      "id": "930ac0b3",
      "metadata": {
        "id": "930ac0b3"
      },
      "source": [
        "### Final ViT model"
      ]
    },
    {
      "cell_type": "code",
      "execution_count": 27,
      "id": "1c0574b8",
      "metadata": {
        "time_run": "11:01:46a",
        "id": "1c0574b8"
      },
      "outputs": [],
      "source": [
        "class VIT(nn.Module):\n",
        "    def __init__(self, config):\n",
        "        super().__init__()\n",
        "\n",
        "        self.blocks = nn.ModuleList(\n",
        "            [\n",
        "                nn.Sequential(MultiHeadAttention(config), MLP(config))\n",
        "                for _ in range(config.n_layers)\n",
        "            ])\n",
        "        self.layer_norm = nn.LayerNorm(config.embedding_dim)\n",
        "        self.lm_head = nn.Linear(config.embedding_dim, config.vocab_size)\n",
        "\n",
        "    def forward(self, x):\n",
        "        x = self.embed(x)\n",
        "        for block in self.blocks:\n",
        "            x = block(x)\n",
        "        x = self.lm_head(self.layer_norm(x))\n",
        "        return x[:,1,:] # rtuen cls token only"
      ]
    },
    {
      "cell_type": "markdown",
      "id": "afa6941d",
      "metadata": {
        "solveit_ai": true,
        "id": "afa6941d"
      },
      "source": [
        "Check the VIT model\n",
        "\n",
        "##### 🤖Reply🤖<!-- SOLVEIT_SEPARATOR_7f3a9b2c -->\n",
        "\n",
        "Great work! Your VIT model is almost complete. A few things to check:\n",
        "\n",
        "1. ✅ Stacking attention + MLP blocks correctly\n",
        "2. ✅ Final LayerNorm before the classification head\n",
        "3. ✅ Returning only the [CLS] token (position 0, not 1!)\n",
        "4. ❓ The `self.embed(x)` method - you haven't defined this yet. This should do all the patch extraction, projection, adding [CLS] token, and positional embeddings that you coded earlier.\n",
        "\n",
        "**Small bug:** `return x[:,1,:]` should be `return x[:,0,:]` since the [CLS] token is at position 0, not position 1.\n",
        "\n",
        "Do you want to create the `embed` method that wraps all your patch embedding logic?"
      ]
    },
    {
      "cell_type": "markdown",
      "id": "afd9c110",
      "metadata": {
        "solveit_ai": true,
        "id": "afd9c110"
      },
      "source": [
        "do i need another MLP head on top of CLS token?\n",
        "\n",
        "##### 🤖Reply🤖<!-- SOLVEIT_SEPARATOR_7f3a9b2c -->\n",
        "\n",
        "Good question! It depends on what you mean by \"MLP head.\"\n",
        "\n",
        "Your current code has `self.lm_head = nn.Linear(config.embedding_dim, config.vocab_size)` which is a single linear layer mapping from the [CLS] token's embedding to the number of classes (10 for Fashion MNIST).\n",
        "\n",
        "The ViT paper uses just this single linear layer for classification. However, some implementations add a small MLP (like 1-2 hidden layers) before the final classification layer, which can sometimes help performance.\n",
        "\n",
        "For Fashion MNIST, a single linear layer should work fine to start. You can always experiment with adding a small MLP later if needed.\n",
        "\n",
        "Does that answer your question, or would you like to discuss adding an MLP head?"
      ]
    },
    {
      "cell_type": "code",
      "execution_count": 28,
      "id": "fe576455",
      "metadata": {
        "time_run": "11:19:15a",
        "id": "fe576455"
      },
      "outputs": [],
      "source": [
        "class VIT(nn.Module):\n",
        "    def __init__(self, config):\n",
        "        super().__init__()\n",
        "        self.unfold = nn.Unfold(kernel_size=config.patch_dim//2, stride=config.patch_dim//2)\n",
        "        self.image_projection = nn.Linear(config.patch_dim, config.embedding_dim)\n",
        "\n",
        "        self.cls_token = nn.Parameter(torch.randn(1, 1, config.embedding_dim))\n",
        "\n",
        "        self.pos_embedding = nn.Embedding(config.no_patches + 1, config.embedding_dim)\n",
        "\n",
        "        self.register_buffer('pos_range', torch.arange(config.no_patches + 1))\n",
        "        self.blocks = nn.ModuleList(\n",
        "            [\n",
        "                nn.Sequential(MultiHeadAttention(config), MLP(config))\n",
        "                for _ in range(config.n_layers)\n",
        "            ])\n",
        "        self.layer_norm = nn.LayerNorm(config.embedding_dim)\n",
        "        self.lm_head = nn.Linear(config.embedding_dim, config.vocab_size)\n",
        "\n",
        "    def forward(self, x):                 # bs,ch,h,w\n",
        "        bs,ch, h,w = x.shape\n",
        "\n",
        "        x = self.unfold(x)      # bs,ch,patch_h*patch_w, no_patch\n",
        "        x.transpose_(-2,-1)\n",
        "\n",
        "        x = self.image_projection(x)\n",
        "        x = torch.cat([self.cls_token, x], dim=1) #bs,ch,no_patch+1,patch_h*patch_w\n",
        "\n",
        "        x = x + self.pos_embedding(self.pos_range)\n",
        "        for block in self.blocks:\n",
        "            x = block(x)\n",
        "        x = self.lm_head(self.layer_norm(x))\n",
        "        return x[:,0,:] # rtuen cls token only"
      ]
    },
    {
      "cell_type": "markdown",
      "id": "d05921a5",
      "metadata": {
        "solveit_ai": true,
        "id": "d05921a5"
      },
      "source": [
        "Check the finalimplementaion\n",
        "\n",
        "##### 🤖Reply🤖<!-- SOLVEIT_SEPARATOR_7f3a9b2c -->\n",
        "\n",
        "Nice work! Your VIT implementation looks solid. A few observations:\n",
        "\n",
        "1. ✅ Patch extraction with `unfold`\n",
        "2. ✅ Transpose to get correct shape\n",
        "3. ✅ Image projection\n",
        "4. ✅ [CLS] token concatenation\n",
        "5. ✅ Positional embeddings with registered buffer (smart!)\n",
        "6. ✅ Transformer blocks\n",
        "7. ✅ Final LayerNorm and classification head\n",
        "8. ✅ Returning [CLS] token at position 0\n",
        "\n",
        "**One small issue:** Line where you concatenate `cls_token` - it needs to be expanded for the batch size. Currently `self.cls_token` has shape `(1, 1, embed_dim)`, but when your batch size is 64, you need `(64, 1, embed_dim)`.\n",
        "\n",
        "Try: `torch.cat([self.cls_token.expand(bs, -1, -1), x], dim=1)`\n",
        "\n",
        "Also, double-check your `config.patch_dim` - it should be `patch_h * patch_w = 49` for the projection, not `patch_h = 7`.\n",
        "\n",
        "Want to test it with your Fashion MNIST batch to see if the shapes work correctly?"
      ]
    },
    {
      "cell_type": "markdown",
      "id": "e1434007",
      "metadata": {
        "solveit_ai": true,
        "id": "e1434007"
      },
      "source": [
        "so the `self.cls_token = nn.Parameter(torch.randn(1, 1, config.embedding_dim))` should have bs in it ?\n",
        "\n",
        "##### 🤖Reply🤖<!-- SOLVEIT_SEPARATOR_7f3a9b2c -->\n",
        "\n",
        "No, you should keep `self.cls_token` as `(1, 1, embed_dim)` - that's correct!\n",
        "\n",
        "The `cls_token` is a **learnable parameter** that's the same for all images. You don't want separate parameters for each batch element.\n",
        "\n",
        "The issue is just in the `forward` method when you concatenate it. You need to **expand** (or repeat) it to match the batch size at that moment:\n",
        "\n",
        "```python\n",
        "torch.cat([self.cls_token.expand(bs, -1, -1), x], dim=1)\n",
        "```\n",
        "\n",
        "This broadcasts the same [CLS] token across all batch elements without creating new parameters.\n",
        "\n",
        "Does that distinction make sense?"
      ]
    },
    {
      "cell_type": "markdown",
      "id": "0f0fb28c",
      "metadata": {
        "solveit_ai": true,
        "use_thinking": true,
        "id": "0f0fb28c"
      },
      "source": [
        "but it will create different class for different items right other wise there will be only one [cls] token?\n",
        "\n",
        "\n",
        "##### 🤖Reply🤖<!-- SOLVEIT_SEPARATOR_7f3a9b2c -->\n",
        "\n",
        "Great question! This is an important distinction.\n",
        "\n",
        "You're right that after expanding, each image in the batch gets its own [CLS] token, but they all **start with the same initial values** (from the one learnable parameter).\n",
        "\n",
        "Here's the key: After going through the transformer blocks, each image's [CLS] token will be **different** because:\n",
        "- Each image has different patches\n",
        "- The attention mechanism mixes information from those patches into the [CLS] token\n",
        "- So the final [CLS] representation is unique for each image\n",
        "\n",
        "Think of it like this: all images start with the same [CLS] token, but after \"attending\" to their own unique patches, each [CLS] token becomes specialized for that specific image.\n",
        "\n",
        "Does this clarify how one parameter can lead to different classifications for different images?"
      ]
    },
    {
      "cell_type": "markdown",
      "id": "6d4de088",
      "metadata": {
        "solveit_ai": true,
        "use_thinking": true,
        "id": "6d4de088"
      },
      "source": [
        "so by using expand we are extedning the cls tokens to 64 images. But here my wuestion but only 1 is saved in the model right?\n",
        "\n",
        "##### 🤖Reply🤖<!-- SOLVEIT_SEPARATOR_7f3a9b2c -->\n",
        "\n",
        "Exactly! You've got it.\n",
        "\n",
        "**Only 1** `cls_token` parameter (with shape `(1, 1, embed_dim)`) is saved in the model and gets updated during training.\n",
        "\n",
        "The `expand` operation just creates a **view** - it doesn't copy or create new parameters. During backpropagation, the gradients from all 64 images flow back and get **accumulated** into that single shared parameter.\n",
        "\n",
        "So:\n",
        "- Storage: 1 learnable [CLS] token\n",
        "- During forward pass: expanded to match batch size\n",
        "- During backward pass: gradients from all batch items update the same single parameter\n",
        "\n",
        "This is actually efficient - one shared [CLS] token learns to gather relevant information from any image!\n",
        "\n",
        "Does that clear it up?"
      ]
    },
    {
      "cell_type": "markdown",
      "id": "0d407f30",
      "metadata": {
        "solveit_ai": true,
        "id": "0d407f30"
      },
      "source": [
        "By following broadcasting rule it will broadcasted proberly right ?\n",
        "\n",
        "##### 🤖Reply🤖<!-- SOLVEIT_SEPARATOR_7f3a9b2c -->\n",
        "\n",
        "Not quite! The `expand` method doesn't follow automatic broadcasting rules - you need to call it explicitly.\n",
        "\n",
        "If you just do `torch.cat([self.cls_token, x], dim=1)` where `self.cls_token` is `(1, 1, embed_dim)` and `x` is `(bs, 16, embed_dim)`, PyTorch will try to concatenate them but the batch dimensions won't match properly, and you'll get a shape mismatch error.\n",
        "\n",
        "That's why you need to explicitly expand: `self.cls_token.expand(bs, -1, -1)` to make it `(bs, 1, embed_dim)` before concatenating.\n",
        "\n",
        "Want to test your model now to see if the shapes work correctly with a batch from your dataloader?"
      ]
    },
    {
      "cell_type": "code",
      "execution_count": 29,
      "id": "e5c99a3a",
      "metadata": {
        "time_run": "12:54:02p",
        "colab": {
          "base_uri": "https://localhost:8080/"
        },
        "id": "e5c99a3a",
        "outputId": "dfe497c3-70e5-4603-b2b1-99d901a6e24f"
      },
      "outputs": [
        {
          "output_type": "stream",
          "name": "stdout",
          "text": [
            "torch.Size([64, 17, 32])\n"
          ]
        }
      ],
      "source": [
        "# Dummy tensors\n",
        "cls_token = torch.randn(1, 1, 32)  # shape: (1, 1, 32)\n",
        "patches = torch.randn(64, 16, 32)   # shape: (64, 16, 32)\n",
        "\n",
        "# Without expand - this will fail:\n",
        "#torch.cat([cls_token, patches], dim=1)  # Error! Batch dims don't match\n",
        "\n",
        "# With expand - this works:\n",
        "cls_expanded = cls_token.expand(64, -1, -1)  # shape: (64, 1, 32)\n",
        "result = torch.cat([cls_expanded, patches], dim=1)  # shape: (64, 17, 32)\n",
        "\n",
        "print(result.shape)"
      ]
    },
    {
      "cell_type": "code",
      "execution_count": 30,
      "id": "09a532b8",
      "metadata": {
        "time_run": "4:57:06p",
        "id": "09a532b8"
      },
      "outputs": [],
      "source": [
        "#|export\n",
        "class VIT(nn.Module):\n",
        "    def __init__(self, config):\n",
        "        super().__init__()\n",
        "        assert config.patch_h == config.patch_w\n",
        "        assert config.h % config.patch_h == 0 and config.w % config.patch_w == 0\n",
        "        assert config.no_patches == (config.h // config.patch_h) * (config.w // config.patch_w)\n",
        "\n",
        "        self.unfold = nn.Unfold(kernel_size=config.patch_h, stride=config.patch_h)\n",
        "        self.image_projection = nn.Linear(config.patch_dim, config.embedding_dim)\n",
        "\n",
        "        self.cls_token = nn.Parameter(torch.randn(1, 1, config.embedding_dim))\n",
        "\n",
        "        self.pos_embedding = nn.Embedding(config.no_patches + 1, config.embedding_dim)\n",
        "\n",
        "        self.register_buffer('pos_range', torch.arange(config.no_patches + 1))\n",
        "        self.blocks = nn.ModuleList(\n",
        "            [\n",
        "                nn.Sequential(MultiHeadAttention(config), MLP(config))\n",
        "                for _ in range(config.n_layers)\n",
        "            ])\n",
        "        self.layer_norm = nn.LayerNorm(config.embedding_dim)\n",
        "        self.lm_head = nn.Linear(config.embedding_dim, config.vocab_size)\n",
        "\n",
        "        # init\n",
        "        self._init_weights()\n",
        "\n",
        "    def forward(self, x):                 # bs,ch,h,w\n",
        "        bs,ch,h,w = x.shape\n",
        "\n",
        "        x = self.unfold(x)      # bs,ch,patch_h*patch_w, no_patch\n",
        "        x.transpose_(-2,-1)\n",
        "\n",
        "        x = self.image_projection(x)\n",
        "        x = torch.cat([self.cls_token.expand(bs,-1,-1), x], dim=1) #bs,ch,no_patch+1,patch_h*patch_w\n",
        "\n",
        "        x = x + self.pos_embedding(self.pos_range)\n",
        "        for block in self.blocks:\n",
        "            x = block(x)\n",
        "        x = self.lm_head(self.layer_norm(x))\n",
        "        return x[:,0,:] # rtuen cls token only\n",
        "\n",
        "    def _init_weights(self):\n",
        "        \"\"\"Init\"\"\"\n",
        "        for name, module in self.named_modules():\n",
        "            if isinstance(module, nn.Linear):\n",
        "                std = 0.02\n",
        "                module.weight.data.normal_(mean=0.0, std=std)\n",
        "                if module.bias is not None:\n",
        "                    module.bias.data.zero_()\n",
        "\n",
        "            elif isinstance(module, nn.Embedding):\n",
        "                module.weight.data.normal_(mean=0.0, std=0.02)\n",
        "\n",
        "    def decay_params(self):\n",
        "        \"\"\"\n",
        "        get decay params\n",
        "        \"\"\"\n",
        "        no_decay_params, decay_params = [], []\n",
        "        for name, param in self.named_parameters():\n",
        "            if 'bias' in name or 'norm' in name or 'embed' in name:\n",
        "                no_decay_params.append(param)\n",
        "            else:\n",
        "                decay_params.append(param)\n",
        "\n",
        "        return decay_params, no_decay_params"
      ]
    },
    {
      "cell_type": "code",
      "execution_count": 31,
      "id": "59370bbf",
      "metadata": {
        "time_run": "4:51:38p",
        "id": "59370bbf"
      },
      "outputs": [],
      "source": [
        "#|export\n",
        "class Config:\n",
        "    # Image\n",
        "    h = 28\n",
        "    w = 28\n",
        "\n",
        "    # Patch settings\n",
        "    patch_h = 7\n",
        "    patch_w = 7\n",
        "    patch_dim = patch_h * patch_w\n",
        "    no_patches = (h // patch_h) * (w // patch_w)\n",
        "\n",
        "    # Model architecture\n",
        "    embedding_dim = 64\n",
        "    n_heads = 4\n",
        "    n_layers = 6\n",
        "\n",
        "    # Regularization\n",
        "    dropout = 0.1\n",
        "\n",
        "    # Classification\n",
        "    vocab_size = 10  # 10 classes for Fashion MNIST\n",
        "\n",
        "    device = 'cuda' if torch.cuda.is_available() else 'cpu'\n",
        "    dtype = torch.bfloat16 if torch.cuda.is_available() and torch.cuda.get_device_capability()[0] >= 8 else torch.float16 # Use bfloat16 on Ampere+ GPUs, otherwise use float16\n",
        "\n",
        "    epochs = 20\n",
        "    max_steps = len(dl['train']) * epochs\n",
        "    warm_steps = int(max_steps * 0.1)\n",
        "\n",
        "    max_lr = 5e-4\n",
        "    min_lr = 1e-4\n",
        "config = Config()"
      ]
    },
    {
      "cell_type": "code",
      "execution_count": 32,
      "id": "10a30d43",
      "metadata": {
        "time_run": "4:52:10p",
        "id": "10a30d43"
      },
      "outputs": [],
      "source": [
        "#|export\n",
        "#loss function\n",
        "loss_func = nn.CrossEntropyLoss()"
      ]
    },
    {
      "cell_type": "code",
      "execution_count": 33,
      "id": "b2b84273",
      "metadata": {
        "time_run": "4:35:41p",
        "colab": {
          "base_uri": "https://localhost:8080/"
        },
        "id": "b2b84273",
        "outputId": "deb49b2d-7abf-4244-82e2-26bd4670432b"
      },
      "outputs": [
        {
          "output_type": "execute_result",
          "data": {
            "text/plain": [
              "torch.Size([64, 10])"
            ]
          },
          "metadata": {},
          "execution_count": 33
        }
      ],
      "source": [
        "vis_model = VIT(config=config)\n",
        "pred = vis_model(x)\n",
        "pred.shape"
      ]
    },
    {
      "cell_type": "code",
      "execution_count": 34,
      "id": "65b36f65",
      "metadata": {
        "time_run": "4:53:43p",
        "colab": {
          "base_uri": "https://localhost:8080/"
        },
        "id": "65b36f65",
        "outputId": "5830a923-be32-4b80-9dd1-2dce6bc29406"
      },
      "outputs": [
        {
          "output_type": "execute_result",
          "data": {
            "text/plain": [
              "tensor(2.3281, grad_fn=<NllLossBackward0>)"
            ]
          },
          "metadata": {},
          "execution_count": 34
        }
      ],
      "source": [
        "loss_func(pred,y)"
      ]
    },
    {
      "cell_type": "markdown",
      "id": "de487ce0",
      "metadata": {
        "id": "de487ce0"
      },
      "source": [
        "## Cosine learning Sceduler"
      ]
    },
    {
      "cell_type": "code",
      "execution_count": 35,
      "id": "25067b0a",
      "metadata": {
        "time_run": "4:46:53p",
        "id": "25067b0a"
      },
      "outputs": [],
      "source": [
        "#|export\n",
        "import math\n",
        "def get_cosine_lr(\n",
        "    step,\n",
        "    warmup_steps=config.warm_steps,\n",
        "    max_steps=config.max_steps,\n",
        "    max_lr=config.max_lr,\n",
        "    min_lr=config.min_lr\n",
        "    ):\n",
        "    if step < warmup_steps:\n",
        "        return min_lr + (max_lr - min_lr) * step / warmup_steps\n",
        "    elif step < max_steps:\n",
        "        progress = (step - warmup_steps) / (max_steps - warmup_steps)\n",
        "        return min_lr + 0.5 * (max_lr - min_lr) * (1 + math.cos(math.pi * progress))\n",
        "    else:\n",
        "        return min_lr\n"
      ]
    },
    {
      "cell_type": "markdown",
      "id": "f7df86e2",
      "metadata": {
        "id": "f7df86e2"
      },
      "source": [
        "## Optimizer"
      ]
    },
    {
      "cell_type": "code",
      "execution_count": 36,
      "id": "25d077f5",
      "metadata": {
        "time_run": "4:47:34p",
        "id": "25d077f5"
      },
      "outputs": [],
      "source": [
        "#|export\n",
        "from torch.optim import AdamW\n",
        "class Optim:\n",
        "    def __init__(self, model, config):\n",
        "        decay_params, no_decay_params = model.decay_params() # extract deacayable and non deacayable params\n",
        "\n",
        "        self.optim = AdamW([\n",
        "            {'params': decay_params, 'weight_decay': 0.1},\n",
        "            {'params': no_decay_params, 'weight_decay': 0.0}\n",
        "        ], lr=config.min_lr)\n",
        "\n",
        "    def config_lr(self, step):\n",
        "        for param_group in self.optim.param_groups:\n",
        "            param_group['lr'] = get_cosine_lr(step)\n",
        "\n",
        "    def step(self): self.optim.step()\n",
        "\n",
        "    def zero(self): self.optim.zero_grad()"
      ]
    },
    {
      "cell_type": "markdown",
      "id": "510217e6",
      "metadata": {
        "id": "510217e6"
      },
      "source": [
        "## Training"
      ]
    },
    {
      "cell_type": "code",
      "execution_count": 37,
      "id": "e5b3ab62",
      "metadata": {
        "time_run": "4:54:38p",
        "id": "e5b3ab62"
      },
      "outputs": [],
      "source": [
        "#|export\n",
        "from torch.nn.utils import clip_grad_norm_\n",
        "import torch.nn as nn\n",
        "loss_func = nn.CrossEntropyLoss()\n",
        "def train(model):\n",
        "    model = model.to(config.device)\n",
        "\n",
        "    optimizer = Optim(model, config)\n",
        "    log = []\n",
        "    step = 0\n",
        "    for epoch in range(config.epochs):\n",
        "        model.train()\n",
        "        train_loss, no_train = 0, 0\n",
        "\n",
        "        for x, y in dl['train']: # Iterate directly over\n",
        "            step += 1\n",
        "            no_train += 1\n",
        "\n",
        "            x, y = x.to(config.device), y.to(config.device)           # move to device\n",
        "\n",
        "            optimizer.config_lr(step)                                           # set lr for each step\n",
        "            optimizer.zero()\n",
        "\n",
        "            with torch.autocast(device_type=config.device, dtype=config.dtype):\n",
        "              logits = model(x)\n",
        "\n",
        "              loss = loss_func(logits, y)\n",
        "\n",
        "            loss.backward()\n",
        "\n",
        "            clip_grad_norm_(model.parameters(), 1.0) # to clip gradients\n",
        "\n",
        "            optimizer.step()\n",
        "\n",
        "            train_loss += loss.item()\n",
        "\n",
        "        model.eval()\n",
        "        val_loss, no_valid = 0, 0\n",
        "        total_correct = 0\n",
        "        total_samples  = 0\n",
        "        with torch.no_grad(), torch.autocast(device_type=config.device, dtype=config.dtype):\n",
        "            for x, y in dl['valid']:\n",
        "                no_valid += 1\n",
        "\n",
        "                x, y = x.to(config.device), y.to(config.device)\n",
        "\n",
        "                logits = model(x)\n",
        "                loss = loss_func(logits, y)\n",
        "\n",
        "                predicted = logits.softmax(-1).argmax(-1)\n",
        "                total_correct += (predicted == y).sum().item()\n",
        "\n",
        "                val_loss += loss.item()\n",
        "                total_samples += y.size(0)\n",
        "\n",
        "        accurecy = total_correct / total_samples\n",
        "        print(f\"{epoch} -> {train_loss/no_train:.4f} : {val_loss/no_valid:.4f} : {accurecy}\")\n",
        "        log.append({\"epoch\":epoch, \"train_loss\":train_loss/no_train, \"valid_loss\":val_loss/no_valid, \"accurecy\":accurecy})\n",
        "    return log\n"
      ]
    },
    {
      "cell_type": "code",
      "source": [
        "dic = {}\n",
        "for i in [16, 32, 64, 128, 256]:\n",
        "    config.embedding_dim = i\n",
        "    vis_model = VIT(config=config)\n",
        "    print(f\"with embeddings {i}\")\n",
        "    print(\"---\"*20)\n",
        "    dic[i] = train(vis_model)\n",
        "    print(\"---\"*20)\n",
        "    del vis_model"
      ],
      "metadata": {
        "colab": {
          "base_uri": "https://localhost:8080/"
        },
        "id": "ACjqQq4vDRcS",
        "outputId": "26231d93-3514-42b9-96b8-70a9bfaeeb6b"
      },
      "id": "ACjqQq4vDRcS",
      "execution_count": 38,
      "outputs": [
        {
          "output_type": "stream",
          "name": "stdout",
          "text": [
            "with embeddings 16\n",
            "------------------------------------------------------------\n",
            "0 -> 1.8835 : 1.4794 : 0.5305\n",
            "1 -> 1.1734 : 0.9376 : 0.6425\n",
            "2 -> 0.7867 : 0.6789 : 0.7631\n",
            "3 -> 0.6251 : 0.5803 : 0.7869\n",
            "4 -> 0.5585 : 0.5340 : 0.8108\n",
            "5 -> 0.5173 : 0.5054 : 0.8141\n",
            "6 -> 0.4917 : 0.4971 : 0.8202\n",
            "7 -> 0.4744 : 0.4741 : 0.8299\n",
            "8 -> 0.4579 : 0.4866 : 0.827\n",
            "9 -> 0.4437 : 0.4494 : 0.8417\n",
            "10 -> 0.4324 : 0.4379 : 0.8456\n",
            "11 -> 0.4216 : 0.4241 : 0.8497\n",
            "12 -> 0.4138 : 0.4247 : 0.8485\n",
            "13 -> 0.4072 : 0.4222 : 0.8528\n",
            "14 -> 0.3988 : 0.4117 : 0.8549\n",
            "15 -> 0.3949 : 0.4130 : 0.8551\n",
            "16 -> 0.3920 : 0.4046 : 0.8553\n",
            "17 -> 0.3883 : 0.4007 : 0.8579\n",
            "18 -> 0.3848 : 0.4011 : 0.8578\n",
            "19 -> 0.3833 : 0.4058 : 0.8562\n",
            "------------------------------------------------------------\n",
            "with embeddings 32\n",
            "------------------------------------------------------------\n",
            "0 -> 1.5602 : 1.0076 : 0.6468\n",
            "1 -> 0.7871 : 0.6391 : 0.7735\n",
            "2 -> 0.5694 : 0.5186 : 0.8147\n",
            "3 -> 0.4818 : 0.4631 : 0.8371\n",
            "4 -> 0.4382 : 0.4353 : 0.8415\n",
            "5 -> 0.4062 : 0.4330 : 0.8387\n",
            "6 -> 0.3859 : 0.4128 : 0.8518\n",
            "7 -> 0.3708 : 0.3944 : 0.855\n",
            "8 -> 0.3583 : 0.3828 : 0.8619\n",
            "9 -> 0.3479 : 0.3772 : 0.8593\n",
            "10 -> 0.3391 : 0.3763 : 0.8634\n",
            "11 -> 0.3321 : 0.3678 : 0.8664\n",
            "12 -> 0.3226 : 0.3547 : 0.873\n",
            "13 -> 0.3172 : 0.3542 : 0.8707\n",
            "14 -> 0.3116 : 0.3557 : 0.8696\n",
            "15 -> 0.3082 : 0.3514 : 0.8714\n",
            "16 -> 0.3026 : 0.3428 : 0.8763\n",
            "17 -> 0.3006 : 0.3449 : 0.8766\n",
            "18 -> 0.2977 : 0.3466 : 0.875\n",
            "19 -> 0.2953 : 0.3392 : 0.8773\n",
            "------------------------------------------------------------\n",
            "with embeddings 64\n",
            "------------------------------------------------------------\n",
            "0 -> 1.1640 : 0.6459 : 0.772\n",
            "1 -> 0.5436 : 0.5153 : 0.8181\n",
            "2 -> 0.4475 : 0.4358 : 0.8415\n",
            "3 -> 0.3957 : 0.4145 : 0.8491\n",
            "4 -> 0.3620 : 0.3875 : 0.8655\n",
            "5 -> 0.3403 : 0.3883 : 0.8585\n",
            "6 -> 0.3245 : 0.3472 : 0.8749\n",
            "7 -> 0.3115 : 0.3488 : 0.8751\n",
            "8 -> 0.2974 : 0.3490 : 0.8771\n",
            "9 -> 0.2866 : 0.3267 : 0.8835\n",
            "10 -> 0.2768 : 0.3270 : 0.8806\n",
            "11 -> 0.2672 : 0.3240 : 0.8844\n",
            "12 -> 0.2571 : 0.3208 : 0.8848\n",
            "13 -> 0.2484 : 0.3160 : 0.8896\n",
            "14 -> 0.2400 : 0.3100 : 0.8912\n",
            "15 -> 0.2303 : 0.3079 : 0.893\n",
            "16 -> 0.2235 : 0.3171 : 0.8886\n",
            "17 -> 0.2190 : 0.3031 : 0.8952\n",
            "18 -> 0.2162 : 0.3074 : 0.8922\n",
            "19 -> 0.2101 : 0.3154 : 0.889\n",
            "------------------------------------------------------------\n",
            "with embeddings 128\n",
            "------------------------------------------------------------\n",
            "0 -> 0.8333 : 0.5336 : 0.8052\n",
            "1 -> 0.4492 : 0.4887 : 0.8305\n",
            "2 -> 0.3951 : 0.3962 : 0.8474\n",
            "3 -> 0.3599 : 0.3960 : 0.8549\n",
            "4 -> 0.3383 : 0.3791 : 0.8632\n",
            "5 -> 0.3181 : 0.3717 : 0.8529\n",
            "6 -> 0.3002 : 0.3579 : 0.8725\n",
            "7 -> 0.2879 : 0.3533 : 0.8767\n",
            "8 -> 0.2710 : 0.3469 : 0.8712\n",
            "9 -> 0.2552 : 0.3131 : 0.8862\n",
            "10 -> 0.2398 : 0.3201 : 0.886\n",
            "11 -> 0.2248 : 0.3327 : 0.8839\n",
            "12 -> 0.2074 : 0.3243 : 0.8889\n",
            "13 -> 0.1907 : 0.3222 : 0.8877\n",
            "14 -> 0.1766 : 0.3139 : 0.8964\n",
            "15 -> 0.1639 : 0.3166 : 0.8953\n",
            "16 -> 0.1511 : 0.3199 : 0.8961\n",
            "17 -> 0.1391 : 0.3339 : 0.8988\n",
            "18 -> 0.1303 : 0.3495 : 0.8971\n",
            "19 -> 0.1236 : 0.3471 : 0.8965\n",
            "------------------------------------------------------------\n",
            "with embeddings 256\n",
            "------------------------------------------------------------\n",
            "0 -> 0.6329 : 0.4976 : 0.8213\n",
            "1 -> 0.4376 : 0.4776 : 0.8308\n",
            "2 -> 0.4223 : 0.4279 : 0.8517\n",
            "3 -> 0.4000 : 0.4304 : 0.8456\n",
            "4 -> 0.3803 : 0.3797 : 0.8623\n",
            "5 -> 0.3616 : 0.3762 : 0.8623\n",
            "6 -> 0.3399 : 0.3641 : 0.8676\n",
            "7 -> 0.3227 : 0.3920 : 0.8558\n",
            "8 -> 0.3059 : 0.3462 : 0.8768\n",
            "9 -> 0.2859 : 0.3383 : 0.8762\n",
            "10 -> 0.2645 : 0.3272 : 0.8802\n",
            "11 -> 0.2419 : 0.3116 : 0.8868\n",
            "12 -> 0.2212 : 0.3409 : 0.8835\n",
            "13 -> 0.2003 : 0.3037 : 0.8961\n",
            "14 -> 0.1778 : 0.2986 : 0.8959\n",
            "15 -> 0.1535 : 0.3221 : 0.8956\n",
            "16 -> 0.1326 : 0.3456 : 0.8969\n",
            "17 -> 0.1151 : 0.3510 : 0.8975\n",
            "18 -> 0.0970 : 0.3649 : 0.8984\n",
            "19 -> 0.0877 : 0.3902 : 0.8981\n",
            "------------------------------------------------------------\n"
          ]
        }
      ]
    },
    {
      "cell_type": "code",
      "source": [],
      "metadata": {
        "id": "KdOZm9hsDZyp"
      },
      "id": "KdOZm9hsDZyp",
      "execution_count": 38,
      "outputs": []
    },
    {
      "cell_type": "code",
      "source": [
        "\n",
        "import matplotlib.pyplot as plt\n",
        "\n",
        "fig, axes = plt.subplots(1, 3, figsize=(15, 4))\n",
        "\n",
        "for embed_dim, logs in dic.items():\n",
        "    epochs = [log['epoch'] for log in logs]\n",
        "    train_losses = [log['train_loss'] for log in logs]\n",
        "    valid_losses = [log['valid_loss'] for log in logs]\n",
        "    accuracies = [log['accurecy'] for log in logs]\n",
        "\n",
        "    axes[0].plot(epochs, train_losses, label=f'embed_dim={embed_dim}')\n",
        "    axes[1].plot(epochs, valid_losses, label=f'embed_dim={embed_dim}')\n",
        "    axes[2].plot(epochs, accuracies, label=f'embed_dim={embed_dim}')\n",
        "\n",
        "axes[0].set_xlabel('Epoch')\n",
        "axes[0].set_ylabel('Loss')\n",
        "axes[0].set_title('Training Loss')\n",
        "axes[0].legend()\n",
        "axes[0].grid(True)\n",
        "\n",
        "axes[1].set_xlabel('Epoch')\n",
        "axes[1].set_ylabel('Loss')\n",
        "axes[1].set_title('Validation Loss')\n",
        "axes[1].legend()\n",
        "axes[1].grid(True)\n",
        "\n",
        "axes[2].set_xlabel('Epoch')\n",
        "axes[2].set_ylabel('Accuracy')\n",
        "axes[2].set_title('Validation Accuracy')\n",
        "axes[2].legend()\n",
        "axes[2].grid(True)\n",
        "\n",
        "plt.tight_layout()\n",
        "plt.show()"
      ],
      "metadata": {
        "colab": {
          "base_uri": "https://localhost:8080/",
          "height": 262
        },
        "id": "RBqzfocBRLRv",
        "outputId": "88d93e12-c620-4b58-c782-1805225ee365"
      },
      "id": "RBqzfocBRLRv",
      "execution_count": 40,
      "outputs": [
        {
          "output_type": "display_data",
          "data": {
            "text/plain": [
              "<Figure size 1500x400 with 3 Axes>"
            ],
            "image/png": "[encoded data removed]"
          },
          "metadata": {}
        }
      ]
    },
    {
      "cell_type": "code",
      "source": [],
      "metadata": {
        "id": "FOKPaMaHmHBK"
      },
      "id": "FOKPaMaHmHBK",
      "execution_count": null,
      "outputs": []
    }
  ],
  "metadata": {
    "solveit_dialog_mode": "learning",
    "solveit_ver": 2,
    "colab": {
      "provenance": [],
      "gpuType": "T4"
    },
    "language_info": {
      "name": "python"
    },
    "kernelspec": {
      "name": "python3",
      "display_name": "Python 3"
    },
    "accelerator": "GPU"
  },
  "nbformat": 4,
  "nbformat_minor": 5
}