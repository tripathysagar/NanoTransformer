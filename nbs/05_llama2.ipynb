{
  "cells": [
    {
      "cell_type": "markdown",
      "id": "100c26b3",
      "metadata": {
        "id": "100c26b3",
        "solveit_ai": true,
        "use_thinking": true
      },
      "source": [
        "I am building char-lebel Transformer for learning purpose. I have implemented GPT2 arch from ground using pytorch. I want to extend it to LLAMA2 arch.\n",
        "\n",
        "##### 🤖Reply🤖<!-- SOLVEIT_SEPARATOR_7f3a9b2c -->\n",
        "\n",
        "Great project! Extending from GPT-2 to LLaMA 2 architecture is an excellent way to understand the evolution of transformer models.\n",
        "\n",
        "Before we dive in, let me understand where you're at:\n",
        "\n",
        "1. Have you already looked into the key architectural differences between GPT-2 and LLaMA 2?\n",
        "2. Which specific components are you planning to modify first?\n",
        "\n",
        "The main differences include:\n",
        "- **RMSNorm** instead of LayerNorm\n",
        "- **RoPE** (Rotary Position Embeddings) instead of learned positional embeddings\n",
        "- **SwiGLU** activation in the FFN instead of GELU\n",
        "- **Grouped Query Attention (GQA)** instead of standard multi-head attention\n",
        "\n",
        "Which of these would you like to start with, or would you prefer a different order based on what makes sense for your learning goals?"
      ]
    },
    {
      "cell_type": "code",
      "execution_count": null,
      "id": "e05a3954",
      "metadata": {},
      "outputs": [],
      "source": [
        "#| default_exp Llam2"
      ]
    },
    {
      "cell_type": "code",
      "execution_count": 1,
      "id": "X9G_SL2Q-MxZ",
      "metadata": {
        "colab": {
          "base_uri": "https://localhost:8080/"
        },
        "id": "X9G_SL2Q-MxZ",
        "outputId": "993fb7cc-b09e-47cf-b0c0-94d79db4366e"
      },
      "outputs": [
        {
          "name": "stdout",
          "output_type": "stream",
          "text": [
            "  Installing build dependencies ... \u001b[?25l\u001b[?25hdone\n",
            "  Getting requirements to build wheel ... \u001b[?25l\u001b[?25hdone\n",
            "  Preparing metadata (pyproject.toml) ... \u001b[?25l\u001b[?25hdone\n"
          ]
        }
      ],
      "source": [
        "try:\n",
        "    import google.colab\n",
        "    !pip install -q git+https://github.com/tripathysagar/NanoTransformer.git\n",
        "except Exception as e:\n",
        "    pass"
      ]
    },
    {
      "cell_type": "code",
      "execution_count": 2,
      "id": "edc80c06",
      "metadata": {
        "id": "edc80c06",
        "time_run": "1:52:57p"
      },
      "outputs": [],
      "source": [
        "#|export\n",
        "from NanoTransformer.data import *"
      ]
    },
    {
      "cell_type": "code",
      "execution_count": 3,
      "id": "004c7c1a",
      "metadata": {
        "id": "004c7c1a",
        "time_run": "1:52:57p"
      },
      "outputs": [],
      "source": [
        "#|export\n",
        "from dataclasses import dataclass\n",
        "import torch\n",
        "\n",
        "@dataclass\n",
        "class LlamaConfig:\n",
        "    bs = 256\n",
        "    seq_len = 128                # context length\n",
        "    embedding_dim = 128          # dim of the embedding layer\n",
        "    n_layers = 4                # no of decoder block stack on top of each other\n",
        "    n_heads = 8                 # no of heads in a single decoder block\n",
        "    vocab_size = len(tokenizer.vocab)\n",
        "    dropout = 0.1\n",
        "\n",
        "    device = 'cuda' if torch.cuda.is_available() else 'cpu'\n",
        "    dtype = torch.bfloat16 if torch.cuda.is_available() and torch.cuda.get_device_capability()[0] >= 8 else torch.float16 # Use bfloat16 on Ampere+ GPUs, otherwise use float16\n",
        "\n",
        "    lr = 1e-3\n",
        "    max_grad_norm = 1.0\n",
        "\n",
        "    epochs = 30\n",
        "    no_kv = 1\n",
        "\n",
        "    max_lr = 5e-4\n",
        "    min_lr = 1e-4\n",
        "\n",
        "llamaConfig = LlamaConfig()"
      ]
    },
    {
      "cell_type": "code",
      "execution_count": 4,
      "id": "3881572d",
      "metadata": {
        "colab": {
          "base_uri": "https://localhost:8080/"
        },
        "id": "3881572d",
        "outputId": "dfc66008-6eb7-46ea-8f48-659249d4557f",
        "time_run": "1:52:58p"
      },
      "outputs": [
        {
          "data": {
            "text/plain": [
              "{'train': <torch.utils.data.dataloader.DataLoader at 0x7eb6f0d67530>,\n",
              " 'valid': <torch.utils.data.dataloader.DataLoader at 0x7eb6f1488bf0>}"
            ]
          },
          "execution_count": 4,
          "metadata": {},
          "output_type": "execute_result"
        }
      ],
      "source": [
        "#|export\n",
        "text_dls = get_text_dl(bs=llamaConfig.bs, seq_len=llamaConfig.seq_len)\n",
        "text_dls"
      ]
    },
    {
      "cell_type": "code",
      "execution_count": 5,
      "id": "8c7ac997",
      "metadata": {
        "id": "8c7ac997",
        "time_run": "4:26:38p"
      },
      "outputs": [],
      "source": [
        "#|export\n",
        "llamaConfig.max_steps = len(text_dls['train']) * llamaConfig.epochs\n",
        "llamaConfig.warm_steps = int(llamaConfig.max_steps * 0.1)"
      ]
    },
    {
      "cell_type": "markdown",
      "id": "3c210ba7",
      "metadata": {
        "id": "3c210ba7"
      },
      "source": [
        "## Embedding"
      ]
    },
    {
      "cell_type": "code",
      "execution_count": 6,
      "id": "fb191f12",
      "metadata": {
        "id": "fb191f12",
        "time_run": "1:52:58p"
      },
      "outputs": [],
      "source": [
        "#|export\n",
        "from torch import nn\n",
        "class Embedding(nn.Module):\n",
        "    def __init__(self, config:LlamaConfig):\n",
        "        super().__init__()\n",
        "        self.register_buffer('pos_ids', torch.arange(config.seq_len))  # for adding the postional encoding from 0 to seq_len - 1\n",
        "\n",
        "        self.embed = nn.Embedding(config.vocab_size, config.embedding_dim)\n",
        "\n",
        "    def forward(self, x):           #bs * seq_len\n",
        "        return self.embed(x)        #bs * seq_len * embedding_dim"
      ]
    },
    {
      "cell_type": "markdown",
      "id": "1964d7c8",
      "metadata": {
        "id": "1964d7c8"
      },
      "source": [
        "## RoPE\n"
      ]
    },
    {
      "cell_type": "code",
      "execution_count": 7,
      "id": "9d693c24",
      "metadata": {
        "id": "9d693c24",
        "time_run": "1:52:58p"
      },
      "outputs": [],
      "source": [
        "#|export\n",
        "class RoPE(nn.Module):\n",
        "    def __init__(self, head_dim, seq_len):\n",
        "        super().__init__()\n",
        "        self.head_dim = head_dim\n",
        "        self.seq_len = seq_len\n",
        "\n",
        "        no = torch.arange(head_dim // 2)\n",
        "        theta = 1.0 / (10000 ** (2 * no / head_dim ))    # angle\n",
        "\n",
        "        # Position indices\n",
        "        positions = torch.arange(seq_len)\n",
        "        angles = positions[:, None] * theta             # (seq_len, emb_dim//2)\n",
        "\n",
        "        self.register_buffer('cos_angles', torch.cos(angles))\n",
        "        self.register_buffer('sin_angles', torch.sin(angles))\n",
        "\n",
        "    def forward(self, x):\n",
        "        bs, seq_len, head_dim = x.shape # emb_dim is a name bug but it head_dim is passed\n",
        "\n",
        "        x1, x2 = x[..., :head_dim//2], x[..., head_dim//2:] # hf implement by deviding the emb in two half and then caluclate the rotation\n",
        "\n",
        "        rotated_x1 = x1 * self.cos_angles[:seq_len] - x2 * self.sin_angles[:seq_len]\n",
        "        rotated_x2 = x1 * self.sin_angles[:seq_len] + x2 * self.cos_angles[:seq_len]\n",
        "\n",
        "        return  torch.cat([rotated_x1, rotated_x2], dim=-1)\n"
      ]
    },
    {
      "cell_type": "code",
      "execution_count": 8,
      "id": "34bf045d",
      "metadata": {
        "colab": {
          "base_uri": "https://localhost:8080/"
        },
        "id": "34bf045d",
        "outputId": "bc4aa667-9993-42d6-934f-668ecf1ae6d4",
        "time_run": "1:52:58p"
      },
      "outputs": [
        {
          "data": {
            "text/plain": [
              "(torch.Size([256, 128]), torch.Size([256, 128]), torch.Size([256, 128, 128]))"
            ]
          },
          "execution_count": 8,
          "metadata": {},
          "output_type": "execute_result"
        }
      ],
      "source": [
        "emb = Embedding(llamaConfig)\n",
        "rope = RoPE(head_dim = 128/8, seq_len=llamaConfig.seq_len)\n",
        "\n",
        "for x, y in text_dls['train']:\n",
        "    break\n",
        "\n",
        "emb_x = emb(x)\n",
        "\n",
        "x.shape, y.shape, emb_x.shape"
      ]
    },
    {
      "cell_type": "code",
      "execution_count": 9,
      "id": "09ef6b39",
      "metadata": {
        "id": "09ef6b39",
        "time_run": "1:52:58p"
      },
      "outputs": [],
      "source": [
        "assert x.shape == y.shape\n",
        "assert x.shape == emb_x.shape[:-1]\n",
        "assert emb_x.shape[-1] == llamaConfig.embedding_dim"
      ]
    },
    {
      "cell_type": "code",
      "execution_count": 10,
      "id": "57780ebe",
      "metadata": {
        "id": "57780ebe",
        "time_run": "1:52:59p"
      },
      "outputs": [],
      "source": [
        "head = emb_x[...,:16]\n",
        "pos = rope(head)\n",
        "assert pos.shape == head.shape"
      ]
    },
    {
      "cell_type": "markdown",
      "id": "4b5a7160",
      "metadata": {
        "id": "4b5a7160"
      },
      "source": [
        "## RMSNorm"
      ]
    },
    {
      "cell_type": "markdown",
      "id": "d6b3027b",
      "metadata": {
        "id": "d6b3027b",
        "solveit_ai": true
      },
      "source": [
        "What are the formula of `RMSNorm`?\n",
        "\n",
        "##### 🤖Reply🤖<!-- SOLVEIT_SEPARATOR_7f3a9b2c -->\n",
        "\n",
        "RMSNorm (Root Mean Square Layer Normalization) is simpler than LayerNorm. Here's the formula:\n",
        "\n",
        "**RMSNorm(x) = (x / RMS(x)) × γ**\n",
        "\n",
        "Where:\n",
        "- **RMS(x) = √(mean(x²) + ε)**\n",
        "- **γ** is a learnable scale parameter (same shape as the feature dimension)\n",
        "- **ε** is a small constant for numerical stability (typically 1e-5 or 1e-6)\n",
        "\n",
        "The key difference from LayerNorm is that RMSNorm:\n",
        "- Does **not** subtract the mean (no centering)\n",
        "- Does **not** have a bias term\n",
        "- Only normalizes by the root mean square\n",
        "\n",
        "So in code terms, for each token embedding, you'd compute the RMS across the embedding dimension, divide by it, then multiply by the learned scale parameter.\n",
        "\n",
        "Would you like to implement this now, or do you have questions about how it works?"
      ]
    },
    {
      "cell_type": "code",
      "execution_count": 11,
      "id": "9b6a526c",
      "metadata": {
        "id": "9b6a526c",
        "time_run": "1:52:59p"
      },
      "outputs": [],
      "source": [
        "class RMSNorm(nn.Module):\n",
        "    def __init__(self, shape, eps=1e-5):\n",
        "        super().__init__()\n",
        "        self.scale_param = nn.Parameter(torch.ones(shape))\n",
        "        self.eps = eps\n",
        "    def forward(self, x):\n",
        "        rms = torch.sqrt((x*x).mean(dim=-1, keepdim=True) + self.eps)\n",
        "        return (x / rms ) * self.scale_param"
      ]
    },
    {
      "cell_type": "code",
      "execution_count": 12,
      "id": "eeb218bd",
      "metadata": {
        "id": "eeb218bd",
        "time_run": "1:52:59p"
      },
      "outputs": [],
      "source": [
        "rms_norm = RMSNorm(llamaConfig.embedding_dim)\n",
        "normalized = rms_norm(emb_x)\n",
        "assert normalized.shape == emb_x.shape"
      ]
    },
    {
      "cell_type": "markdown",
      "id": "96671a2c",
      "metadata": {
        "id": "96671a2c",
        "solveit_ai": true
      },
      "source": [
        "## SwiGLU activation in the FFN instead of GELU\n",
        "\n",
        "##### 🤖Reply🤖<!-- SOLVEIT_SEPARATOR_7f3a9b2c -->\n",
        "\n",
        "Great! Now let's look at **SwiGLU**, which replaces GELU in the feedforward network.\n",
        "\n",
        "**SwiGLU formula:**\n",
        "\n",
        "SwiGLU(x, W, V, W₂) = (Swish(xW) ⊙ xV) W₂\n",
        "\n",
        "Where:\n",
        "- **Swish(x) = x × σ(x)** where σ is the sigmoid function (also called SiLU in PyTorch)\n",
        "- **⊙** means element-wise multiplication\n",
        "- **W, V, W₂** are weight matrices\n",
        "\n",
        "The key difference from a standard FFN:\n",
        "- GPT-2 FFN: `x → Linear → GELU → Linear → output`\n",
        "- LLaMA FFN: `x → [Linear(W), Linear(V)] → SwiGLU → Linear(W₂) → output`\n",
        "\n",
        "Notice that SwiGLU uses **two parallel projections** (W and V) before combining them, so the hidden dimension typically needs adjustment.\n",
        "\n",
        "In LLaMA, the FFN hidden dimension is usually `(4 * embedding_dim * 2) / 3` rounded to a multiple of the model's dimension.\n",
        "\n",
        "Would you like to implement the SwiGLU FFN block now, or do you have questions about how it differs from the standard FFN?"
      ]
    },
    {
      "cell_type": "code",
      "execution_count": 13,
      "id": "a4c0d1b8",
      "metadata": {
        "id": "a4c0d1b8",
        "time_run": "1:52:59p"
      },
      "outputs": [],
      "source": [
        "import torch.nn.functional as F\n",
        "class SwiGLU_FFN(nn.Module):\n",
        "    def __init__(self, embedding_dim, dropout=0.1):\n",
        "        super().__init__()\n",
        "        hidden_dim = int(2 * embedding_dim * 4 / 3)\n",
        "        self.w = nn.Linear(embedding_dim, hidden_dim, bias=False)\n",
        "        self.v = nn.Linear(embedding_dim, hidden_dim, bias=False)\n",
        "        self.w2 = nn.Linear(hidden_dim, embedding_dim, bias=False)\n",
        "        self.dropout = nn.Dropout(dropout)\n",
        "\n",
        "    def forward(self, x):\n",
        "        return self.dropout(self.w2(F.silu(self.w(x)) * self.v(x)))"
      ]
    },
    {
      "cell_type": "markdown",
      "id": "dab80678",
      "metadata": {
        "id": "dab80678"
      },
      "source": [
        "## Grouped Query Attention"
      ]
    },
    {
      "cell_type": "markdown",
      "id": "8b4b9a6e",
      "metadata": {
        "id": "8b4b9a6e"
      },
      "source": [
        "**Q and K after projection, but before computing attention scores**.\n",
        "\n",
        "Specifically:\n",
        "- Apply RoPE to **Q** (after `self.Q_W(x)` in `AttentionHead`)\n",
        "- Apply RoPE to **K** (in your `GroupedQueryAttention` class, after `self.K_cache(x)` and reshaping)\n",
        "- Do **NOT** apply RoPE to **V**\n",
        "\n",
        "So in your current code, you'd need to:\n",
        "1. Apply RoPE to K in the `GroupedQueryAttention.forward()` method before passing to heads\n",
        "2. Apply RoPE to Q inside `AttentionHead.forward()` after creating Q\n",
        "\n",
        "One thing to consider: your RoPE class expects shape `(bs, seq_len, head_dim)`. Will this work when K has shape `(bs, seq_len, no_kv, head_dim)`?\n"
      ]
    },
    {
      "cell_type": "markdown",
      "id": "5837f039",
      "metadata": {
        "id": "5837f039",
        "solveit_ai": true,
        "use_thinking": true
      },
      "source": [
        "Yes consider the example\n",
        "```py\n",
        "class AttentionHead(nn.Module):\n",
        "    def __init__(self, config:GPTConfig):\n",
        "        super().__init__()\n",
        "\n",
        "        assert config.embedding_dim % config.n_heads == 0\n",
        "        self.head_dim = config.embedding_dim // config.n_heads\n",
        "\n",
        "        self.Q_W = nn.Linear(config.embedding_dim, self.head_dim)\n",
        "        self.K_W = nn.Linear(config.embedding_dim, self.head_dim)\n",
        "        self.V_W = nn.Linear(config.embedding_dim, self.head_dim)\n",
        "\n",
        "\n",
        "        mask = torch.tril(torch.ones(config.seq_len, config.seq_len))\n",
        "        self.register_buffer('mask', mask.masked_fill(mask == 0, float('-inf'))) # for building casual mask\n",
        "\n",
        "        self.dropout = nn.Dropout(p = config.dropout)\n",
        "\n",
        "    def forward(self, x): #bs * seq_len * embedding_dim\n",
        "\n",
        "        Q, K, V = self.Q_W(x), self.K_W(x), self.V_W(x)        #bs * seq_len * head_dim\n",
        "\n",
        "        attn = Q @ K.transpose(-2, -1) /  self.head_dim ** 0.5         #bs * seq_len * head_dim @ bs * head_dim * seq_len -> bs * seq_len * seq_len\n",
        "\n",
        "        attn += self.mask[:x.shape[1], :x.shape[1]]\n",
        "\n",
        "        attn = torch.softmax(attn, dim=-1)\n",
        "\n",
        "        return self.dropout(attn @ V)         # bs * seq_len * seq_len @ bs * seq_len * head_dim -> bs * seq_len *  head_dim\n",
        "```\n",
        "\n",
        "##### 🤖Reply🤖<!-- SOLVEIT_SEPARATOR_7f3a9b2c -->\n",
        "\n",
        "Good! This is a single attention head from GPT-2 style architecture.\n",
        "\n",
        "For **Grouped Query Attention**, the key change is: instead of having one K and V projection per query head, you'll have **fewer K/V heads that are shared across multiple Q heads**.\n",
        "\n",
        "For example, with 8 query heads and 2 K/V heads:\n",
        "- Q heads: 8 (each gets `head_dim` dimensions)\n",
        "- K heads: 2 (shared across groups of 4 Q heads each)\n",
        "- V heads: 2 (shared across groups of 4 Q heads each)\n",
        "\n",
        "So in your `MultiHeadAttention` module (not the single head), you'd need to:\n",
        "1. Project Q to get all 8 heads\n",
        "2. Project K to get only 2 heads\n",
        "3. Project V to get only 2 heads\n",
        "4. During attention computation, repeat/expand the K and V heads to match Q\n",
        "\n",
        "Before we code this, a few questions:\n",
        "1. Do you currently have a `MultiHeadAttention` class that combines multiple `AttentionHead` instances?\n",
        "2. How many K/V heads do you want to use? (Common choices: 2, 4, or 8)\n",
        "3. Do you want to try implementing the GQA structure yourself first, or would you like me to write the code for you?"
      ]
    },
    {
      "cell_type": "markdown",
      "id": "4c4b38c2",
      "metadata": {
        "id": "4c4b38c2",
        "solveit_ai": true
      },
      "source": [
        "K and V will be shared to AttentionHead ?\n",
        "\n",
        "##### 🤖Reply🤖<!-- SOLVEIT_SEPARATOR_7f3a9b2c -->\n",
        "\n",
        "Yes, exactly! In GQA, multiple query heads will **share** the same K and V heads.\n",
        "\n",
        "Here's the key insight:\n",
        "- In standard MHA: each attention head has its own Q, K, and V\n",
        "- In GQA: each attention head has its own Q, but **groups of heads share** the same K and V\n",
        "\n",
        "So if you have 8 Q heads and 2 K/V heads:\n",
        "- Q heads 0-3 share K/V head 0\n",
        "- Q heads 4-7 share K/V head 1\n",
        "\n",
        "This means you'll likely want to restructure your code. Instead of having separate `AttentionHead` classes, you'd typically implement this in a single `GroupedQueryAttention` module that:\n",
        "1. Projects Q to shape `(bs, seq_len, n_heads, head_dim)`\n",
        "2. Projects K and V to shape `(bs, seq_len, n_kv_heads, head_dim)`\n",
        "3. Expands/repeats K and V to match the number of Q heads\n",
        "4. Computes attention for all heads in parallel\n",
        "\n",
        "Does this make sense? Would you like to try implementing this yourself, or would you like me to show you the code structure?"
      ]
    },
    {
      "cell_type": "code",
      "execution_count": 14,
      "id": "8a9a091a",
      "metadata": {
        "id": "8a9a091a",
        "time_run": "1:52:59p"
      },
      "outputs": [],
      "source": [
        "\n",
        "class AttentionHead(nn.Module):\n",
        "    def __init__(self, config:LlamaConfig):\n",
        "        super().__init__()\n",
        "\n",
        "        assert config.embedding_dim % config.n_heads == 0\n",
        "        self.head_dim = config.embedding_dim // config.n_heads\n",
        "\n",
        "        self.Q_W = nn.Linear(config.embedding_dim, self.head_dim)\n",
        "        #self.K_W = nn.Linear(config.embedding_dim, self.head_dim)\n",
        "        #self.V_W = nn.Linear(config.embedding_dim, self.head_dim)\n",
        "\n",
        "        self.rope = RoPE(head_dim = self.head_dim, seq_len = config.seq_len)\n",
        "\n",
        "        mask = torch.tril(torch.ones(config.seq_len, config.seq_len))\n",
        "        self.register_buffer('mask', mask.masked_fill(mask == 0, float('-inf'))) # for building casual mask\n",
        "\n",
        "        self.dropout = nn.Dropout(p = config.dropout)\n",
        "\n",
        "    def forward(self, K, V, x): #bs * seq_len * embedding_dim\n",
        "\n",
        "        Q = self.Q_W(x)        #bs * seq_len * head_dim\n",
        "\n",
        "        attn = self.rope(Q) @ K.transpose(-2, -1) /  self.head_dim ** 0.5         #bs * seq_len * head_dim @ bs * head_dim * seq_len -> bs * seq_len * seq_len\n",
        "\n",
        "        attn += self.mask[:x.shape[1], :x.shape[1]]\n",
        "\n",
        "        attn = torch.softmax(attn, dim=-1)\n",
        "\n",
        "        return self.dropout(attn @ V)         # bs * seq_len * seq_len @ bs * seq_len * head_dim -> bs * seq_len *  head_dim"
      ]
    },
    {
      "cell_type": "markdown",
      "id": "bf90ff00",
      "metadata": {
        "id": "bf90ff00",
        "solveit_ai": true
      },
      "source": [
        "check the implementaion\n",
        "\n",
        "##### 🤖Reply🤖<!-- SOLVEIT_SEPARATOR_7f3a9b2c -->\n",
        "\n",
        "Good start! You've modified `AttentionHead` to accept K and V as inputs instead of computing them internally. This is the right direction for GQA.\n",
        "\n",
        "However, there's a dimension issue to watch out for. When you pass K and V into this head, what shape are you expecting them to have?\n",
        "\n",
        "Currently your code assumes:\n",
        "- Q: `(bs, seq_len, head_dim)`\n",
        "- K: needs to be `(bs, head_dim, seq_len)` after transpose for the matmul to work\n",
        "- V: needs to be `(bs, seq_len, head_dim)` for the final matmul\n",
        "\n",
        "But in GQA, K and V will be shared across multiple heads. So you'll need to think about how to handle the broadcasting or indexing.\n",
        "\n",
        "A few questions to help you move forward:\n",
        "1. Are you planning to create a `MultiHeadAttention` or `GroupedQueryAttention` class that will manage multiple `AttentionHead` instances?\n",
        "2. How are you planning to generate the shared K and V tensors - will you project them in the parent class?\n",
        "3. Have you thought about how many K/V heads you want (e.g., 2, 4, or 8)?\n",
        "\n",
        "What's your plan for the overall structure?"
      ]
    },
    {
      "cell_type": "markdown",
      "id": "4165719c",
      "metadata": {
        "id": "4165719c",
        "solveit_ai": true
      },
      "source": [
        "\n",
        "But in GQA, K and V will be shared across multiple heads. So you'll need to think about how to handle the broadcasting or indexing.\n",
        "\n",
        "A few questions to help you move forward:\n",
        "1. Are you planning to create a `MultiHeadAttention` or `GroupedQueryAttention` class that will manage multiple `AttentionHead` instances? : yes\n",
        "2. How are you planning to generate the shared K and V tensors - will you project them in the parent class? : yes and share them accross attention head\n",
        "3. Have you thought about how many K/V heads you want (e.g., 2, 4, or 8)? : let make it 8for now\n",
        "\n",
        "\n",
        "##### 🤖Reply🤖<!-- SOLVEIT_SEPARATOR_7f3a9b2c -->\n",
        "\n",
        "Perfect! So with 8 Q heads and 8 K/V heads, you're actually doing **Multi-Head Attention** (not GQA yet), which is a good place to start.\n",
        "\n",
        "Here's what you need in your parent `MultiHeadAttention` class:\n",
        "\n",
        "1. Create K and V projections that output the full dimension: `nn.Linear(embedding_dim, embedding_dim)`\n",
        "2. Split the K and V outputs into 8 heads of `head_dim` each\n",
        "3. Pass each K head and V head to the corresponding `AttentionHead`\n",
        "\n",
        "So in your parent class, after projecting K and V, you'd reshape them from:\n",
        "- `(bs, seq_len, embedding_dim)`\n",
        "to:\n",
        "- `(bs, seq_len, n_heads, head_dim)`\n",
        "\n",
        "Then you can pass `K[:, :, i, :]` and `V[:, :, i, :]` to the i-th attention head.\n",
        "\n",
        "Does this approach make sense? Would you like to try implementing the `MultiHeadAttention` class yourself, or do you need more guidance on the reshaping part?"
      ]
    },
    {
      "cell_type": "markdown",
      "id": "629bb680",
      "metadata": {
        "id": "629bb680"
      },
      "source": [
        "For GroupedQueryAttention\n",
        "\n",
        "```python\n",
        "i = idx // (self.config.n_heads // self.no_kv)\n",
        "```\n",
        "\n",
        "This properly maps multiple query heads to share K/V pairs. For example, with 8 heads and 2 K/V pairs:\n",
        "- Heads 0-3 get `i=0`\n",
        "- Heads 4-7 get `i=1`"
      ]
    },
    {
      "cell_type": "code",
      "execution_count": 15,
      "id": "0516aec3",
      "metadata": {
        "id": "0516aec3",
        "time_run": "1:52:59p"
      },
      "outputs": [],
      "source": [
        "class GroupedQueryAttention(nn.Module):\n",
        "    def __init__(self, config:LlamaConfig):\n",
        "        super().__init__()\n",
        "        self.config = config\n",
        "        assert config.embedding_dim % config.n_heads == 0 # config.n_heads * output of the embedding layer\n",
        "        assert config.n_heads % config.no_kv == 0                    # checikng the kv is equally divisible by no of heads\n",
        "        self.head_dim = config.embedding_dim // config.n_heads\n",
        "\n",
        "        self.heads = nn.ModuleList([AttentionHead(config) for _ in range(config.n_heads)])\n",
        "\n",
        "        self.K_cache = nn.Linear(config.embedding_dim, self.head_dim * config.no_kv)\n",
        "        self.V_cache = nn.Linear(config.embedding_dim, self.head_dim * config.no_kv)\n",
        "\n",
        "        self.dropout = nn.Dropout(p=config.dropout)\n",
        "        self.linear_MHA = nn.Linear(config.embedding_dim, config.embedding_dim)\n",
        "\n",
        "        self.rope = RoPE(head_dim = self.head_dim, seq_len = config.seq_len)\n",
        "\n",
        "\n",
        "    def forward(self, x): #bs * seq_len * embedding_dim\n",
        "        bs, seq_len, _ = x.shape\n",
        "\n",
        "        K = self.K_cache(x)    # #bs * seq_len * (head_dim * no_kv)\n",
        "        V = self.V_cache(x)    # #bs * seq_len * (head_dim * no_kv)\n",
        "\n",
        "        K, V = K.view(bs, seq_len, self.config.no_kv, self.head_dim), V.view(bs, seq_len, self.config.no_kv, self.head_dim)\n",
        "        heads = []\n",
        "\n",
        "        for idx, head in enumerate(self.heads):\n",
        "            i = idx // (self.config.n_heads // self.config.no_kv)\n",
        "            heads.append(head(self.rope(K[:,:,i,:]), V[:,:,i,:], x))\n",
        "\n",
        "        head = torch.cat(heads, dim=-1)                                #bs * seq_len * embedding_dim\n",
        "        head = self.dropout(self.linear_MHA(head))                     #bs * seq_len * embedding_dim\n",
        "        return head\n"
      ]
    },
    {
      "cell_type": "code",
      "execution_count": 16,
      "id": "205829d4",
      "metadata": {
        "colab": {
          "base_uri": "https://localhost:8080/"
        },
        "id": "205829d4",
        "outputId": "68eb7e83-337e-4921-e0b7-4eae6e3e24a3",
        "time_run": "1:52:59p"
      },
      "outputs": [
        {
          "data": {
            "text/plain": [
              "torch.Size([1, 128, 128])"
            ]
          },
          "execution_count": 16,
          "metadata": {},
          "output_type": "execute_result"
        }
      ],
      "source": [
        "gqa = GroupedQueryAttention(llamaConfig)\n",
        "gqa(emb_x[:1]).shape"
      ]
    },
    {
      "cell_type": "markdown",
      "id": "7aed5731",
      "metadata": {
        "id": "7aed5731",
        "solveit_ai": true
      },
      "source": [
        "any thing else i am missing ? Or should we move to build the finaldecoder model\n",
        "\n",
        "##### 🤖Reply🤖<!-- SOLVEIT_SEPARATOR_7f3a9b2c -->\n",
        "\n",
        "Nice work! Your GQA implementation looks solid. Just one small thing to consider:\n",
        "\n",
        "You're applying RoPE to K in the parent class (`self.rope(K[:,:,i,:])`), but also applying RoPE to Q inside `AttentionHead`. That's correct! Both Q and K should get RoPE applied.\n",
        "\n",
        "However, double-check that you're **not** applying RoPE to V - only Q and K should be rotated.\n",
        "\n",
        "Other than that, you have all the key LLaMA components:\n",
        "- ✅ RMSNorm\n",
        "- ✅ RoPE\n",
        "- ✅ SwiGLU FFN\n",
        "- ✅ Grouped Query Attention\n",
        "\n",
        "Ready to build the decoder block and stack them? Or do you want to test anything first?"
      ]
    },
    {
      "cell_type": "markdown",
      "id": "95a3c217",
      "metadata": {
        "id": "95a3c217"
      },
      "source": [
        "## Decoder Block"
      ]
    },
    {
      "cell_type": "markdown",
      "id": "919d36c0",
      "metadata": {
        "id": "919d36c0",
        "solveit_ai": true
      },
      "source": [
        "Lets go for decoder block?\n",
        "\n",
        "##### 🤖Reply🤖<!-- SOLVEIT_SEPARATOR_7f3a9b2c -->\n",
        "\n",
        "Great! Let's build the decoder block.\n",
        "\n",
        "In LLaMA, each decoder block has this structure:\n",
        "\n",
        "1. **RMSNorm** → **Grouped Query Attention** → **Residual connection**\n",
        "2. **RMSNorm** → **SwiGLU FFN** → **Residual connection**\n",
        "\n",
        "You already have most of this in your `GroupedQueryAttention` class (you're doing RMSNorm + residual at the end). But typically in LLaMA, the normalization happens **before** the sublayer (pre-norm), not after.\n",
        "\n",
        "So the pattern is:\n",
        "```\n",
        "x = x + attention(RMSNorm(x))\n",
        "x = x + ffn(RMSNorm(x))\n",
        "```\n",
        "\n",
        "Do you want to:\n",
        "1. Refactor your `GroupedQueryAttention` to remove the RMSNorm and residual (so it just returns the attention output)?\n",
        "2. Then create a `DecoderBlock` that handles the RMSNorm and residuals for both attention and FFN?\n",
        "\n",
        "Or would you prefer to keep your current structure and adjust the decoder block accordingly?"
      ]
    },
    {
      "cell_type": "code",
      "execution_count": 17,
      "id": "04b62ade",
      "metadata": {
        "id": "04b62ade",
        "time_run": "1:54:28p"
      },
      "outputs": [],
      "source": [
        "class DecoderBlock(nn.Module):\n",
        "    def __init__(self, config:LlamaConfig):\n",
        "        super().__init__()\n",
        "        self.attn_norm = RMSNorm(config.embedding_dim)\n",
        "        self.attn = GroupedQueryAttention(config)\n",
        "        self.ffn_norm = RMSNorm(config.embedding_dim)\n",
        "        self.ffn = SwiGLU_FFN(config.embedding_dim, config.dropout)\n",
        "    def forward(self, x):\n",
        "        x = x + self.attn(self.attn_norm(x))\n",
        "        return x + self.ffn(self.ffn_norm(x))"
      ]
    },
    {
      "cell_type": "code",
      "execution_count": 18,
      "id": "f663b172",
      "metadata": {
        "colab": {
          "base_uri": "https://localhost:8080/"
        },
        "id": "f663b172",
        "outputId": "6e479095-4cc3-48b1-dc6d-a7c924d1e935",
        "time_run": "1:57:24p"
      },
      "outputs": [
        {
          "data": {
            "text/plain": [
              "torch.Size([1, 128, 128])"
            ]
          },
          "execution_count": 18,
          "metadata": {},
          "output_type": "execute_result"
        }
      ],
      "source": [
        "decode = DecoderBlock(llamaConfig)\n",
        "decode(emb_x[:1]).shape"
      ]
    },
    {
      "cell_type": "markdown",
      "id": "7f7a850e",
      "metadata": {
        "id": "7f7a850e"
      },
      "source": [
        "## Final Model"
      ]
    },
    {
      "cell_type": "code",
      "execution_count": 19,
      "id": "19161432",
      "metadata": {
        "id": "19161432",
        "time_run": "2:02:44p"
      },
      "outputs": [],
      "source": [
        "class LlamaText(nn.Module):\n",
        "    def __init__(self, config:LlamaConfig):\n",
        "        super().__init__()\n",
        "\n",
        "        self.embed = Embedding(config)\n",
        "        self.blocks = nn.ModuleList(\n",
        "            [DecoderBlock(config) for _ in range(config.n_layers)])\n",
        "        self.final_norm = RMSNorm(config.embedding_dim)\n",
        "        self.lm_head = nn.Linear(config.embedding_dim, config.vocab_size)\n",
        "\n",
        "    def forward(self, x):\n",
        "        x = self.embed(x)\n",
        "        for block in self.blocks:\n",
        "            x = block(x)\n",
        "        return self.lm_head(self.final_norm(x))"
      ]
    },
    {
      "cell_type": "markdown",
      "id": "54ecc427",
      "metadata": {
        "id": "54ecc427",
        "solveit_ai": true
      },
      "source": [
        "Check the above implementation\n",
        "\n",
        "##### 🤖Reply🤖<!-- SOLVEIT_SEPARATOR_7f3a9b2c -->\n",
        "\n",
        "Excellent! Your LLaMA implementation looks great. The structure is correct:\n",
        "\n",
        "1. ✅ Embedding layer (without positional embeddings - RoPE handles that)\n",
        "2. ✅ Stack of decoder blocks with pre-norm architecture\n",
        "3. ✅ Final RMSNorm before the output\n",
        "4. ✅ Language modeling head to project back to vocab size\n",
        "\n",
        "The architecture matches LLaMA's design. A couple of things to verify:\n",
        "\n",
        "1. In your `GroupedQueryAttention` class, you have `self.linear_MHA` and `self.dropout` at the end - is that the output projection? That's good, just making sure it's there.\n",
        "\n",
        "2. Your `DecoderBlock` looks clean with the pre-norm pattern.\n",
        "\n",
        "Have you tested the full forward pass yet? Try running:\n",
        "```python\n",
        "model = LlamaText(llamaConfig)\n",
        "output = model(x)\n",
        "```\n",
        "\n",
        "Does it produce the expected shape `(bs, seq_len, vocab_size)`?"
      ]
    },
    {
      "cell_type": "code",
      "execution_count": 20,
      "id": "d1c64941",
      "metadata": {
        "colab": {
          "base_uri": "https://localhost:8080/"
        },
        "id": "d1c64941",
        "outputId": "69a4ccdb-83d5-4ad9-cd25-7cf99eb2bcf6",
        "time_run": "2:03:33p"
      },
      "outputs": [
        {
          "data": {
            "text/plain": [
              "torch.Size([1, 128, 65])"
            ]
          },
          "execution_count": 20,
          "metadata": {},
          "output_type": "execute_result"
        }
      ],
      "source": [
        "model = LlamaText(llamaConfig)\n",
        "output = model(x[:1])\n",
        "output.shape"
      ]
    },
    {
      "cell_type": "markdown",
      "id": "b76ea320",
      "metadata": {
        "id": "b76ea320",
        "solveit_ai": true,
        "use_thinking": true
      },
      "source": [
        "## Lets disscuss about weight init?\n",
        "\n",
        "##### 🤖Reply🤖<!-- SOLVEIT_SEPARATOR_7f3a9b2c -->\n",
        "\n",
        "Great topic! Weight initialization is crucial for training stability and convergence.\n",
        "\n",
        "For LLaMA-style models, there are a few key initialization strategies to consider:\n",
        "\n",
        "1. **Embedding layers** - typically initialized from a normal distribution\n",
        "2. **Linear layers** - Xavier/Kaiming initialization\n",
        "3. **Output projection scaling** - often scaled by 1/√(2*n_layers) to account for residual connections\n",
        "4. **RMSNorm scale parameters** - initialized to 1.0 (which you already have)\n",
        "\n",
        "What aspect would you like to focus on first? Or do you have specific questions about which layers need special initialization treatment?"
      ]
    },
    {
      "cell_type": "code",
      "execution_count": 21,
      "id": "c4f9a731",
      "metadata": {
        "colab": {
          "base_uri": "https://localhost:8080/"
        },
        "id": "c4f9a731",
        "outputId": "3bfd3bcd-e0e8-4e06-a5ee-b508bd212211",
        "time_run": "2:06:04p"
      },
      "outputs": [
        {
          "data": {
            "text/plain": [
              "LlamaText(\n",
              "  (embed): Embedding(\n",
              "    (embed): Embedding(65, 128)\n",
              "  )\n",
              "  (blocks): ModuleList(\n",
              "    (0-3): 4 x DecoderBlock(\n",
              "      (attn_norm): RMSNorm()\n",
              "      (attn): GroupedQueryAttention(\n",
              "        (heads): ModuleList(\n",
              "          (0-7): 8 x AttentionHead(\n",
              "            (Q_W): Linear(in_features=128, out_features=16, bias=True)\n",
              "            (rope): RoPE()\n",
              "            (dropout): Dropout(p=0.1, inplace=False)\n",
              "          )\n",
              "        )\n",
              "        (K_cache): Linear(in_features=128, out_features=16, bias=True)\n",
              "        (V_cache): Linear(in_features=128, out_features=16, bias=True)\n",
              "        (dropout): Dropout(p=0.1, inplace=False)\n",
              "        (linear_MHA): Linear(in_features=128, out_features=128, bias=True)\n",
              "        (rope): RoPE()\n",
              "      )\n",
              "      (ffn_norm): RMSNorm()\n",
              "      (ffn): SwiGLU_FFN(\n",
              "        (w): Linear(in_features=128, out_features=341, bias=False)\n",
              "        (v): Linear(in_features=128, out_features=341, bias=False)\n",
              "        (w2): Linear(in_features=341, out_features=128, bias=False)\n",
              "        (dropout): Dropout(p=0.1, inplace=False)\n",
              "      )\n",
              "    )\n",
              "  )\n",
              "  (final_norm): RMSNorm()\n",
              "  (lm_head): Linear(in_features=128, out_features=65, bias=True)\n",
              ")"
            ]
          },
          "execution_count": 21,
          "metadata": {},
          "output_type": "execute_result"
        }
      ],
      "source": [
        "model"
      ]
    },
    {
      "cell_type": "markdown",
      "id": "26dd0ac7",
      "metadata": {
        "id": "26dd0ac7"
      },
      "source": [
        "## Final LLAMA model"
      ]
    },
    {
      "cell_type": "code",
      "execution_count": 22,
      "id": "d8fc959c",
      "metadata": {
        "id": "d8fc959c",
        "time_run": "4:15:00p"
      },
      "outputs": [],
      "source": [
        "#|export\n",
        "class LlamaText(nn.Module):\n",
        "    def __init__(self, config:LlamaConfig):\n",
        "        super().__init__()\n",
        "        self.config = config\n",
        "\n",
        "        self.embed = Embedding(config)\n",
        "        self.blocks = nn.ModuleList(\n",
        "            [DecoderBlock(config) for _ in range(config.n_layers)])\n",
        "        self.final_norm = RMSNorm(config.embedding_dim)\n",
        "        self.lm_head = nn.Linear(config.embedding_dim, config.vocab_size)\n",
        "\n",
        "        self._init_weights()\n",
        "\n",
        "    def forward(self, x):\n",
        "        x = self.embed(x)\n",
        "        for block in self.blocks:\n",
        "            x = block(x)\n",
        "        return self.lm_head(self.final_norm(x))\n",
        "\n",
        "\n",
        "    def _init_weights(self):\n",
        "        \"\"\"Init\"\"\"\n",
        "        for name, module in self.named_modules():\n",
        "            if isinstance(module, nn.Linear):\n",
        "                std = 0.02\n",
        "                # Scale down residual projections\n",
        "                if 'linear_MHA' in name or 'w2' in name:\n",
        "                    std = 0.02 / ((2 * self.config.n_layers) ** 0.5)\n",
        "\n",
        "                module.weight.data.normal_(mean=0.0, std=std)\n",
        "                if module.bias is not None:\n",
        "                    module.bias.data.zero_()\n",
        "\n",
        "            elif isinstance(module, nn.Embedding):\n",
        "                module.weight.data.normal_(mean=0.0, std=0.02)\n",
        "\n",
        "    def decay_params(self):\n",
        "        \"\"\"\n",
        "        get decay params\n",
        "        \"\"\"\n",
        "        no_decay_params, decay_params = [], []\n",
        "        for name, param in self.named_parameters():\n",
        "            if 'bias' in name or 'norm' in name or 'embed' in name:\n",
        "                no_decay_params.append(param)\n",
        "            else:\n",
        "                decay_params.append(param)\n",
        "\n",
        "        return decay_params, no_decay_params\n"
      ]
    },
    {
      "cell_type": "code",
      "execution_count": 23,
      "id": "12e49ba9",
      "metadata": {
        "colab": {
          "base_uri": "https://localhost:8080/"
        },
        "id": "12e49ba9",
        "outputId": "a44fa941-a04d-4f58-a83d-3e93b1082b54",
        "time_run": "4:15:46p"
      },
      "outputs": [
        {
          "data": {
            "text/plain": [
              "31"
            ]
          },
          "execution_count": 23,
          "metadata": {},
          "output_type": "execute_result"
        }
      ],
      "source": [
        "len(text_dls['train'])"
      ]
    },
    {
      "cell_type": "code",
      "execution_count": 24,
      "id": "820106dc",
      "metadata": {
        "id": "820106dc",
        "time_run": "4:30:08p"
      },
      "outputs": [],
      "source": [
        "from torch.optim import AdamW\n",
        "optimizer = AdamW(model.parameters(), lr=2.01)\n",
        "\n",
        "pg = list(optimizer.param_groups)"
      ]
    },
    {
      "cell_type": "code",
      "execution_count": 25,
      "id": "91bb6f36",
      "metadata": {
        "colab": {
          "base_uri": "https://localhost:8080/"
        },
        "id": "91bb6f36",
        "outputId": "133d136a-7821-426c-ddb4-b75bc2120aff",
        "time_run": "4:30:21p"
      },
      "outputs": [
        {
          "data": {
            "text/plain": [
              "dict_keys(['params', 'lr', 'betas', 'eps', 'weight_decay', 'amsgrad', 'maximize', 'foreach', 'capturable', 'differentiable', 'fused', 'decoupled_weight_decay'])"
            ]
          },
          "execution_count": 25,
          "metadata": {},
          "output_type": "execute_result"
        }
      ],
      "source": [
        "pg[0].keys()"
      ]
    },
    {
      "cell_type": "code",
      "execution_count": 26,
      "id": "ca75263b",
      "metadata": {
        "id": "ca75263b",
        "time_run": "5:19:56p"
      },
      "outputs": [],
      "source": [
        "#|export\n",
        "from torch.optim import AdamW\n",
        "class Optim:\n",
        "    def __init__(self, model, config:LlamaConfig):\n",
        "        decay_params, no_decay_params = model.decay_params() # extract deacayable and non deacayable params\n",
        "\n",
        "        self.optim = optimizer = AdamW([\n",
        "            {'params': decay_params, 'weight_decay': 0.1},\n",
        "            {'params': no_decay_params, 'weight_decay': 0.0}\n",
        "        ], lr=config.min_lr)\n",
        "\n",
        "    def config_lr(self, step):\n",
        "        for param_group in self.optim.param_groups:\n",
        "            param_group['lr'] = get_cosine_lr(step)\n",
        "\n",
        "    def step(self): self.optim.step()\n",
        "\n",
        "    def zero(self): self.optim.zero_grad()"
      ]
    },
    {
      "cell_type": "code",
      "execution_count": 27,
      "id": "b3363626",
      "metadata": {
        "id": "b3363626",
        "time_run": "5:20:09p"
      },
      "outputs": [],
      "source": [
        "#|export\n",
        "\n",
        "import math\n",
        "def get_cosine_lr(\n",
        "    step,\n",
        "    warmup_steps=llamaConfig.warm_steps,\n",
        "    max_steps=llamaConfig.max_steps,\n",
        "    max_lr=llamaConfig.max_lr,\n",
        "    min_lr=llamaConfig.min_lr\n",
        "    ):\n",
        "    if step < warmup_steps:\n",
        "        return min_lr + (max_lr - min_lr) * step / warmup_steps\n",
        "    elif step < max_steps:\n",
        "        progress = (step - warmup_steps) / (max_steps - warmup_steps)\n",
        "        return min_lr + 0.5 * (max_lr - min_lr) * (1 + math.cos(math.pi * progress))\n",
        "    else:\n",
        "        return min_lr\n"
      ]
    },
    {
      "cell_type": "code",
      "execution_count": 28,
      "id": "5bc6237b",
      "metadata": {
        "colab": {
          "base_uri": "https://localhost:8080/",
          "height": 472
        },
        "id": "5bc6237b",
        "outputId": "3ce50f11-438a-4724-81e4-b5d3d09ac9e0",
        "time_run": "5:20:14p"
      },
      "outputs": [
        {
          "data": {
            "image/png": "[encoded data removed]",
            "text/plain": [
              "<Figure size 640x480 with 1 Axes>"
            ]
          },
          "metadata": {},
          "output_type": "display_data"
        }
      ],
      "source": [
        "steps = torch.arange(llamaConfig.max_steps)\n",
        "lrs = [get_cosine_lr(step) for step in steps]\n",
        "\n",
        "import matplotlib.pyplot as plt\n",
        "plt.plot(steps, lrs)\n",
        "plt.xlabel('Steps')\n",
        "plt.ylabel('Learning Rate')\n",
        "plt.title('Cosine Learning Rate Schedule')\n",
        "plt.grid(True)\n",
        "plt.show()"
      ]
    },
    {
      "cell_type": "code",
      "execution_count": 29,
      "id": "071631b8",
      "metadata": {
        "id": "071631b8",
        "time_run": "5:18:06p"
      },
      "outputs": [],
      "source": [
        "#|export\n",
        "from torch.nn.utils import clip_grad_norm_\n",
        "loss_func = nn.CrossEntropyLoss()\n",
        "def train(model):\n",
        "    model = model.to(llamaConfig.device)\n",
        "\n",
        "    optimizer = Optim(model, llamaConfig)\n",
        "\n",
        "    step = 0\n",
        "    for epoch in range(llamaConfig.epochs):\n",
        "        model.train()\n",
        "        train_loss, no_train = 0, 0\n",
        "\n",
        "        for x, y in text_dls['train']: # Iterate directly over\n",
        "            step += 1\n",
        "            no_train += 1\n",
        "\n",
        "            x, y = x.to(llamaConfig.device), y.to(llamaConfig.device)           # move to device\n",
        "\n",
        "            optimizer.config_lr(step)                                           # set lr for each step\n",
        "            optimizer.zero()\n",
        "\n",
        "            with torch.autocast(device_type=llamaConfig.device, dtype=llamaConfig.dtype):\n",
        "              logits = model(x)\n",
        "\n",
        "              loss = loss_func(logits.reshape(-1, llamaConfig.vocab_size), y.reshape(-1))\n",
        "\n",
        "            loss.backward()\n",
        "\n",
        "            clip_grad_norm_(model.parameters(), llamaConfig.max_grad_norm) # to clip gradients\n",
        "\n",
        "            optimizer.step()\n",
        "\n",
        "            train_loss += loss.item()\n",
        "\n",
        "        model.eval()\n",
        "        val_loss, no_valid = 0, 0\n",
        "        with torch.no_grad(), torch.autocast(device_type=llamaConfig.device, dtype=llamaConfig.dtype):\n",
        "            for x, y in text_dls['valid']:\n",
        "                no_valid += 1\n",
        "\n",
        "                x, y = x.to(llamaConfig.device), y.to(llamaConfig.device)\n",
        "\n",
        "                logits = model(x)\n",
        "                loss = loss_func(logits.reshape(-1, llamaConfig.vocab_size), y.reshape(-1))\n",
        "\n",
        "                val_loss += loss.item()\n",
        "\n",
        "        print(f\"{epoch} -> {train_loss/no_train:.4f} : {val_loss/no_valid:.4f}\")\n",
        "\n"
      ]
    },
    {
      "cell_type": "markdown",
      "id": "fb10e444",
      "metadata": {
        "id": "fb10e444"
      },
      "source": [
        "## Inferenece"
      ]
    },
    {
      "cell_type": "code",
      "execution_count": 30,
      "id": "608022ab",
      "metadata": {
        "id": "608022ab",
        "time_run": "5:23:06p"
      },
      "outputs": [],
      "source": [
        "@torch.no_grad()\n",
        "def generate(prompt, max_new_tokens=100, temperature=1.0):\n",
        "    \"\"\"\n",
        "    prompt: string to start generation\n",
        "    max_new_tokens: how many tokens to generate\n",
        "    temperature: higher = more random, lower = more deterministic\n",
        "    \"\"\"\n",
        "    model.eval()\n",
        "    tokens = tokenizer.encode(prompt)\n",
        "    tokens = torch.tensor(tokens).unsqueeze(0)  # Add batch dim\n",
        "    tokens = tokens.to(llamaConfig.device)\n",
        "    for _ in range(max_new_tokens):\n",
        "        # Crop to last seq_len tokens if needed\n",
        "        context = tokens if tokens.size(1) <= model.embed.pos_ids.size(0) else tokens[:, -model.embed.pos_ids.size(0):]\n",
        "\n",
        "        # Get predictions\n",
        "        with torch.no_grad(), torch.autocast(device_type=llamaConfig.device, dtype=torch.bfloat16):\n",
        "          logits = model(context)\n",
        "        logits = logits[:, -1, :] / temperature  # Focus on last token\n",
        "\n",
        "        # Sample next token\n",
        "        probs = torch.softmax(logits, dim=-1)\n",
        "        next_token = torch.multinomial(probs, num_samples=1)\n",
        "\n",
        "        # Append to sequence\n",
        "        tokens = torch.cat([tokens, next_token], dim=1)\n",
        "\n",
        "    return tokenizer.decode(tokens.squeeze().tolist())"
      ]
    },
    {
      "cell_type": "code",
      "execution_count": 31,
      "id": "WOnM4HEM-iqC",
      "metadata": {
        "colab": {
          "base_uri": "https://localhost:8080/"
        },
        "id": "WOnM4HEM-iqC",
        "outputId": "1b5701f0-7185-4d37-ce38-59dcd7b70237"
      },
      "outputs": [
        {
          "name": "stdout",
          "output_type": "stream",
          "text": [
            "0 -> 3.5532 : 3.1582\n",
            "1 -> 2.9167 : 2.7385\n",
            "2 -> 2.6159 : 2.4935\n",
            "3 -> 2.4004 : 2.2873\n",
            "4 -> 2.2113 : 2.1347\n",
            "5 -> 2.0416 : 2.0048\n",
            "6 -> 1.9092 : 1.9156\n",
            "7 -> 1.8110 : 1.8543\n",
            "8 -> 1.7330 : 1.8040\n",
            "9 -> 1.6719 : 1.7541\n",
            "10 -> 1.6245 : 1.7303\n",
            "11 -> 1.5846 : 1.7028\n",
            "12 -> 1.5526 : 1.6750\n",
            "13 -> 1.5285 : 1.6664\n",
            "14 -> 1.5066 : 1.6412\n",
            "15 -> 1.4903 : 1.6271\n",
            "16 -> 1.4741 : 1.6202\n",
            "17 -> 1.4606 : 1.6131\n",
            "18 -> 1.4481 : 1.6053\n",
            "19 -> 1.4386 : 1.5980\n",
            "20 -> 1.4296 : 1.5936\n",
            "21 -> 1.4218 : 1.5851\n",
            "22 -> 1.4143 : 1.5807\n",
            "23 -> 1.4089 : 1.5784\n",
            "24 -> 1.4031 : 1.5749\n",
            "25 -> 1.3983 : 1.5711\n",
            "26 -> 1.3948 : 1.5670\n",
            "27 -> 1.3907 : 1.5680\n",
            "28 -> 1.3869 : 1.5641\n",
            "29 -> 1.3842 : 1.5632\n"
          ]
        }
      ],
      "source": [
        "model = LlamaText(llamaConfig)\n",
        "train(model)"
      ]
    },
    {
      "cell_type": "markdown",
      "id": "WR_FCa3IEHho",
      "metadata": {
        "id": "WR_FCa3IEHho"
      },
      "source": [
        "1. no_kv = 8 : `29 -> 1.3763 : 1.5724`\n",
        "1. no_kv = 4 : `29 -> 1.3781 : 1.5566`\n",
        "1. no_kv = 2 : `29 -> 1.3955 : 1.5710`\n",
        "1. no_kv = 1 : `29 -> 1.3842 : 1.5632`\n",
        "\n"
      ]
    },
    {
      "cell_type": "code",
      "execution_count": 33,
      "id": "uE8SQT22-1Zm",
      "metadata": {
        "colab": {
          "base_uri": "https://localhost:8080/"
        },
        "id": "uE8SQT22-1Zm",
        "outputId": "26e6c140-3f30-441b-bd89-c9e50e62f7c9"
      },
      "outputs": [
        {
          "name": "stdout",
          "output_type": "stream",
          "text": [
            "To be or not to be now, let\n",
            "they say.\n",
            "\n",
            "First Citizen:\n",
            "None, and thou hast never as his suppose,\n",
            "With hate the eyes of my love's lipful might\n",
            "brave the certains. W, not the prince, which in the bislant\n",
            "Partilys and worruples that my blame bold,\n",
            "And being cursed from to my son and with itself\n",
            "The God of love.\n",
            "\n",
            "GREMIO:\n",
            "As come to the gentle his ZorINGFNnet with oyself,\n",
            "So first he chide him, that thou hast thou, is zens\n",
            "Rejeiks to your grace!\n",
            "\n",
            "VOLUMNIA:\n",
            "No, good that as Barnardins, did repent,\n",
            "The sewSs of Parisia pr'd me on us\n"
          ]
        }
      ],
      "source": [
        "print(generate(\"To be or not to be\", max_new_tokens=512))"
      ]
    },
    {
      "cell_type": "code",
      "execution_count": 32,
      "id": "o8A3-G9RAOwu",
      "metadata": {
        "id": "o8A3-G9RAOwu"
      },
      "outputs": [],
      "source": []
    }
  ],
  "metadata": {
    "accelerator": "GPU",
    "colab": {
      "gpuType": "T4",
      "provenance": []
    },
    "kernelspec": {
      "display_name": "Python 3",
      "name": "python3"
    },
    "language_info": {
      "name": "python"
    },
    "solveit_dialog_mode": "learning",
    "solveit_ver": 2
  },
  "nbformat": 4,
  "nbformat_minor": 5
}
